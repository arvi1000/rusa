{
 "cells": [
  {
   "cell_type": "code",
   "execution_count": 1,
   "id": "8dcd8925",
   "metadata": {},
   "outputs": [],
   "source": [
    "import pandas as pd\n",
    "from time import sleep\n",
    "from tqdm import tqdm\n",
    "#from itertools import compress"
   ]
  },
  {
   "cell_type": "code",
   "execution_count": 2,
   "id": "1c952d42",
   "metadata": {},
   "outputs": [],
   "source": [
    "TARGET_YEAR = '2009'"
   ]
  },
  {
   "cell_type": "code",
   "execution_count": 3,
   "id": "e7b48d82",
   "metadata": {},
   "outputs": [],
   "source": [
    "def check_YYYY(YYYY):\n",
    "    is_good = isinstance(YYYY, str) and len(YYYY) == 4 and YYYY.isdigit()\n",
    "    if(not(is_good)):\n",
    "       raise Exception(\"Bad args\")\n",
    "    return(is_good)"
   ]
  },
  {
   "cell_type": "code",
   "execution_count": 4,
   "id": "5353ce77",
   "metadata": {},
   "outputs": [],
   "source": [
    "def clean_names(old_cols):\n",
    "    new_cols = [c.lower().replace('#', '') for c in old_cols]\n",
    "    return(new_cols)"
   ]
  },
  {
   "cell_type": "code",
   "execution_count": 5,
   "id": "74044b4e",
   "metadata": {},
   "outputs": [],
   "source": [
    "def get_events(YYYY):\n",
    "    check_YYYY(YYYY)\n",
    "    url = f\"https://rusa.org/cgi-bin/resultsearch_PF.pl?regid=&date={YYYY}&type=&dist=&rtid=&esortby=cert&collapse=0\"\n",
    "    print(url)\n",
    "    \n",
    "    # get versions with and without links\n",
    "    dat_links = pd.read_html(url, extract_links='all')[0]\n",
    "    dat = pd.read_html(url)[0]\n",
    "    \n",
    "    # break apart tuples to get urls. we'll have columns called 0 and 1\n",
    "        # TODO: validate it contains Route and select columns\n",
    "    route_ids = pd.DataFrame(dat_links[('Route', None)].tolist(), \n",
    "                             index=dat_links.index)\n",
    "    event_ids = pd.DataFrame(dat_links[('select', None)].tolist(), \n",
    "                             index=dat_links.index)\n",
    "\n",
    "    # extract ids from link urls in column 1\n",
    "        # TODO validate regex, in case format changes\n",
    "    dat['rt_url'] = route_ids[1]\n",
    "    dat['rtid'] = route_ids[1].str.extract('^.*rtid=(.*)')\n",
    "    dat['event_url'] = event_ids[1]\n",
    "    dat['eid'] = event_ids[1].str.extract('^.*eid=(.*)&')\n",
    "    \n",
    "    # clean col names\n",
    "    new_cols = [c.lower() for c in list(dat.columns)]\n",
    "    dat.columns = new_cols\n",
    "\n",
    "    # drop first row and the 'select' column\n",
    "    dat = dat.drop(0, axis=0)\n",
    "    dat = dat.drop('select', axis=1)\n",
    "\n",
    "    return(dat)"
   ]
  },
  {
   "cell_type": "code",
   "execution_count": 6,
   "id": "f4da9b9b",
   "metadata": {},
   "outputs": [
    {
     "name": "stdout",
     "output_type": "stream",
     "text": [
      "https://rusa.org/cgi-bin/resultsearch_PF.pl?regid=&date=2009&type=&dist=&rtid=&esortby=cert&collapse=0\n"
     ]
    },
    {
     "data": {
      "text/html": [
       "<div>\n",
       "<style scoped>\n",
       "    .dataframe tbody tr th:only-of-type {\n",
       "        vertical-align: middle;\n",
       "    }\n",
       "\n",
       "    .dataframe tbody tr th {\n",
       "        vertical-align: top;\n",
       "    }\n",
       "\n",
       "    .dataframe thead th {\n",
       "        text-align: right;\n",
       "    }\n",
       "</style>\n",
       "<table border=\"1\" class=\"dataframe\">\n",
       "  <thead>\n",
       "    <tr style=\"text-align: right;\">\n",
       "      <th></th>\n",
       "      <th>region</th>\n",
       "      <th>club</th>\n",
       "      <th>type</th>\n",
       "      <th>distance</th>\n",
       "      <th>date</th>\n",
       "      <th>route</th>\n",
       "      <th>rt_url</th>\n",
       "      <th>rtid</th>\n",
       "      <th>event_url</th>\n",
       "      <th>eid</th>\n",
       "    </tr>\n",
       "  </thead>\n",
       "  <tbody>\n",
       "    <tr>\n",
       "      <th>1</th>\n",
       "      <td>TX: Dallas</td>\n",
       "      <td>Lone Star Randonneurs / 943026</td>\n",
       "      <td>ACPB</td>\n",
       "      <td>200</td>\n",
       "      <td>2009/01/01</td>\n",
       "      <td>This Ain't no Club Ride 204</td>\n",
       "      <td>/cgi-bin/routesearch_PF.pl?rtid=398</td>\n",
       "      <td>398</td>\n",
       "      <td>/cgi-bin/resultsearch_PF.pl?eid=2213&amp;esortby=cert</td>\n",
       "      <td>2213</td>\n",
       "    </tr>\n",
       "    <tr>\n",
       "      <th>2</th>\n",
       "      <td>GA: Atlanta</td>\n",
       "      <td>Audax Atlanta / 910004</td>\n",
       "      <td>RUSAB</td>\n",
       "      <td>200</td>\n",
       "      <td>2009/01/01</td>\n",
       "      <td>Augusta Georgia 200k</td>\n",
       "      <td>/cgi-bin/routesearch_PF.pl?rtid=533</td>\n",
       "      <td>533</td>\n",
       "      <td>/cgi-bin/resultsearch_PF.pl?eid=2089&amp;esortby=cert</td>\n",
       "      <td>2089</td>\n",
       "    </tr>\n",
       "    <tr>\n",
       "      <th>3</th>\n",
       "      <td>NC: High Point</td>\n",
       "      <td>Bicycle For Life Club / 933057</td>\n",
       "      <td>ACPB</td>\n",
       "      <td>200</td>\n",
       "      <td>2009/01/03</td>\n",
       "      <td>route 693 (unnamed)</td>\n",
       "      <td>/cgi-bin/routesearch_PF.pl?rtid=693</td>\n",
       "      <td>693</td>\n",
       "      <td>/cgi-bin/resultsearch_PF.pl?eid=2196&amp;esortby=cert</td>\n",
       "      <td>2196</td>\n",
       "    </tr>\n",
       "    <tr>\n",
       "      <th>4</th>\n",
       "      <td>CA: San Diego</td>\n",
       "      <td>San Diego Randonneurs / 905140</td>\n",
       "      <td>ACPB</td>\n",
       "      <td>200</td>\n",
       "      <td>2009/01/03</td>\n",
       "      <td>Rainbow 200K</td>\n",
       "      <td>/cgi-bin/routesearch_PF.pl?rtid=253</td>\n",
       "      <td>253</td>\n",
       "      <td>/cgi-bin/resultsearch_PF.pl?eid=1990&amp;esortby=cert</td>\n",
       "      <td>1990</td>\n",
       "    </tr>\n",
       "    <tr>\n",
       "      <th>5</th>\n",
       "      <td>TX: Houston</td>\n",
       "      <td>Houston Randonneurs / 943030</td>\n",
       "      <td>ACPB</td>\n",
       "      <td>200</td>\n",
       "      <td>2009/01/03</td>\n",
       "      <td>route 289 (unnamed)</td>\n",
       "      <td>/cgi-bin/routesearch_PF.pl?rtid=289</td>\n",
       "      <td>289</td>\n",
       "      <td>/cgi-bin/resultsearch_PF.pl?eid=2005&amp;esortby=cert</td>\n",
       "      <td>2005</td>\n",
       "    </tr>\n",
       "  </tbody>\n",
       "</table>\n",
       "</div>"
      ],
      "text/plain": [
       "           region                            club   type  distance  \\\n",
       "1      TX: Dallas  Lone Star Randonneurs / 943026   ACPB       200   \n",
       "2     GA: Atlanta          Audax Atlanta / 910004  RUSAB       200   \n",
       "3  NC: High Point  Bicycle For Life Club / 933057   ACPB       200   \n",
       "4   CA: San Diego  San Diego Randonneurs / 905140   ACPB       200   \n",
       "5     TX: Houston    Houston Randonneurs / 943030   ACPB       200   \n",
       "\n",
       "         date                        route  \\\n",
       "1  2009/01/01  This Ain't no Club Ride 204   \n",
       "2  2009/01/01         Augusta Georgia 200k   \n",
       "3  2009/01/03          route 693 (unnamed)   \n",
       "4  2009/01/03                 Rainbow 200K   \n",
       "5  2009/01/03          route 289 (unnamed)   \n",
       "\n",
       "                                rt_url rtid  \\\n",
       "1  /cgi-bin/routesearch_PF.pl?rtid=398  398   \n",
       "2  /cgi-bin/routesearch_PF.pl?rtid=533  533   \n",
       "3  /cgi-bin/routesearch_PF.pl?rtid=693  693   \n",
       "4  /cgi-bin/routesearch_PF.pl?rtid=253  253   \n",
       "5  /cgi-bin/routesearch_PF.pl?rtid=289  289   \n",
       "\n",
       "                                           event_url   eid  \n",
       "1  /cgi-bin/resultsearch_PF.pl?eid=2213&esortby=cert  2213  \n",
       "2  /cgi-bin/resultsearch_PF.pl?eid=2089&esortby=cert  2089  \n",
       "3  /cgi-bin/resultsearch_PF.pl?eid=2196&esortby=cert  2196  \n",
       "4  /cgi-bin/resultsearch_PF.pl?eid=1990&esortby=cert  1990  \n",
       "5  /cgi-bin/resultsearch_PF.pl?eid=2005&esortby=cert  2005  "
      ]
     },
     "execution_count": 6,
     "metadata": {},
     "output_type": "execute_result"
    }
   ],
   "source": [
    "events = get_events(TARGET_YEAR)\n",
    "events.head()"
   ]
  },
  {
   "cell_type": "code",
   "execution_count": 7,
   "id": "89eff76f",
   "metadata": {},
   "outputs": [],
   "source": [
    "def get_event_details_results(eid):\n",
    "    \n",
    "    event_url = f\"https://rusa.org/cgi-bin/resultsearch_PF.pl?eid={eid}&esortby=cert\"\n",
    "    #print(event_url)\n",
    "    two_dats = pd.read_html(event_url)\n",
    "    \n",
    "    event_details = two_dats[0]\n",
    "    event_details.columns = clean_names(list(event_details.columns))\n",
    "    event_details['eid'] = eid\n",
    "\n",
    "    # warn if we only get one table back\n",
    "    if(len(two_dats)<2):\n",
    "        #print(f'Warning: no finisher results for event {eid}!')\n",
    "        event_results = pd.DataFrame()\n",
    "    else:\n",
    "        event_results = two_dats[1]\n",
    "        event_results.columns = clean_names(list(event_results.columns))\n",
    "        # drop the rows 'x nonmembers also finished'\n",
    "        try:\n",
    "            event_results = event_results.drop(\n",
    "                event_results[event_results.cert.str.contains('also finished')].index\n",
    "            )\n",
    "        except:\n",
    "            pass\n",
    "            #print(f\"eid {eid} - couldn't drop 'non member' result rows\")\n",
    "        event_results['eid'] = eid\n",
    "    \n",
    "    return([event_details,event_results])"
   ]
  },
  {
   "cell_type": "code",
   "execution_count": 8,
   "id": "2f60f266",
   "metadata": {},
   "outputs": [
    {
     "data": {
      "text/plain": [
       "type\n",
       "ACPB     227\n",
       "ACPF      12\n",
       "RM         4\n",
       "RUSAB    145\n",
       "RUSAF      5\n",
       "RUSAP     35\n",
       "dtype: int64"
      ]
     },
     "execution_count": 8,
     "metadata": {},
     "output_type": "execute_result"
    }
   ],
   "source": [
    "events.groupby('type').size()"
   ]
  },
  {
   "cell_type": "code",
   "execution_count": 9,
   "id": "f91bd324",
   "metadata": {},
   "outputs": [],
   "source": [
    "# https://rusa.org/pages/eventtypes\n",
    "non_team_types = ['ACPB', 'RM', 'RUSAB', 'RUSAP']"
   ]
  },
  {
   "cell_type": "code",
   "execution_count": 10,
   "id": "06440323",
   "metadata": {},
   "outputs": [
    {
     "name": "stdout",
     "output_type": "stream",
     "text": [
      "411\n"
     ]
    }
   ],
   "source": [
    "# list of event ids for the non team event types, for which we'll get results/details\n",
    "event_ids = events[events.type.isin(non_team_types)].eid.to_list()\n",
    "print(len(event_ids))"
   ]
  },
  {
   "cell_type": "code",
   "execution_count": 11,
   "id": "6b1f37d9",
   "metadata": {},
   "outputs": [],
   "source": [
    "e_detail_list = []\n",
    "e_results_list = []"
   ]
  },
  {
   "cell_type": "code",
   "execution_count": 12,
   "id": "34166835",
   "metadata": {},
   "outputs": [
    {
     "name": "stderr",
     "output_type": "stream",
     "text": [
      "100%|█████████████████████████████████████████| 411/411 [03:30<00:00,  1.95it/s]\n"
     ]
    }
   ],
   "source": [
    "for e in tqdm(event_ids):\n",
    "    #print(e)\n",
    "    this_d_e = get_event_details_results(e)\n",
    "    e_detail_list.append(this_d_e[0])\n",
    "    e_results_list.append(this_d_e[1])\n",
    "    # sleep roughly every nth call (assuming event ids are consecutive ints)\n",
    "    if(int(e) % 10 == 0):\n",
    "        #print('Sleeping')\n",
    "        sleep(.5)"
   ]
  },
  {
   "cell_type": "code",
   "execution_count": 13,
   "id": "a409487e",
   "metadata": {},
   "outputs": [
    {
     "name": "stdout",
     "output_type": "stream",
     "text": [
      "411 411 411\n"
     ]
    }
   ],
   "source": [
    "# should all be the same\n",
    "print(len(e_detail_list), len(e_results_list), len(event_ids))"
   ]
  },
  {
   "cell_type": "code",
   "execution_count": 14,
   "id": "6e46b5ea",
   "metadata": {},
   "outputs": [],
   "source": [
    "event_results = pd.concat(e_results_list)"
   ]
  },
  {
   "cell_type": "code",
   "execution_count": 15,
   "id": "c8ec0a48",
   "metadata": {},
   "outputs": [],
   "source": [
    "event_details = pd.concat(e_detail_list)"
   ]
  },
  {
   "cell_type": "code",
   "execution_count": 16,
   "id": "b8084458",
   "metadata": {},
   "outputs": [],
   "source": [
    "# for when i forgot to filter team events before getting results; \n",
    "# the format is different and messes stuff up, plus i don't care about those results right now\n",
    "# erl2 = list(compress(e_results_list, \n",
    "#                      events.type.isin(non_team_types)))"
   ]
  },
  {
   "cell_type": "code",
   "execution_count": 17,
   "id": "ebbe02c4",
   "metadata": {},
   "outputs": [],
   "source": [
    "event_details.reset_index(inplace=True, drop=True)\n",
    "event_results.reset_index(inplace=True, drop=True)"
   ]
  },
  {
   "cell_type": "code",
   "execution_count": 18,
   "id": "768fb25c",
   "metadata": {},
   "outputs": [
    {
     "data": {
      "text/html": [
       "<div>\n",
       "<style scoped>\n",
       "    .dataframe tbody tr th:only-of-type {\n",
       "        vertical-align: middle;\n",
       "    }\n",
       "\n",
       "    .dataframe tbody tr th {\n",
       "        vertical-align: top;\n",
       "    }\n",
       "\n",
       "    .dataframe thead th {\n",
       "        text-align: right;\n",
       "    }\n",
       "</style>\n",
       "<table border=\"1\" class=\"dataframe\">\n",
       "  <thead>\n",
       "    <tr style=\"text-align: right;\">\n",
       "      <th></th>\n",
       "      <th>cert</th>\n",
       "      <th>rusa</th>\n",
       "      <th>name</th>\n",
       "      <th>club / acp code</th>\n",
       "      <th>time</th>\n",
       "      <th>medal</th>\n",
       "      <th>eid</th>\n",
       "    </tr>\n",
       "  </thead>\n",
       "  <tbody>\n",
       "    <tr>\n",
       "      <th>0</th>\n",
       "      <td>277877</td>\n",
       "      <td>4561</td>\n",
       "      <td>APPLEWHAITE, John O</td>\n",
       "      <td>Hill Country Randonneurs / 943025</td>\n",
       "      <td>10:40</td>\n",
       "      <td>NaN</td>\n",
       "      <td>2213</td>\n",
       "    </tr>\n",
       "    <tr>\n",
       "      <th>1</th>\n",
       "      <td>277878</td>\n",
       "      <td>2987</td>\n",
       "      <td>ARMSTRONG, Shanna</td>\n",
       "      <td>Lone Star Randonneurs / 943026</td>\n",
       "      <td>08:10</td>\n",
       "      <td>NaN</td>\n",
       "      <td>2213</td>\n",
       "    </tr>\n",
       "    <tr>\n",
       "      <th>2</th>\n",
       "      <td>277879</td>\n",
       "      <td>2362</td>\n",
       "      <td>BARNELL, Brenda</td>\n",
       "      <td>Lone Star Randonneurs / 943026</td>\n",
       "      <td>08:31</td>\n",
       "      <td>NaN</td>\n",
       "      <td>2213</td>\n",
       "    </tr>\n",
       "    <tr>\n",
       "      <th>3</th>\n",
       "      <td>277880</td>\n",
       "      <td>736</td>\n",
       "      <td>BREAUD, Debbie</td>\n",
       "      <td>Lone Star Randonneurs / 943026</td>\n",
       "      <td>08:54</td>\n",
       "      <td>NaN</td>\n",
       "      <td>2213</td>\n",
       "    </tr>\n",
       "    <tr>\n",
       "      <th>4</th>\n",
       "      <td>277881</td>\n",
       "      <td>390</td>\n",
       "      <td>DRISCOLL, Dan</td>\n",
       "      <td>Lone Star Randonneurs / 943026</td>\n",
       "      <td>08:10</td>\n",
       "      <td>NaN</td>\n",
       "      <td>2213</td>\n",
       "    </tr>\n",
       "  </tbody>\n",
       "</table>\n",
       "</div>"
      ],
      "text/plain": [
       "     cert  rusa                 name                    club / acp code  \\\n",
       "0  277877  4561  APPLEWHAITE, John O  Hill Country Randonneurs / 943025   \n",
       "1  277878  2987    ARMSTRONG, Shanna     Lone Star Randonneurs / 943026   \n",
       "2  277879  2362      BARNELL, Brenda     Lone Star Randonneurs / 943026   \n",
       "3  277880   736       BREAUD, Debbie     Lone Star Randonneurs / 943026   \n",
       "4  277881   390        DRISCOLL, Dan     Lone Star Randonneurs / 943026   \n",
       "\n",
       "    time medal   eid  \n",
       "0  10:40   NaN  2213  \n",
       "1  08:10   NaN  2213  \n",
       "2  08:31   NaN  2213  \n",
       "3  08:54   NaN  2213  \n",
       "4  08:10   NaN  2213  "
      ]
     },
     "execution_count": 18,
     "metadata": {},
     "output_type": "execute_result"
    }
   ],
   "source": [
    "event_results.head()"
   ]
  },
  {
   "cell_type": "code",
   "execution_count": 19,
   "id": "870f6c82",
   "metadata": {},
   "outputs": [
    {
     "data": {
      "text/html": [
       "<div>\n",
       "<style scoped>\n",
       "    .dataframe tbody tr th:only-of-type {\n",
       "        vertical-align: middle;\n",
       "    }\n",
       "\n",
       "    .dataframe tbody tr th {\n",
       "        vertical-align: top;\n",
       "    }\n",
       "\n",
       "    .dataframe thead th {\n",
       "        text-align: right;\n",
       "    }\n",
       "</style>\n",
       "<table border=\"1\" class=\"dataframe\">\n",
       "  <thead>\n",
       "    <tr style=\"text-align: right;\">\n",
       "      <th></th>\n",
       "      <th>region</th>\n",
       "      <th>club</th>\n",
       "      <th>type</th>\n",
       "      <th>distance</th>\n",
       "      <th>date</th>\n",
       "      <th>finishers</th>\n",
       "      <th>dnf</th>\n",
       "      <th>eid</th>\n",
       "    </tr>\n",
       "  </thead>\n",
       "  <tbody>\n",
       "    <tr>\n",
       "      <th>0</th>\n",
       "      <td>TX: Dallas</td>\n",
       "      <td>Lone Star Randonneurs / 943026</td>\n",
       "      <td>ACPB</td>\n",
       "      <td>200</td>\n",
       "      <td>2009/01/01</td>\n",
       "      <td>33</td>\n",
       "      <td>3</td>\n",
       "      <td>2213</td>\n",
       "    </tr>\n",
       "    <tr>\n",
       "      <th>1</th>\n",
       "      <td>GA: Atlanta</td>\n",
       "      <td>Audax Atlanta / 910004</td>\n",
       "      <td>RUSAB</td>\n",
       "      <td>200</td>\n",
       "      <td>2009/01/01</td>\n",
       "      <td>18</td>\n",
       "      <td>2</td>\n",
       "      <td>2089</td>\n",
       "    </tr>\n",
       "    <tr>\n",
       "      <th>2</th>\n",
       "      <td>NC: High Point</td>\n",
       "      <td>Bicycle For Life Club / 933057</td>\n",
       "      <td>ACPB</td>\n",
       "      <td>200</td>\n",
       "      <td>2009/01/03</td>\n",
       "      <td>22</td>\n",
       "      <td>1</td>\n",
       "      <td>2196</td>\n",
       "    </tr>\n",
       "    <tr>\n",
       "      <th>3</th>\n",
       "      <td>CA: San Diego</td>\n",
       "      <td>San Diego Randonneurs / 905140</td>\n",
       "      <td>ACPB</td>\n",
       "      <td>200</td>\n",
       "      <td>2009/01/03</td>\n",
       "      <td>42</td>\n",
       "      <td>5</td>\n",
       "      <td>1990</td>\n",
       "    </tr>\n",
       "    <tr>\n",
       "      <th>4</th>\n",
       "      <td>TX: Houston</td>\n",
       "      <td>Houston Randonneurs / 943030</td>\n",
       "      <td>ACPB</td>\n",
       "      <td>200</td>\n",
       "      <td>2009/01/03</td>\n",
       "      <td>23</td>\n",
       "      <td>2</td>\n",
       "      <td>2005</td>\n",
       "    </tr>\n",
       "  </tbody>\n",
       "</table>\n",
       "</div>"
      ],
      "text/plain": [
       "           region                            club   type  distance  \\\n",
       "0      TX: Dallas  Lone Star Randonneurs / 943026   ACPB       200   \n",
       "1     GA: Atlanta          Audax Atlanta / 910004  RUSAB       200   \n",
       "2  NC: High Point  Bicycle For Life Club / 933057   ACPB       200   \n",
       "3   CA: San Diego  San Diego Randonneurs / 905140   ACPB       200   \n",
       "4     TX: Houston    Houston Randonneurs / 943030   ACPB       200   \n",
       "\n",
       "         date  finishers  dnf   eid  \n",
       "0  2009/01/01         33    3  2213  \n",
       "1  2009/01/01         18    2  2089  \n",
       "2  2009/01/03         22    1  2196  \n",
       "3  2009/01/03         42    5  1990  \n",
       "4  2009/01/03         23    2  2005  "
      ]
     },
     "execution_count": 19,
     "metadata": {},
     "output_type": "execute_result"
    }
   ],
   "source": [
    "event_details.head()"
   ]
  },
  {
   "cell_type": "code",
   "execution_count": 20,
   "id": "88cb0cdd",
   "metadata": {},
   "outputs": [],
   "source": [
    "event_details.to_csv(f'raw_data/event_details_{TARGET_YEAR}.csv', index=False)"
   ]
  },
  {
   "cell_type": "code",
   "execution_count": 21,
   "id": "0b6a3c7a",
   "metadata": {},
   "outputs": [],
   "source": [
    "event_results.to_csv(f'raw_data/event_results_{TARGET_YEAR}.csv', index=False)"
   ]
  },
  {
   "cell_type": "code",
   "execution_count": 22,
   "id": "7a4c62c8",
   "metadata": {},
   "outputs": [],
   "source": [
    "events.to_csv(f'raw_data/events_{TARGET_YEAR}.csv', index=False)"
   ]
  },
  {
   "cell_type": "code",
   "execution_count": null,
   "id": "d6924a13",
   "metadata": {},
   "outputs": [],
   "source": []
  },
  {
   "cell_type": "code",
   "execution_count": null,
   "id": "cafc41db",
   "metadata": {},
   "outputs": [],
   "source": []
  }
 ],
 "metadata": {
  "kernelspec": {
   "display_name": "Python 3 (ipykernel)",
   "language": "python",
   "name": "python3"
  },
  "language_info": {
   "codemirror_mode": {
    "name": "ipython",
    "version": 3
   },
   "file_extension": ".py",
   "mimetype": "text/x-python",
   "name": "python",
   "nbconvert_exporter": "python",
   "pygments_lexer": "ipython3",
   "version": "3.9.6"
  }
 },
 "nbformat": 4,
 "nbformat_minor": 5
}
