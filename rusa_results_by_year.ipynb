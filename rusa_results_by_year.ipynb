{
 "cells": [
  {
   "cell_type": "code",
   "execution_count": 1,
   "id": "8dcd8925",
   "metadata": {},
   "outputs": [],
   "source": [
    "import pandas as pd\n",
    "from time import sleep\n",
    "from tqdm import tqdm\n",
    "#from itertools import compress"
   ]
  },
  {
   "cell_type": "code",
   "execution_count": 2,
   "id": "1c952d42",
   "metadata": {},
   "outputs": [],
   "source": [
    "TARGET_YEAR = '2022'"
   ]
  },
  {
   "cell_type": "code",
   "execution_count": 3,
   "id": "e7b48d82",
   "metadata": {},
   "outputs": [],
   "source": [
    "def check_YYYY(YYYY):\n",
    "    is_good = isinstance(YYYY, str) and len(YYYY) == 4 and YYYY.isdigit()\n",
    "    if(not(is_good)):\n",
    "       raise Exception(\"Bad args\")\n",
    "    return(is_good)"
   ]
  },
  {
   "cell_type": "code",
   "execution_count": 4,
   "id": "5353ce77",
   "metadata": {},
   "outputs": [],
   "source": [
    "def clean_names(old_cols):\n",
    "    new_cols = [c.lower().replace('#', '') for c in old_cols]\n",
    "    return(new_cols)"
   ]
  },
  {
   "cell_type": "code",
   "execution_count": 5,
   "id": "74044b4e",
   "metadata": {},
   "outputs": [],
   "source": [
    "def get_events(YYYY):\n",
    "    check_YYYY(YYYY)\n",
    "    url = f\"https://rusa.org/cgi-bin/resultsearch_PF.pl?regid=&date={YYYY}&type=&dist=&rtid=&esortby=cert&collapse=0\"\n",
    "    print(url)\n",
    "    \n",
    "    # get versions with and without links\n",
    "    dat_links = pd.read_html(url, extract_links='all')[0]\n",
    "    dat = pd.read_html(url)[0]\n",
    "    \n",
    "    # break apart tuples to get urls. we'll have columns called 0 and 1\n",
    "        # TODO: validate it contains Route and select columns\n",
    "    route_ids = pd.DataFrame(dat_links[('Route', None)].tolist(), \n",
    "                             index=dat_links.index)\n",
    "    event_ids = pd.DataFrame(dat_links[('select', None)].tolist(), \n",
    "                             index=dat_links.index)\n",
    "\n",
    "    # extract ids from link urls in column 1\n",
    "        # TODO validate regex, in case format changes\n",
    "    dat['rt_url'] = route_ids[1]\n",
    "    dat['rtid'] = route_ids[1].str.extract('^.*rtid=(.*)')\n",
    "    dat['event_url'] = event_ids[1]\n",
    "    dat['eid'] = event_ids[1].str.extract('^.*eid=(.*)&')\n",
    "    \n",
    "    # clean col names\n",
    "    new_cols = [c.lower() for c in list(dat.columns)]\n",
    "    dat.columns = new_cols\n",
    "\n",
    "    # drop first row and the 'select' column\n",
    "    dat = dat.drop(0, axis=0)\n",
    "    dat = dat.drop('select', axis=1)\n",
    "\n",
    "    return(dat)"
   ]
  },
  {
   "cell_type": "code",
   "execution_count": 6,
   "id": "f4da9b9b",
   "metadata": {},
   "outputs": [
    {
     "name": "stdout",
     "output_type": "stream",
     "text": [
      "https://rusa.org/cgi-bin/resultsearch_PF.pl?regid=&date=2022&type=&dist=&rtid=&esortby=cert&collapse=0\n"
     ]
    },
    {
     "data": {
      "text/html": [
       "<div>\n",
       "<style scoped>\n",
       "    .dataframe tbody tr th:only-of-type {\n",
       "        vertical-align: middle;\n",
       "    }\n",
       "\n",
       "    .dataframe tbody tr th {\n",
       "        vertical-align: top;\n",
       "    }\n",
       "\n",
       "    .dataframe thead th {\n",
       "        text-align: right;\n",
       "    }\n",
       "</style>\n",
       "<table border=\"1\" class=\"dataframe\">\n",
       "  <thead>\n",
       "    <tr style=\"text-align: right;\">\n",
       "      <th></th>\n",
       "      <th>region</th>\n",
       "      <th>club</th>\n",
       "      <th>type</th>\n",
       "      <th>distance</th>\n",
       "      <th>date</th>\n",
       "      <th>route</th>\n",
       "      <th>rt_url</th>\n",
       "      <th>rtid</th>\n",
       "      <th>event_url</th>\n",
       "      <th>eid</th>\n",
       "    </tr>\n",
       "  </thead>\n",
       "  <tbody>\n",
       "    <tr>\n",
       "      <th>1</th>\n",
       "      <td>TX: Dallas</td>\n",
       "      <td>Lone Star Randonneurs / 943026</td>\n",
       "      <td>RUSAP</td>\n",
       "      <td>107</td>\n",
       "      <td>2022/01/01</td>\n",
       "      <td>Willow Park Granbury Lollipop</td>\n",
       "      <td>/cgi-bin/routesearch_PF.pl?rtid=2600</td>\n",
       "      <td>2600</td>\n",
       "      <td>/cgi-bin/resultsearch_PF.pl?eid=12810&amp;esortby=...</td>\n",
       "      <td>12810</td>\n",
       "    </tr>\n",
       "    <tr>\n",
       "      <th>2</th>\n",
       "      <td>OR: Portland</td>\n",
       "      <td>Oregon Randonneurs / 937020</td>\n",
       "      <td>RUSAP</td>\n",
       "      <td>109</td>\n",
       "      <td>2022/01/01</td>\n",
       "      <td>Wine Country</td>\n",
       "      <td>/cgi-bin/routesearch_PF.pl?rtid=53</td>\n",
       "      <td>53</td>\n",
       "      <td>/cgi-bin/resultsearch_PF.pl?eid=13567&amp;esortby=...</td>\n",
       "      <td>13567</td>\n",
       "    </tr>\n",
       "    <tr>\n",
       "      <th>3</th>\n",
       "      <td>CA: Davis</td>\n",
       "      <td>Davis Bike Club / 905014</td>\n",
       "      <td>RUSAP</td>\n",
       "      <td>102</td>\n",
       "      <td>2022/01/01</td>\n",
       "      <td>Bella Bru 102k</td>\n",
       "      <td>/cgi-bin/routesearch_PF.pl?rtid=2011</td>\n",
       "      <td>2011</td>\n",
       "      <td>/cgi-bin/resultsearch_PF.pl?eid=13156&amp;esortby=...</td>\n",
       "      <td>13156</td>\n",
       "    </tr>\n",
       "    <tr>\n",
       "      <th>4</th>\n",
       "      <td>GA: Atlanta</td>\n",
       "      <td>Audax Atlanta / 910004</td>\n",
       "      <td>ACPB</td>\n",
       "      <td>200</td>\n",
       "      <td>2022/01/01</td>\n",
       "      <td>Athens Georgia 200k</td>\n",
       "      <td>/cgi-bin/routesearch_PF.pl?rtid=1141</td>\n",
       "      <td>1141</td>\n",
       "      <td>/cgi-bin/resultsearch_PF.pl?eid=12795&amp;esortby=...</td>\n",
       "      <td>12795</td>\n",
       "    </tr>\n",
       "    <tr>\n",
       "      <th>5</th>\n",
       "      <td>CA: Davis</td>\n",
       "      <td>Davis Bike Club / 905014</td>\n",
       "      <td>ACPB</td>\n",
       "      <td>200</td>\n",
       "      <td>2022/01/01</td>\n",
       "      <td>Davis-Auburn-Davis 200Km</td>\n",
       "      <td>/cgi-bin/routesearch_PF.pl?rtid=1162</td>\n",
       "      <td>1162</td>\n",
       "      <td>/cgi-bin/resultsearch_PF.pl?eid=13155&amp;esortby=...</td>\n",
       "      <td>13155</td>\n",
       "    </tr>\n",
       "  </tbody>\n",
       "</table>\n",
       "</div>"
      ],
      "text/plain": [
       "         region                            club   type  distance        date  \\\n",
       "1    TX: Dallas  Lone Star Randonneurs / 943026  RUSAP       107  2022/01/01   \n",
       "2  OR: Portland     Oregon Randonneurs / 937020  RUSAP       109  2022/01/01   \n",
       "3     CA: Davis        Davis Bike Club / 905014  RUSAP       102  2022/01/01   \n",
       "4   GA: Atlanta          Audax Atlanta / 910004   ACPB       200  2022/01/01   \n",
       "5     CA: Davis        Davis Bike Club / 905014   ACPB       200  2022/01/01   \n",
       "\n",
       "                           route                                rt_url  rtid  \\\n",
       "1  Willow Park Granbury Lollipop  /cgi-bin/routesearch_PF.pl?rtid=2600  2600   \n",
       "2                   Wine Country    /cgi-bin/routesearch_PF.pl?rtid=53    53   \n",
       "3                 Bella Bru 102k  /cgi-bin/routesearch_PF.pl?rtid=2011  2011   \n",
       "4            Athens Georgia 200k  /cgi-bin/routesearch_PF.pl?rtid=1141  1141   \n",
       "5       Davis-Auburn-Davis 200Km  /cgi-bin/routesearch_PF.pl?rtid=1162  1162   \n",
       "\n",
       "                                           event_url    eid  \n",
       "1  /cgi-bin/resultsearch_PF.pl?eid=12810&esortby=...  12810  \n",
       "2  /cgi-bin/resultsearch_PF.pl?eid=13567&esortby=...  13567  \n",
       "3  /cgi-bin/resultsearch_PF.pl?eid=13156&esortby=...  13156  \n",
       "4  /cgi-bin/resultsearch_PF.pl?eid=12795&esortby=...  12795  \n",
       "5  /cgi-bin/resultsearch_PF.pl?eid=13155&esortby=...  13155  "
      ]
     },
     "execution_count": 6,
     "metadata": {},
     "output_type": "execute_result"
    }
   ],
   "source": [
    "events = get_events(TARGET_YEAR)\n",
    "events.head()"
   ]
  },
  {
   "cell_type": "code",
   "execution_count": 7,
   "id": "0dc84163",
   "metadata": {},
   "outputs": [
    {
     "data": {
      "text/html": [
       "<div>\n",
       "<style scoped>\n",
       "    .dataframe tbody tr th:only-of-type {\n",
       "        vertical-align: middle;\n",
       "    }\n",
       "\n",
       "    .dataframe tbody tr th {\n",
       "        vertical-align: top;\n",
       "    }\n",
       "\n",
       "    .dataframe thead th {\n",
       "        text-align: right;\n",
       "    }\n",
       "</style>\n",
       "<table border=\"1\" class=\"dataframe\">\n",
       "  <thead>\n",
       "    <tr style=\"text-align: right;\">\n",
       "      <th></th>\n",
       "      <th>region</th>\n",
       "      <th>club</th>\n",
       "      <th>type</th>\n",
       "      <th>distance</th>\n",
       "      <th>date</th>\n",
       "      <th>route</th>\n",
       "      <th>rt_url</th>\n",
       "      <th>rtid</th>\n",
       "      <th>event_url</th>\n",
       "      <th>eid</th>\n",
       "    </tr>\n",
       "  </thead>\n",
       "  <tbody>\n",
       "    <tr>\n",
       "      <th>924</th>\n",
       "      <td>FL: Northeast</td>\n",
       "      <td>Northeast Florida Randonneurs / 909034</td>\n",
       "      <td>RUSAB</td>\n",
       "      <td>200</td>\n",
       "      <td>2022/12/30</td>\n",
       "      <td>Folkston 200K</td>\n",
       "      <td>/cgi-bin/routesearch_PF.pl?rtid=3031</td>\n",
       "      <td>3031</td>\n",
       "      <td>/cgi-bin/resultsearch_PF.pl?eid=14682&amp;esortby=...</td>\n",
       "      <td>14682</td>\n",
       "    </tr>\n",
       "    <tr>\n",
       "      <th>925</th>\n",
       "      <td>TX: Central Texas</td>\n",
       "      <td>Heart of Texas Randonneurs / 943049</td>\n",
       "      <td>RUSAP</td>\n",
       "      <td>106</td>\n",
       "      <td>2022/12/30</td>\n",
       "      <td>Wacky Waco 106 Pop</td>\n",
       "      <td>/cgi-bin/routesearch_PF.pl?rtid=2893</td>\n",
       "      <td>2893</td>\n",
       "      <td>/cgi-bin/resultsearch_PF.pl?eid=14698&amp;esortby=...</td>\n",
       "      <td>14698</td>\n",
       "    </tr>\n",
       "    <tr>\n",
       "      <th>926</th>\n",
       "      <td>FL: Northeast</td>\n",
       "      <td>Northeast Florida Randonneurs / 909034</td>\n",
       "      <td>RUSAB</td>\n",
       "      <td>300</td>\n",
       "      <td>2022/12/31</td>\n",
       "      <td>Alachua 300K</td>\n",
       "      <td>/cgi-bin/routesearch_PF.pl?rtid=3032</td>\n",
       "      <td>3032</td>\n",
       "      <td>/cgi-bin/resultsearch_PF.pl?eid=14683&amp;esortby=...</td>\n",
       "      <td>14683</td>\n",
       "    </tr>\n",
       "    <tr>\n",
       "      <th>927</th>\n",
       "      <td>CA: Santa Cruz</td>\n",
       "      <td>Santa Cruz Randonneurs / 905106</td>\n",
       "      <td>ACPB</td>\n",
       "      <td>200</td>\n",
       "      <td>2022/12/31</td>\n",
       "      <td>SCR Gray Whale II 200K</td>\n",
       "      <td>/cgi-bin/routesearch_PF.pl?rtid=2855</td>\n",
       "      <td>2855</td>\n",
       "      <td>/cgi-bin/resultsearch_PF.pl?eid=14657&amp;esortby=...</td>\n",
       "      <td>14657</td>\n",
       "    </tr>\n",
       "    <tr>\n",
       "      <th>928</th>\n",
       "      <td>TX: Central Texas</td>\n",
       "      <td>Heart of Texas Randonneurs / 943049</td>\n",
       "      <td>RUSAF</td>\n",
       "      <td>120</td>\n",
       "      <td>2022/12/31</td>\n",
       "      <td>?</td>\n",
       "      <td>None</td>\n",
       "      <td>NaN</td>\n",
       "      <td>/cgi-bin/resultsearch_PF.pl?eid=14686&amp;esortby=...</td>\n",
       "      <td>14686</td>\n",
       "    </tr>\n",
       "  </tbody>\n",
       "</table>\n",
       "</div>"
      ],
      "text/plain": [
       "                region                                    club   type  \\\n",
       "924      FL: Northeast  Northeast Florida Randonneurs / 909034  RUSAB   \n",
       "925  TX: Central Texas     Heart of Texas Randonneurs / 943049  RUSAP   \n",
       "926      FL: Northeast  Northeast Florida Randonneurs / 909034  RUSAB   \n",
       "927     CA: Santa Cruz         Santa Cruz Randonneurs / 905106   ACPB   \n",
       "928  TX: Central Texas     Heart of Texas Randonneurs / 943049  RUSAF   \n",
       "\n",
       "     distance        date                   route  \\\n",
       "924       200  2022/12/30           Folkston 200K   \n",
       "925       106  2022/12/30      Wacky Waco 106 Pop   \n",
       "926       300  2022/12/31            Alachua 300K   \n",
       "927       200  2022/12/31  SCR Gray Whale II 200K   \n",
       "928       120  2022/12/31                       ?   \n",
       "\n",
       "                                   rt_url  rtid  \\\n",
       "924  /cgi-bin/routesearch_PF.pl?rtid=3031  3031   \n",
       "925  /cgi-bin/routesearch_PF.pl?rtid=2893  2893   \n",
       "926  /cgi-bin/routesearch_PF.pl?rtid=3032  3032   \n",
       "927  /cgi-bin/routesearch_PF.pl?rtid=2855  2855   \n",
       "928                                  None   NaN   \n",
       "\n",
       "                                             event_url    eid  \n",
       "924  /cgi-bin/resultsearch_PF.pl?eid=14682&esortby=...  14682  \n",
       "925  /cgi-bin/resultsearch_PF.pl?eid=14698&esortby=...  14698  \n",
       "926  /cgi-bin/resultsearch_PF.pl?eid=14683&esortby=...  14683  \n",
       "927  /cgi-bin/resultsearch_PF.pl?eid=14657&esortby=...  14657  \n",
       "928  /cgi-bin/resultsearch_PF.pl?eid=14686&esortby=...  14686  "
      ]
     },
     "execution_count": 7,
     "metadata": {},
     "output_type": "execute_result"
    }
   ],
   "source": [
    "events.tail()"
   ]
  },
  {
   "cell_type": "code",
   "execution_count": 8,
   "id": "89eff76f",
   "metadata": {},
   "outputs": [],
   "source": [
    "def get_event_details_results(eid):\n",
    "    \n",
    "    event_url = f\"https://rusa.org/cgi-bin/resultsearch_PF.pl?eid={eid}&esortby=cert\"\n",
    "    #print(event_url)\n",
    "    two_dats = pd.read_html(event_url)\n",
    "    \n",
    "    event_details = two_dats[0]\n",
    "    event_details.columns = clean_names(list(event_details.columns))\n",
    "    event_details['eid'] = eid\n",
    "\n",
    "    # warn if we only get one table back\n",
    "    if(len(two_dats)<2):\n",
    "        #print(f'Warning: no finisher results for event {eid}!')\n",
    "        event_results = pd.DataFrame()\n",
    "    else:\n",
    "        event_results = two_dats[1]\n",
    "        event_results.columns = clean_names(list(event_results.columns))\n",
    "        # drop the rows 'x nonmembers also finished'\n",
    "        try:\n",
    "            event_results = event_results.drop(\n",
    "                event_results[event_results.cert.str.contains('also finished')].index\n",
    "            )\n",
    "        except:\n",
    "            pass\n",
    "            #print(f\"eid {eid} - couldn't drop 'non member' result rows\")\n",
    "        event_results['eid'] = eid\n",
    "    \n",
    "    return([event_details,event_results])"
   ]
  },
  {
   "cell_type": "code",
   "execution_count": 9,
   "id": "2f60f266",
   "metadata": {},
   "outputs": [
    {
     "data": {
      "text/plain": [
       "type\n",
       "ACPB     553\n",
       "ACPF      12\n",
       "ACPR       2\n",
       "RM         8\n",
       "RUSAB    111\n",
       "RUSAF     23\n",
       "RUSAP    208\n",
       "UAFB      11\n",
       "dtype: int64"
      ]
     },
     "execution_count": 9,
     "metadata": {},
     "output_type": "execute_result"
    }
   ],
   "source": [
    "events.groupby('type').size()"
   ]
  },
  {
   "cell_type": "code",
   "execution_count": 10,
   "id": "f91bd324",
   "metadata": {},
   "outputs": [],
   "source": [
    "# https://rusa.org/pages/eventtypes\n",
    "non_team_types = ['ACPB', 'RM', 'RUSAB', 'RUSAP']"
   ]
  },
  {
   "cell_type": "code",
   "execution_count": 11,
   "id": "06440323",
   "metadata": {},
   "outputs": [
    {
     "name": "stdout",
     "output_type": "stream",
     "text": [
      "880\n"
     ]
    }
   ],
   "source": [
    "# list of event ids for the non team event types, for which we'll get results/details\n",
    "event_ids = events[events.type.isin(non_team_types)].eid.to_list()\n",
    "print(len(event_ids))"
   ]
  },
  {
   "cell_type": "code",
   "execution_count": 12,
   "id": "6b1f37d9",
   "metadata": {},
   "outputs": [],
   "source": [
    "e_detail_list = []\n",
    "e_results_list = []"
   ]
  },
  {
   "cell_type": "code",
   "execution_count": 13,
   "id": "34166835",
   "metadata": {},
   "outputs": [
    {
     "name": "stderr",
     "output_type": "stream",
     "text": [
      "100%|██████████████████████████████████████████████████████████████████████████████████████| 880/880 [06:42<00:00,  2.18it/s]\n"
     ]
    }
   ],
   "source": [
    "for e in tqdm(event_ids):\n",
    "    #print(e)\n",
    "    this_d_e = get_event_details_results(e)\n",
    "    e_detail_list.append(this_d_e[0])\n",
    "    e_results_list.append(this_d_e[1])\n",
    "    # sleep roughly every nth call (assuming event ids are consecutive ints)\n",
    "    if(int(e) % 10 == 0):\n",
    "        #print('Sleeping')\n",
    "        sleep(.5)"
   ]
  },
  {
   "cell_type": "code",
   "execution_count": 14,
   "id": "a409487e",
   "metadata": {},
   "outputs": [
    {
     "name": "stdout",
     "output_type": "stream",
     "text": [
      "880 880 880\n"
     ]
    }
   ],
   "source": [
    "# should all be the same\n",
    "print(len(e_detail_list), len(e_results_list), len(event_ids))"
   ]
  },
  {
   "cell_type": "code",
   "execution_count": 15,
   "id": "6e46b5ea",
   "metadata": {},
   "outputs": [],
   "source": [
    "event_results = pd.concat(e_results_list)"
   ]
  },
  {
   "cell_type": "code",
   "execution_count": 16,
   "id": "c8ec0a48",
   "metadata": {},
   "outputs": [],
   "source": [
    "event_details = pd.concat(e_detail_list)"
   ]
  },
  {
   "cell_type": "code",
   "execution_count": 16,
   "id": "b8084458",
   "metadata": {},
   "outputs": [],
   "source": [
    "# for when i forgot to filter team events before getting results; \n",
    "# the format is different and messes stuff up, plus i don't care about those results right now\n",
    "# erl2 = list(compress(e_results_list, \n",
    "#                      events.type.isin(non_team_types)))"
   ]
  },
  {
   "cell_type": "code",
   "execution_count": 17,
   "id": "ebbe02c4",
   "metadata": {},
   "outputs": [],
   "source": [
    "event_details.reset_index(inplace=True, drop=True)\n",
    "event_results.reset_index(inplace=True, drop=True)"
   ]
  },
  {
   "cell_type": "code",
   "execution_count": 18,
   "id": "768fb25c",
   "metadata": {},
   "outputs": [
    {
     "data": {
      "text/html": [
       "<div>\n",
       "<style scoped>\n",
       "    .dataframe tbody tr th:only-of-type {\n",
       "        vertical-align: middle;\n",
       "    }\n",
       "\n",
       "    .dataframe tbody tr th {\n",
       "        vertical-align: top;\n",
       "    }\n",
       "\n",
       "    .dataframe thead th {\n",
       "        text-align: right;\n",
       "    }\n",
       "</style>\n",
       "<table border=\"1\" class=\"dataframe\">\n",
       "  <thead>\n",
       "    <tr style=\"text-align: right;\">\n",
       "      <th></th>\n",
       "      <th>cert</th>\n",
       "      <th>rusa</th>\n",
       "      <th>name</th>\n",
       "      <th>club / acp code</th>\n",
       "      <th>time</th>\n",
       "      <th>medal</th>\n",
       "      <th>eid</th>\n",
       "    </tr>\n",
       "  </thead>\n",
       "  <tbody>\n",
       "    <tr>\n",
       "      <th>0</th>\n",
       "      <td>RUSA-P18340</td>\n",
       "      <td>390</td>\n",
       "      <td>DRISCOLL, Dan</td>\n",
       "      <td>Lone Star Randonneurs / 943026</td>\n",
       "      <td>05:15</td>\n",
       "      <td>NaN</td>\n",
       "      <td>12810</td>\n",
       "    </tr>\n",
       "    <tr>\n",
       "      <th>1</th>\n",
       "      <td>RUSA-P18341</td>\n",
       "      <td>11575</td>\n",
       "      <td>ANDREWS, Delwin</td>\n",
       "      <td>Lone Star Randonneurs / 943026</td>\n",
       "      <td>05:42</td>\n",
       "      <td>NaN</td>\n",
       "      <td>12810</td>\n",
       "    </tr>\n",
       "    <tr>\n",
       "      <th>2</th>\n",
       "      <td>RUSA-P18342</td>\n",
       "      <td>3205</td>\n",
       "      <td>WRIGHT, Pamela</td>\n",
       "      <td>Lone Star Randonneurs / 943026</td>\n",
       "      <td>05:15</td>\n",
       "      <td>NaN</td>\n",
       "      <td>12810</td>\n",
       "    </tr>\n",
       "    <tr>\n",
       "      <th>3</th>\n",
       "      <td>RUSA-P18343</td>\n",
       "      <td>736</td>\n",
       "      <td>BREAUD, Debbie</td>\n",
       "      <td>Lone Star Randonneurs / 943026</td>\n",
       "      <td>05:10</td>\n",
       "      <td>NaN</td>\n",
       "      <td>12810</td>\n",
       "    </tr>\n",
       "    <tr>\n",
       "      <th>4</th>\n",
       "      <td>RUSA-P18344</td>\n",
       "      <td>1212</td>\n",
       "      <td>FLICKNER, Brad</td>\n",
       "      <td>Lone Star Randonneurs / 943026</td>\n",
       "      <td>05:07</td>\n",
       "      <td>NaN</td>\n",
       "      <td>12810</td>\n",
       "    </tr>\n",
       "  </tbody>\n",
       "</table>\n",
       "</div>"
      ],
      "text/plain": [
       "          cert   rusa             name                 club / acp code   time  \\\n",
       "0  RUSA-P18340    390    DRISCOLL, Dan  Lone Star Randonneurs / 943026  05:15   \n",
       "1  RUSA-P18341  11575  ANDREWS, Delwin  Lone Star Randonneurs / 943026  05:42   \n",
       "2  RUSA-P18342   3205   WRIGHT, Pamela  Lone Star Randonneurs / 943026  05:15   \n",
       "3  RUSA-P18343    736   BREAUD, Debbie  Lone Star Randonneurs / 943026  05:10   \n",
       "4  RUSA-P18344   1212   FLICKNER, Brad  Lone Star Randonneurs / 943026  05:07   \n",
       "\n",
       "  medal    eid  \n",
       "0   NaN  12810  \n",
       "1   NaN  12810  \n",
       "2   NaN  12810  \n",
       "3   NaN  12810  \n",
       "4   NaN  12810  "
      ]
     },
     "execution_count": 18,
     "metadata": {},
     "output_type": "execute_result"
    }
   ],
   "source": [
    "event_results.head()"
   ]
  },
  {
   "cell_type": "code",
   "execution_count": 19,
   "id": "870f6c82",
   "metadata": {},
   "outputs": [
    {
     "data": {
      "text/html": [
       "<div>\n",
       "<style scoped>\n",
       "    .dataframe tbody tr th:only-of-type {\n",
       "        vertical-align: middle;\n",
       "    }\n",
       "\n",
       "    .dataframe tbody tr th {\n",
       "        vertical-align: top;\n",
       "    }\n",
       "\n",
       "    .dataframe thead th {\n",
       "        text-align: right;\n",
       "    }\n",
       "</style>\n",
       "<table border=\"1\" class=\"dataframe\">\n",
       "  <thead>\n",
       "    <tr style=\"text-align: right;\">\n",
       "      <th></th>\n",
       "      <th>region</th>\n",
       "      <th>club</th>\n",
       "      <th>type</th>\n",
       "      <th>distance</th>\n",
       "      <th>date</th>\n",
       "      <th>finishers</th>\n",
       "      <th>dnf</th>\n",
       "      <th>eid</th>\n",
       "    </tr>\n",
       "  </thead>\n",
       "  <tbody>\n",
       "    <tr>\n",
       "      <th>0</th>\n",
       "      <td>TX: Dallas</td>\n",
       "      <td>Lone Star Randonneurs / 943026</td>\n",
       "      <td>RUSAP</td>\n",
       "      <td>107</td>\n",
       "      <td>2022/01/01</td>\n",
       "      <td>11</td>\n",
       "      <td>0.0</td>\n",
       "      <td>12810</td>\n",
       "    </tr>\n",
       "    <tr>\n",
       "      <th>1</th>\n",
       "      <td>OR: Portland</td>\n",
       "      <td>Oregon Randonneurs / 937020</td>\n",
       "      <td>RUSAP</td>\n",
       "      <td>109</td>\n",
       "      <td>2022/01/01</td>\n",
       "      <td>8</td>\n",
       "      <td>0.0</td>\n",
       "      <td>13567</td>\n",
       "    </tr>\n",
       "    <tr>\n",
       "      <th>2</th>\n",
       "      <td>CA: Davis</td>\n",
       "      <td>Davis Bike Club / 905014</td>\n",
       "      <td>RUSAP</td>\n",
       "      <td>102</td>\n",
       "      <td>2022/01/01</td>\n",
       "      <td>0</td>\n",
       "      <td>2.0</td>\n",
       "      <td>13156</td>\n",
       "    </tr>\n",
       "    <tr>\n",
       "      <th>3</th>\n",
       "      <td>GA: Atlanta</td>\n",
       "      <td>Audax Atlanta / 910004</td>\n",
       "      <td>ACPB</td>\n",
       "      <td>200</td>\n",
       "      <td>2022/01/01</td>\n",
       "      <td>9</td>\n",
       "      <td>0.0</td>\n",
       "      <td>12795</td>\n",
       "    </tr>\n",
       "    <tr>\n",
       "      <th>4</th>\n",
       "      <td>CA: Davis</td>\n",
       "      <td>Davis Bike Club / 905014</td>\n",
       "      <td>ACPB</td>\n",
       "      <td>200</td>\n",
       "      <td>2022/01/01</td>\n",
       "      <td>6</td>\n",
       "      <td>0.0</td>\n",
       "      <td>13155</td>\n",
       "    </tr>\n",
       "  </tbody>\n",
       "</table>\n",
       "</div>"
      ],
      "text/plain": [
       "         region                            club   type  distance        date  \\\n",
       "0    TX: Dallas  Lone Star Randonneurs / 943026  RUSAP       107  2022/01/01   \n",
       "1  OR: Portland     Oregon Randonneurs / 937020  RUSAP       109  2022/01/01   \n",
       "2     CA: Davis        Davis Bike Club / 905014  RUSAP       102  2022/01/01   \n",
       "3   GA: Atlanta          Audax Atlanta / 910004   ACPB       200  2022/01/01   \n",
       "4     CA: Davis        Davis Bike Club / 905014   ACPB       200  2022/01/01   \n",
       "\n",
       "   finishers  dnf    eid  \n",
       "0         11  0.0  12810  \n",
       "1          8  0.0  13567  \n",
       "2          0  2.0  13156  \n",
       "3          9  0.0  12795  \n",
       "4          6  0.0  13155  "
      ]
     },
     "execution_count": 19,
     "metadata": {},
     "output_type": "execute_result"
    }
   ],
   "source": [
    "event_details.head()"
   ]
  },
  {
   "cell_type": "code",
   "execution_count": 20,
   "id": "88cb0cdd",
   "metadata": {},
   "outputs": [],
   "source": [
    "event_details.to_csv(f'raw_data/event_details_{TARGET_YEAR}.csv', index=False)"
   ]
  },
  {
   "cell_type": "code",
   "execution_count": 21,
   "id": "0b6a3c7a",
   "metadata": {},
   "outputs": [],
   "source": [
    "event_results.to_csv(f'raw_data/event_results_{TARGET_YEAR}.csv', index=False)"
   ]
  },
  {
   "cell_type": "code",
   "execution_count": 22,
   "id": "7a4c62c8",
   "metadata": {},
   "outputs": [],
   "source": [
    "events.to_csv(f'raw_data/events_{TARGET_YEAR}.csv', index=False)"
   ]
  }
 ],
 "metadata": {
  "kernelspec": {
   "display_name": "Python 3 (ipykernel)",
   "language": "python",
   "name": "python3"
  },
  "language_info": {
   "codemirror_mode": {
    "name": "ipython",
    "version": 3
   },
   "file_extension": ".py",
   "mimetype": "text/x-python",
   "name": "python",
   "nbconvert_exporter": "python",
   "pygments_lexer": "ipython3",
   "version": "3.9.6"
  }
 },
 "nbformat": 4,
 "nbformat_minor": 5
}
