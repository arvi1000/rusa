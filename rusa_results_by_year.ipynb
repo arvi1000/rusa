{
 "cells": [
  {
   "cell_type": "code",
   "execution_count": 115,
   "id": "8dcd8925",
   "metadata": {},
   "outputs": [],
   "source": [
    "import pandas as pd\n",
    "from time import sleep\n",
    "from tqdm import tqdm\n",
    "from itertools import compress"
   ]
  },
  {
   "cell_type": "code",
   "execution_count": 2,
   "id": "e7b48d82",
   "metadata": {},
   "outputs": [],
   "source": [
    "def check_YYYY(YYYY):\n",
    "    is_good = isinstance(YYYY, str) and len(YYYY) == 4 and YYYY.isdigit()\n",
    "    if(not(is_good)):\n",
    "       raise Exception(\"Bad args\")\n",
    "    return(is_good)"
   ]
  },
  {
   "cell_type": "code",
   "execution_count": 3,
   "id": "5353ce77",
   "metadata": {},
   "outputs": [],
   "source": [
    "def clean_names(old_cols):\n",
    "    new_cols = [c.lower().replace('#', '') for c in old_cols]\n",
    "    return(new_cols)"
   ]
  },
  {
   "cell_type": "code",
   "execution_count": 43,
   "id": "a7e85d7e",
   "metadata": {},
   "outputs": [],
   "source": [
    "def get_results_collapsed(YYYY):\n",
    "    check_YYYY(YYYY)\n",
    "    url = f\"https://rusa.org/cgi-bin/resultsearch_PF.pl?regid=&date={YYYY}&type=&dist=&rtid=&esortby=cert&collapse=1\"\n",
    "    print(url)\n",
    "    dat = pd.read_html(url)\n",
    "    dat = dat[0]\n",
    "    \n",
    "    new_cols = [c.lower().replace('#', '') for c in list(dat.columns)]\n",
    "    dat.columns = new_cols\n",
    "    \n",
    "    # drop the rows 'x nonmembers also finished'\n",
    "    dat = dat.drop(dat[dat.cert.str.contains('also finished')].index)\n",
    "    \n",
    "    # find 'event divider rows' -- the remaining ones where every column is the same\n",
    "    event_rows = dat.apply(lambda x: len(set(x)) == 1, axis=1)\n",
    "    dat['event_row'] = event_rows\n",
    "    dat['event_id'] = dat.event_row.cumsum()\n",
    "    return(dat)"
   ]
  },
  {
   "cell_type": "code",
   "execution_count": 4,
   "id": "74044b4e",
   "metadata": {},
   "outputs": [],
   "source": [
    "def get_events(YYYY):\n",
    "    check_YYYY(YYYY)\n",
    "    url = f\"https://rusa.org/cgi-bin/resultsearch_PF.pl?regid=&date={YYYY}&type=&dist=&rtid=&esortby=cert&collapse=0\"\n",
    "    print(url)\n",
    "    \n",
    "    # get versions with and without links\n",
    "    dat_links = pd.read_html(url, extract_links='all')[0]\n",
    "    dat = pd.read_html(url)[0]\n",
    "    \n",
    "    # break apart tuples to get urls. we'll have columns called 0 and 1\n",
    "        # TODO: validate it contains Route and select columns\n",
    "    route_ids = pd.DataFrame(dat_links[('Route', None)].tolist(), \n",
    "                             index=dat_links.index)\n",
    "    event_ids = pd.DataFrame(dat_links[('select', None)].tolist(), \n",
    "                             index=dat_links.index)\n",
    "\n",
    "    # extract ids from link urls in column 1\n",
    "        # TODO validate regex, in case format changes\n",
    "    dat['rt_url'] = route_ids[1]\n",
    "    dat['rtid'] = route_ids[1].str.extract('^.*rtid=(.*)')\n",
    "    dat['event_url'] = event_ids[1]\n",
    "    dat['eid'] = event_ids[1].str.extract('^.*eid=(.*)&')\n",
    "    \n",
    "    # clean col names\n",
    "    new_cols = [c.lower() for c in list(dat.columns)]\n",
    "    dat.columns = new_cols\n",
    "\n",
    "    # drop first row and the 'select' column\n",
    "    dat = dat.drop(0, axis=0)\n",
    "    dat = dat.drop('select', axis=1)\n",
    "\n",
    "    return(dat)"
   ]
  },
  {
   "cell_type": "code",
   "execution_count": 5,
   "id": "f4da9b9b",
   "metadata": {},
   "outputs": [
    {
     "name": "stdout",
     "output_type": "stream",
     "text": [
      "https://rusa.org/cgi-bin/resultsearch_PF.pl?regid=&date=2018&type=&dist=&rtid=&esortby=cert&collapse=0\n"
     ]
    },
    {
     "data": {
      "text/html": [
       "<div>\n",
       "<style scoped>\n",
       "    .dataframe tbody tr th:only-of-type {\n",
       "        vertical-align: middle;\n",
       "    }\n",
       "\n",
       "    .dataframe tbody tr th {\n",
       "        vertical-align: top;\n",
       "    }\n",
       "\n",
       "    .dataframe thead th {\n",
       "        text-align: right;\n",
       "    }\n",
       "</style>\n",
       "<table border=\"1\" class=\"dataframe\">\n",
       "  <thead>\n",
       "    <tr style=\"text-align: right;\">\n",
       "      <th></th>\n",
       "      <th>region</th>\n",
       "      <th>club</th>\n",
       "      <th>type</th>\n",
       "      <th>distance</th>\n",
       "      <th>date</th>\n",
       "      <th>route</th>\n",
       "      <th>rt_url</th>\n",
       "      <th>rtid</th>\n",
       "      <th>event_url</th>\n",
       "      <th>eid</th>\n",
       "    </tr>\n",
       "  </thead>\n",
       "  <tbody>\n",
       "    <tr>\n",
       "      <th>1</th>\n",
       "      <td>VA: Tidewater</td>\n",
       "      <td>Tidewater Randonneurs / 946002</td>\n",
       "      <td>RUSAP</td>\n",
       "      <td>100.0</td>\n",
       "      <td>2018/01/01</td>\n",
       "      <td>Suffolk 100K</td>\n",
       "      <td>/cgi-bin/routesearch_PF.pl?rtid=2034</td>\n",
       "      <td>2034</td>\n",
       "      <td>/cgi-bin/resultsearch_PF.pl?eid=8988&amp;esortby=cert</td>\n",
       "      <td>8988</td>\n",
       "    </tr>\n",
       "    <tr>\n",
       "      <th>2</th>\n",
       "      <td>CA: Davis</td>\n",
       "      <td>Davis Bike Club / 905014</td>\n",
       "      <td>RUSAP</td>\n",
       "      <td>103.0</td>\n",
       "      <td>2018/01/01</td>\n",
       "      <td>Moskowite Corner 100Km</td>\n",
       "      <td>/cgi-bin/routesearch_PF.pl?rtid=1322</td>\n",
       "      <td>1322</td>\n",
       "      <td>/cgi-bin/resultsearch_PF.pl?eid=9437&amp;esortby=cert</td>\n",
       "      <td>9437</td>\n",
       "    </tr>\n",
       "    <tr>\n",
       "      <th>3</th>\n",
       "      <td>CA: Santa Cruz</td>\n",
       "      <td>Santa Cruz Randonneurs / 905106</td>\n",
       "      <td>ACPB</td>\n",
       "      <td>200.0</td>\n",
       "      <td>2018/01/01</td>\n",
       "      <td>Marina 200k</td>\n",
       "      <td>/cgi-bin/routesearch_PF.pl?rtid=2160</td>\n",
       "      <td>2160</td>\n",
       "      <td>/cgi-bin/resultsearch_PF.pl?eid=9304&amp;esortby=cert</td>\n",
       "      <td>9304</td>\n",
       "    </tr>\n",
       "    <tr>\n",
       "      <th>4</th>\n",
       "      <td>MO: Kansas City</td>\n",
       "      <td>Kansas City Ultra Cycling / 925001</td>\n",
       "      <td>RUSAP</td>\n",
       "      <td>104.0</td>\n",
       "      <td>2018/01/01</td>\n",
       "      <td>Barley's - Free State 104</td>\n",
       "      <td>/cgi-bin/routesearch_PF.pl?rtid=1953</td>\n",
       "      <td>1953</td>\n",
       "      <td>/cgi-bin/resultsearch_PF.pl?eid=9632&amp;esortby=cert</td>\n",
       "      <td>9632</td>\n",
       "    </tr>\n",
       "    <tr>\n",
       "      <th>5</th>\n",
       "      <td>TX: Dallas</td>\n",
       "      <td>Lone Star Randonneurs / 943026</td>\n",
       "      <td>RUSAP</td>\n",
       "      <td>100.0</td>\n",
       "      <td>2018/01/01</td>\n",
       "      <td>The Doctor's Daughter 100</td>\n",
       "      <td>/cgi-bin/routesearch_PF.pl?rtid=1491</td>\n",
       "      <td>1491</td>\n",
       "      <td>/cgi-bin/resultsearch_PF.pl?eid=8914&amp;esortby=cert</td>\n",
       "      <td>8914</td>\n",
       "    </tr>\n",
       "    <tr>\n",
       "      <th>...</th>\n",
       "      <td>...</td>\n",
       "      <td>...</td>\n",
       "      <td>...</td>\n",
       "      <td>...</td>\n",
       "      <td>...</td>\n",
       "      <td>...</td>\n",
       "      <td>...</td>\n",
       "      <td>...</td>\n",
       "      <td>...</td>\n",
       "      <td>...</td>\n",
       "    </tr>\n",
       "    <tr>\n",
       "      <th>957</th>\n",
       "      <td>NY: Central/Western</td>\n",
       "      <td>Rochester Bicycling Club / 932030</td>\n",
       "      <td>RUSAB</td>\n",
       "      <td>200.0</td>\n",
       "      <td>2018/12/30</td>\n",
       "      <td>200LR_3 Womens Rights Loop</td>\n",
       "      <td>/cgi-bin/routesearch_PF.pl?rtid=1082</td>\n",
       "      <td>1082</td>\n",
       "      <td>/cgi-bin/resultsearch_PF.pl?eid=10678&amp;esortby=...</td>\n",
       "      <td>10678</td>\n",
       "    </tr>\n",
       "    <tr>\n",
       "      <th>958</th>\n",
       "      <td>FL: Central</td>\n",
       "      <td>Central Florida Randonneurs / 909062</td>\n",
       "      <td>RUSAB</td>\n",
       "      <td>200.0</td>\n",
       "      <td>2018/12/30</td>\n",
       "      <td>Swamp Rat 200K</td>\n",
       "      <td>/cgi-bin/routesearch_PF.pl?rtid=2008</td>\n",
       "      <td>2008</td>\n",
       "      <td>/cgi-bin/resultsearch_PF.pl?eid=10666&amp;esortby=...</td>\n",
       "      <td>10666</td>\n",
       "    </tr>\n",
       "    <tr>\n",
       "      <th>959</th>\n",
       "      <td>CA: Davis</td>\n",
       "      <td>Davis Bike Club / 905014</td>\n",
       "      <td>RUSAB</td>\n",
       "      <td>204.0</td>\n",
       "      <td>2018/12/31</td>\n",
       "      <td>Davis-Auburn-Davis 200Km</td>\n",
       "      <td>/cgi-bin/routesearch_PF.pl?rtid=1162</td>\n",
       "      <td>1162</td>\n",
       "      <td>/cgi-bin/resultsearch_PF.pl?eid=9448&amp;esortby=cert</td>\n",
       "      <td>9448</td>\n",
       "    </tr>\n",
       "    <tr>\n",
       "      <th>960</th>\n",
       "      <td>NY: Central/Western</td>\n",
       "      <td>Rochester Bicycling Club / 932030</td>\n",
       "      <td>RUSAB</td>\n",
       "      <td>200.0</td>\n",
       "      <td>2018/12/31</td>\n",
       "      <td>200LR_3 Womens Rights Loop</td>\n",
       "      <td>/cgi-bin/routesearch_PF.pl?rtid=1082</td>\n",
       "      <td>1082</td>\n",
       "      <td>/cgi-bin/resultsearch_PF.pl?eid=10679&amp;esortby=...</td>\n",
       "      <td>10679</td>\n",
       "    </tr>\n",
       "    <tr>\n",
       "      <th>961</th>\n",
       "      <td>CA: Davis</td>\n",
       "      <td>Davis Bike Club / 905014</td>\n",
       "      <td>RUSAP</td>\n",
       "      <td>102.0</td>\n",
       "      <td>2018/12/31</td>\n",
       "      <td>Bella Bru 102k</td>\n",
       "      <td>/cgi-bin/routesearch_PF.pl?rtid=2011</td>\n",
       "      <td>2011</td>\n",
       "      <td>/cgi-bin/resultsearch_PF.pl?eid=9449&amp;esortby=cert</td>\n",
       "      <td>9449</td>\n",
       "    </tr>\n",
       "  </tbody>\n",
       "</table>\n",
       "<p>961 rows × 10 columns</p>\n",
       "</div>"
      ],
      "text/plain": [
       "                  region                                  club   type  \\\n",
       "1          VA: Tidewater        Tidewater Randonneurs / 946002  RUSAP   \n",
       "2              CA: Davis              Davis Bike Club / 905014  RUSAP   \n",
       "3         CA: Santa Cruz       Santa Cruz Randonneurs / 905106   ACPB   \n",
       "4        MO: Kansas City    Kansas City Ultra Cycling / 925001  RUSAP   \n",
       "5             TX: Dallas        Lone Star Randonneurs / 943026  RUSAP   \n",
       "..                   ...                                   ...    ...   \n",
       "957  NY: Central/Western     Rochester Bicycling Club / 932030  RUSAB   \n",
       "958          FL: Central  Central Florida Randonneurs / 909062  RUSAB   \n",
       "959            CA: Davis              Davis Bike Club / 905014  RUSAB   \n",
       "960  NY: Central/Western     Rochester Bicycling Club / 932030  RUSAB   \n",
       "961            CA: Davis              Davis Bike Club / 905014  RUSAP   \n",
       "\n",
       "     distance        date                          route  \\\n",
       "1       100.0  2018/01/01                   Suffolk 100K   \n",
       "2       103.0  2018/01/01         Moskowite Corner 100Km   \n",
       "3       200.0  2018/01/01                    Marina 200k   \n",
       "4       104.0  2018/01/01      Barley's - Free State 104   \n",
       "5       100.0  2018/01/01      The Doctor's Daughter 100   \n",
       "..        ...         ...                            ...   \n",
       "957     200.0  2018/12/30  200LR_3 Womens Rights Loop   \n",
       "958     200.0  2018/12/30                 Swamp Rat 200K   \n",
       "959     204.0  2018/12/31       Davis-Auburn-Davis 200Km   \n",
       "960     200.0  2018/12/31  200LR_3 Womens Rights Loop   \n",
       "961     102.0  2018/12/31                 Bella Bru 102k   \n",
       "\n",
       "                                   rt_url  rtid  \\\n",
       "1    /cgi-bin/routesearch_PF.pl?rtid=2034  2034   \n",
       "2    /cgi-bin/routesearch_PF.pl?rtid=1322  1322   \n",
       "3    /cgi-bin/routesearch_PF.pl?rtid=2160  2160   \n",
       "4    /cgi-bin/routesearch_PF.pl?rtid=1953  1953   \n",
       "5    /cgi-bin/routesearch_PF.pl?rtid=1491  1491   \n",
       "..                                    ...   ...   \n",
       "957  /cgi-bin/routesearch_PF.pl?rtid=1082  1082   \n",
       "958  /cgi-bin/routesearch_PF.pl?rtid=2008  2008   \n",
       "959  /cgi-bin/routesearch_PF.pl?rtid=1162  1162   \n",
       "960  /cgi-bin/routesearch_PF.pl?rtid=1082  1082   \n",
       "961  /cgi-bin/routesearch_PF.pl?rtid=2011  2011   \n",
       "\n",
       "                                             event_url    eid  \n",
       "1    /cgi-bin/resultsearch_PF.pl?eid=8988&esortby=cert   8988  \n",
       "2    /cgi-bin/resultsearch_PF.pl?eid=9437&esortby=cert   9437  \n",
       "3    /cgi-bin/resultsearch_PF.pl?eid=9304&esortby=cert   9304  \n",
       "4    /cgi-bin/resultsearch_PF.pl?eid=9632&esortby=cert   9632  \n",
       "5    /cgi-bin/resultsearch_PF.pl?eid=8914&esortby=cert   8914  \n",
       "..                                                 ...    ...  \n",
       "957  /cgi-bin/resultsearch_PF.pl?eid=10678&esortby=...  10678  \n",
       "958  /cgi-bin/resultsearch_PF.pl?eid=10666&esortby=...  10666  \n",
       "959  /cgi-bin/resultsearch_PF.pl?eid=9448&esortby=cert   9448  \n",
       "960  /cgi-bin/resultsearch_PF.pl?eid=10679&esortby=...  10679  \n",
       "961  /cgi-bin/resultsearch_PF.pl?eid=9449&esortby=cert   9449  \n",
       "\n",
       "[961 rows x 10 columns]"
      ]
     },
     "execution_count": 5,
     "metadata": {},
     "output_type": "execute_result"
    }
   ],
   "source": [
    "events = get_events('2018')\n",
    "events"
   ]
  },
  {
   "cell_type": "code",
   "execution_count": 77,
   "id": "89eff76f",
   "metadata": {},
   "outputs": [],
   "source": [
    "def get_event_details_results(eid):\n",
    "    \n",
    "    event_url = f\"https://rusa.org/cgi-bin/resultsearch_PF.pl?eid={eid}&esortby=cert\"\n",
    "    #print(event_url)\n",
    "    two_dats = pd.read_html(event_url)\n",
    "    \n",
    "    event_details = two_dats[0]\n",
    "    event_details.columns = clean_names(list(event_details.columns))\n",
    "    event_details['eid'] = eid\n",
    "\n",
    "    # warn if we only get one table back\n",
    "    if(len(two_dats)<2):\n",
    "        #print(f'Warning: no finisher results for event {eid}!')\n",
    "        event_results = pd.DataFrame()\n",
    "    else:\n",
    "        event_results = two_dats[1]\n",
    "        event_results.columns = clean_names(list(event_results.columns))\n",
    "        # drop the rows 'x nonmembers also finished'\n",
    "        try:\n",
    "            event_results = event_results.drop(\n",
    "                event_results[event_results.cert.str.contains('also finished')].index\n",
    "            )\n",
    "        except:\n",
    "            pass\n",
    "            #print(f\"eid {eid} - couldn't drop 'non member' result rows\")\n",
    "        event_results['eid'] = eid\n",
    "    \n",
    "    return([event_details,event_results])"
   ]
  },
  {
   "cell_type": "code",
   "execution_count": 107,
   "id": "9ab6177c",
   "metadata": {},
   "outputs": [
    {
     "data": {
      "text/plain": [
       "type\n",
       "ACPB     557\n",
       "ACPF      14\n",
       "RM         7\n",
       "RUSAB    165\n",
       "RUSAF     19\n",
       "RUSAP    199\n",
       "dtype: int64"
      ]
     },
     "execution_count": 107,
     "metadata": {},
     "output_type": "execute_result"
    }
   ],
   "source": [
    "events.groupby('type').size()"
   ]
  },
  {
   "cell_type": "code",
   "execution_count": 108,
   "id": "4af08b3c",
   "metadata": {},
   "outputs": [],
   "source": [
    "non_team_types = ['ACPB', 'RM', 'RUSAB', 'RUSAP']"
   ]
  },
  {
   "cell_type": "code",
   "execution_count": 132,
   "id": "06440323",
   "metadata": {},
   "outputs": [],
   "source": [
    "# list of event ids for the non team event types, for which we'll get results/details\n",
    "event_ids = events[events.type.isin(non_team_types)].eid.to_list()"
   ]
  },
  {
   "cell_type": "code",
   "execution_count": 36,
   "id": "9e16fdc6",
   "metadata": {},
   "outputs": [],
   "source": [
    "e_detail_list = []\n",
    "e_results_list = []"
   ]
  },
  {
   "cell_type": "code",
   "execution_count": 85,
   "id": "384b4200",
   "metadata": {},
   "outputs": [
    {
     "name": "stderr",
     "output_type": "stream",
     "text": [
      "  4%|█▌                                        | 12/311 [00:06<02:39,  1.88it/s]"
     ]
    },
    {
     "name": "stdout",
     "output_type": "stream",
     "text": [
      "Warning: no finisher results for event 9718!\n"
     ]
    },
    {
     "name": "stderr",
     "output_type": "stream",
     "text": [
      "  9%|███▋                                      | 27/311 [00:15<02:11,  2.17it/s]"
     ]
    },
    {
     "name": "stdout",
     "output_type": "stream",
     "text": [
      "Warning: no finisher results for event 8993!\n"
     ]
    },
    {
     "name": "stderr",
     "output_type": "stream",
     "text": [
      " 18%|███████▌                                  | 56/311 [00:31<02:55,  1.46it/s]"
     ]
    },
    {
     "name": "stdout",
     "output_type": "stream",
     "text": [
      "Warning: no finisher results for event 8945!\n"
     ]
    },
    {
     "name": "stderr",
     "output_type": "stream",
     "text": [
      " 23%|█████████▊                                | 73/311 [00:42<01:51,  2.13it/s]"
     ]
    },
    {
     "name": "stdout",
     "output_type": "stream",
     "text": [
      "Warning: no finisher results for event 9170!\n"
     ]
    },
    {
     "name": "stderr",
     "output_type": "stream",
     "text": [
      " 25%|██████████▍                               | 77/311 [00:44<01:35,  2.44it/s]"
     ]
    },
    {
     "name": "stdout",
     "output_type": "stream",
     "text": [
      "Warning: no finisher results for event 9547!\n"
     ]
    },
    {
     "name": "stderr",
     "output_type": "stream",
     "text": [
      " 25%|██████████▋                               | 79/311 [00:44<01:32,  2.51it/s]"
     ]
    },
    {
     "name": "stdout",
     "output_type": "stream",
     "text": [
      "Warning: no finisher results for event 9644!\n"
     ]
    },
    {
     "name": "stderr",
     "output_type": "stream",
     "text": [
      " 26%|██████████▉                               | 81/311 [00:46<02:17,  1.67it/s]"
     ]
    },
    {
     "name": "stdout",
     "output_type": "stream",
     "text": [
      "Warning: no finisher results for event 8892!\n"
     ]
    },
    {
     "name": "stderr",
     "output_type": "stream",
     "text": [
      " 27%|███████████▎                              | 84/311 [00:48<02:17,  1.66it/s]"
     ]
    },
    {
     "name": "stdout",
     "output_type": "stream",
     "text": [
      "Warning: no finisher results for event 8893!\n"
     ]
    },
    {
     "name": "stderr",
     "output_type": "stream",
     "text": [
      " 33%|█████████████▌                           | 103/311 [01:00<01:39,  2.09it/s]"
     ]
    },
    {
     "name": "stdout",
     "output_type": "stream",
     "text": [
      "Warning: no finisher results for event 9589!\n"
     ]
    },
    {
     "name": "stderr",
     "output_type": "stream",
     "text": [
      "\r",
      " 33%|█████████████▋                           | 104/311 [01:00<01:33,  2.20it/s]"
     ]
    },
    {
     "name": "stdout",
     "output_type": "stream",
     "text": [
      "Warning: no finisher results for event 9287!\n"
     ]
    },
    {
     "name": "stderr",
     "output_type": "stream",
     "text": [
      "\r",
      " 34%|█████████████▊                           | 105/311 [01:00<01:29,  2.30it/s]"
     ]
    },
    {
     "name": "stdout",
     "output_type": "stream",
     "text": [
      "Warning: no finisher results for event 9733!\n"
     ]
    },
    {
     "name": "stderr",
     "output_type": "stream",
     "text": [
      " 38%|███████████████▋                         | 119/311 [01:06<01:13,  2.61it/s]"
     ]
    },
    {
     "name": "stdout",
     "output_type": "stream",
     "text": [
      "Warning: no finisher results for event 9075!\n"
     ]
    },
    {
     "name": "stderr",
     "output_type": "stream",
     "text": [
      " 40%|████████████████▎                        | 124/311 [01:10<02:01,  1.54it/s]"
     ]
    },
    {
     "name": "stdout",
     "output_type": "stream",
     "text": [
      "Warning: no finisher results for event 9076!\n"
     ]
    },
    {
     "name": "stderr",
     "output_type": "stream",
     "text": [
      " 42%|█████████████████▏                       | 130/311 [01:12<01:19,  2.29it/s]"
     ]
    },
    {
     "name": "stdout",
     "output_type": "stream",
     "text": [
      "Warning: no finisher results for event 9720!\n"
     ]
    },
    {
     "name": "stderr",
     "output_type": "stream",
     "text": [
      " 44%|██████████████████▏                      | 138/311 [01:17<01:49,  1.58it/s]"
     ]
    },
    {
     "name": "stdout",
     "output_type": "stream",
     "text": [
      "Warning: no finisher results for event 9715!\n"
     ]
    },
    {
     "name": "stderr",
     "output_type": "stream",
     "text": [
      " 45%|██████████████████▍                      | 140/311 [01:18<01:27,  1.96it/s]"
     ]
    },
    {
     "name": "stdout",
     "output_type": "stream",
     "text": [
      "Warning: no finisher results for event 10010!\n"
     ]
    },
    {
     "name": "stderr",
     "output_type": "stream",
     "text": [
      " 52%|█████████████████████▎                   | 162/311 [01:30<01:06,  2.23it/s]"
     ]
    },
    {
     "name": "stdout",
     "output_type": "stream",
     "text": [
      "Warning: no finisher results for event 9813!\n"
     ]
    },
    {
     "name": "stderr",
     "output_type": "stream",
     "text": [
      " 54%|██████████████████████▎                  | 169/311 [01:34<01:03,  2.22it/s]"
     ]
    },
    {
     "name": "stdout",
     "output_type": "stream",
     "text": [
      "Warning: no finisher results for event 9213!\n"
     ]
    },
    {
     "name": "stderr",
     "output_type": "stream",
     "text": [
      " 55%|██████████████████████▋                  | 172/311 [01:35<00:56,  2.45it/s]"
     ]
    },
    {
     "name": "stdout",
     "output_type": "stream",
     "text": [
      "Warning: no finisher results for event 9791!\n"
     ]
    },
    {
     "name": "stderr",
     "output_type": "stream",
     "text": [
      " 68%|███████████████████████████▋             | 210/311 [01:55<00:48,  2.08it/s]"
     ]
    },
    {
     "name": "stdout",
     "output_type": "stream",
     "text": [
      "Warning: no finisher results for event 10300!\n"
     ]
    },
    {
     "name": "stderr",
     "output_type": "stream",
     "text": [
      " 69%|████████████████████████████▏            | 214/311 [01:56<00:44,  2.16it/s]"
     ]
    },
    {
     "name": "stdout",
     "output_type": "stream",
     "text": [
      "Warning: no finisher results for event 10620!\n"
     ]
    },
    {
     "name": "stderr",
     "output_type": "stream",
     "text": [
      " 71%|█████████████████████████████▎           | 222/311 [02:01<00:55,  1.59it/s]"
     ]
    },
    {
     "name": "stdout",
     "output_type": "stream",
     "text": [
      "Warning: no finisher results for event 10612!\n"
     ]
    },
    {
     "name": "stderr",
     "output_type": "stream",
     "text": [
      " 76%|██████████████████████████████▉          | 235/311 [02:07<00:29,  2.59it/s]"
     ]
    },
    {
     "name": "stdout",
     "output_type": "stream",
     "text": [
      "Warning: no finisher results for event 10644!\n"
     ]
    },
    {
     "name": "stderr",
     "output_type": "stream",
     "text": [
      " 76%|███████████████████████████████▏         | 237/311 [02:08<00:43,  1.68it/s]"
     ]
    },
    {
     "name": "stdout",
     "output_type": "stream",
     "text": [
      "Warning: no finisher results for event 9535!\n"
     ]
    },
    {
     "name": "stderr",
     "output_type": "stream",
     "text": [
      "\r",
      " 77%|███████████████████████████████▍         | 238/311 [02:09<00:38,  1.90it/s]"
     ]
    },
    {
     "name": "stdout",
     "output_type": "stream",
     "text": [
      "Warning: no finisher results for event 9125!\n"
     ]
    },
    {
     "name": "stderr",
     "output_type": "stream",
     "text": [
      " 81%|█████████████████████████████████        | 251/311 [02:18<00:42,  1.40it/s]"
     ]
    },
    {
     "name": "stdout",
     "output_type": "stream",
     "text": [
      "Warning: no finisher results for event 10631!\n"
     ]
    },
    {
     "name": "stderr",
     "output_type": "stream",
     "text": [
      " 81%|█████████████████████████████████▎       | 253/311 [02:18<00:31,  1.85it/s]"
     ]
    },
    {
     "name": "stdout",
     "output_type": "stream",
     "text": [
      "Warning: no finisher results for event 10630!\n"
     ]
    },
    {
     "name": "stderr",
     "output_type": "stream",
     "text": [
      "\r",
      " 82%|█████████████████████████████████▍       | 254/311 [02:19<00:27,  2.04it/s]"
     ]
    },
    {
     "name": "stdout",
     "output_type": "stream",
     "text": [
      "Warning: no finisher results for event 10694!\n"
     ]
    },
    {
     "name": "stderr",
     "output_type": "stream",
     "text": [
      " 84%|██████████████████████████████████▎      | 260/311 [02:21<00:20,  2.47it/s]"
     ]
    },
    {
     "name": "stdout",
     "output_type": "stream",
     "text": [
      "Warning: no finisher results for event 10655!\n"
     ]
    },
    {
     "name": "stderr",
     "output_type": "stream",
     "text": [
      "\r",
      " 84%|██████████████████████████████████▍      | 261/311 [02:22<00:19,  2.52it/s]"
     ]
    },
    {
     "name": "stdout",
     "output_type": "stream",
     "text": [
      "Warning: no finisher results for event 10691!\n"
     ]
    },
    {
     "name": "stderr",
     "output_type": "stream",
     "text": [
      " 85%|██████████████████████████████████▋      | 263/311 [02:22<00:18,  2.59it/s]"
     ]
    },
    {
     "name": "stdout",
     "output_type": "stream",
     "text": [
      "Warning: no finisher results for event 10661!\n"
     ]
    },
    {
     "name": "stderr",
     "output_type": "stream",
     "text": [
      " 86%|███████████████████████████████████      | 266/311 [02:23<00:17,  2.57it/s]"
     ]
    },
    {
     "name": "stdout",
     "output_type": "stream",
     "text": [
      "Warning: no finisher results for event 10690!\n"
     ]
    },
    {
     "name": "stderr",
     "output_type": "stream",
     "text": [
      "\r",
      " 86%|███████████████████████████████████▏     | 267/311 [02:24<00:16,  2.62it/s]"
     ]
    },
    {
     "name": "stdout",
     "output_type": "stream",
     "text": [
      "Warning: no finisher results for event 10624!\n"
     ]
    },
    {
     "name": "stderr",
     "output_type": "stream",
     "text": [
      " 87%|███████████████████████████████████▌     | 270/311 [02:25<00:16,  2.46it/s]"
     ]
    },
    {
     "name": "stdout",
     "output_type": "stream",
     "text": [
      "Warning: no finisher results for event 10623!\n"
     ]
    },
    {
     "name": "stderr",
     "output_type": "stream",
     "text": [
      " 89%|████████████████████████████████████▌    | 277/311 [02:29<00:18,  1.86it/s]"
     ]
    },
    {
     "name": "stdout",
     "output_type": "stream",
     "text": [
      "Warning: no finisher results for event 10686!\n"
     ]
    },
    {
     "name": "stderr",
     "output_type": "stream",
     "text": [
      " 90%|█████████████████████████████████████    | 281/311 [02:31<00:15,  1.90it/s]"
     ]
    },
    {
     "name": "stdout",
     "output_type": "stream",
     "text": [
      "Warning: no finisher results for event 10625!\n"
     ]
    },
    {
     "name": "stderr",
     "output_type": "stream",
     "text": [
      " 91%|█████████████████████████████████████▎   | 283/311 [02:32<00:12,  2.22it/s]"
     ]
    },
    {
     "name": "stdout",
     "output_type": "stream",
     "text": [
      "Warning: no finisher results for event 10676!\n"
     ]
    },
    {
     "name": "stderr",
     "output_type": "stream",
     "text": [
      " 92%|█████████████████████████████████████▌   | 285/311 [02:34<00:18,  1.39it/s]"
     ]
    },
    {
     "name": "stdout",
     "output_type": "stream",
     "text": [
      "Warning: no finisher results for event 10693!\n",
      "Warning: no finisher results for event 10692!\n"
     ]
    },
    {
     "name": "stderr",
     "output_type": "stream",
     "text": [
      "\r",
      " 92%|█████████████████████████████████████▋   | 286/311 [02:35<00:23,  1.06it/s]"
     ]
    },
    {
     "name": "stdout",
     "output_type": "stream",
     "text": [
      "Warning: no finisher results for event 10626!\n"
     ]
    },
    {
     "name": "stderr",
     "output_type": "stream",
     "text": [
      " 93%|██████████████████████████████████████▏  | 290/311 [02:39<00:17,  1.19it/s]"
     ]
    },
    {
     "name": "stdout",
     "output_type": "stream",
     "text": [
      "Warning: no finisher results for event 10685!\n"
     ]
    },
    {
     "name": "stderr",
     "output_type": "stream",
     "text": [
      " 94%|██████████████████████████████████████▋  | 293/311 [02:41<00:12,  1.46it/s]"
     ]
    },
    {
     "name": "stdout",
     "output_type": "stream",
     "text": [
      "Warning: no finisher results for event 9502!\n"
     ]
    },
    {
     "name": "stderr",
     "output_type": "stream",
     "text": [
      " 96%|███████████████████████████████████████▍ | 299/311 [02:43<00:05,  2.38it/s]"
     ]
    },
    {
     "name": "stdout",
     "output_type": "stream",
     "text": [
      "Warning: no finisher results for event 9624!\n"
     ]
    },
    {
     "name": "stderr",
     "output_type": "stream",
     "text": [
      " 97%|███████████████████████████████████████▋ | 301/311 [02:45<00:06,  1.64it/s]"
     ]
    },
    {
     "name": "stdout",
     "output_type": "stream",
     "text": [
      "Warning: no finisher results for event 10677!\n"
     ]
    },
    {
     "name": "stderr",
     "output_type": "stream",
     "text": [
      " 97%|███████████████████████████████████████▉ | 303/311 [02:46<00:03,  2.02it/s]"
     ]
    },
    {
     "name": "stdout",
     "output_type": "stream",
     "text": [
      "Warning: no finisher results for event 10689!\n"
     ]
    },
    {
     "name": "stderr",
     "output_type": "stream",
     "text": [
      "\r",
      " 98%|████████████████████████████████████████ | 304/311 [02:46<00:03,  2.19it/s]"
     ]
    },
    {
     "name": "stdout",
     "output_type": "stream",
     "text": [
      "Warning: no finisher results for event 10688!\n"
     ]
    },
    {
     "name": "stderr",
     "output_type": "stream",
     "text": [
      " 98%|████████████████████████████████████████▎| 306/311 [02:48<00:03,  1.60it/s]"
     ]
    },
    {
     "name": "stdout",
     "output_type": "stream",
     "text": [
      "Warning: no finisher results for event 8912!\n"
     ]
    },
    {
     "name": "stderr",
     "output_type": "stream",
     "text": [
      "\r",
      " 99%|████████████████████████████████████████▍| 307/311 [02:48<00:02,  1.81it/s]"
     ]
    },
    {
     "name": "stdout",
     "output_type": "stream",
     "text": [
      "Warning: no finisher results for event 10678!\n"
     ]
    },
    {
     "name": "stderr",
     "output_type": "stream",
     "text": [
      "100%|████████████████████████████████████████▊| 310/311 [02:50<00:00,  2.25it/s]"
     ]
    },
    {
     "name": "stdout",
     "output_type": "stream",
     "text": [
      "Warning: no finisher results for event 10679!\n"
     ]
    },
    {
     "name": "stderr",
     "output_type": "stream",
     "text": [
      "100%|█████████████████████████████████████████| 311/311 [02:50<00:00,  1.82it/s]\n"
     ]
    }
   ],
   "source": [
    "for e in tqdm(event_ids[650:]):\n",
    "    #print(e)\n",
    "    this_d_e = get_event_details_results(e)\n",
    "    e_detail_list.append(this_d_e[0])\n",
    "    e_results_list.append(this_d_e[1])\n",
    "    if(int(e) % 6 == 0):\n",
    "        #print('Sleeping')\n",
    "        sleep(1)"
   ]
  },
  {
   "cell_type": "code",
   "execution_count": 86,
   "id": "52ba1e2b",
   "metadata": {},
   "outputs": [
    {
     "name": "stdout",
     "output_type": "stream",
     "text": [
      "961 961 961\n"
     ]
    }
   ],
   "source": [
    "print(len(e_detail_list), len(e_results_list), len(event_ids))"
   ]
  },
  {
   "cell_type": "code",
   "execution_count": 71,
   "id": "470c6d43",
   "metadata": {},
   "outputs": [
    {
     "data": {
      "text/plain": [
       "'9133'"
      ]
     },
     "execution_count": 71,
     "metadata": {},
     "output_type": "execute_result"
    }
   ],
   "source": [
    "event_ids[14]"
   ]
  },
  {
   "cell_type": "code",
   "execution_count": 93,
   "id": "0bb81fc1",
   "metadata": {},
   "outputs": [],
   "source": [
    "event_results = pd.concat(e_results_list)"
   ]
  },
  {
   "cell_type": "code",
   "execution_count": 97,
   "id": "20d5f1dd",
   "metadata": {},
   "outputs": [],
   "source": [
    "event_details = pd.concat(e_detail_list)"
   ]
  },
  {
   "cell_type": "code",
   "execution_count": 124,
   "id": "4cfdc899",
   "metadata": {},
   "outputs": [],
   "source": [
    "# erl2 = list(compress(e_results_list, \n",
    "#                      events.type.isin(non_team_types)))"
   ]
  },
  {
   "cell_type": "code",
   "execution_count": 146,
   "id": "97c933a1",
   "metadata": {},
   "outputs": [],
   "source": [
    "event_details.reset_index(inplace=True, drop=True)\n",
    "event_results.reset_index(inplace=True, drop=True)"
   ]
  },
  {
   "cell_type": "code",
   "execution_count": 147,
   "id": "cb703a64",
   "metadata": {},
   "outputs": [
    {
     "data": {
      "text/html": [
       "<div>\n",
       "<style scoped>\n",
       "    .dataframe tbody tr th:only-of-type {\n",
       "        vertical-align: middle;\n",
       "    }\n",
       "\n",
       "    .dataframe tbody tr th {\n",
       "        vertical-align: top;\n",
       "    }\n",
       "\n",
       "    .dataframe thead th {\n",
       "        text-align: right;\n",
       "    }\n",
       "</style>\n",
       "<table border=\"1\" class=\"dataframe\">\n",
       "  <thead>\n",
       "    <tr style=\"text-align: right;\">\n",
       "      <th></th>\n",
       "      <th>cert</th>\n",
       "      <th>rusa</th>\n",
       "      <th>name</th>\n",
       "      <th>club / acp code</th>\n",
       "      <th>time</th>\n",
       "      <th>medal</th>\n",
       "      <th>eid</th>\n",
       "    </tr>\n",
       "  </thead>\n",
       "  <tbody>\n",
       "    <tr>\n",
       "      <th>0</th>\n",
       "      <td>RUSA-P13549</td>\n",
       "      <td>7588</td>\n",
       "      <td>GREEN, Bill</td>\n",
       "      <td>Davis Bike Club / 905014</td>\n",
       "      <td>06:12</td>\n",
       "      <td>Y</td>\n",
       "      <td>9437</td>\n",
       "    </tr>\n",
       "    <tr>\n",
       "      <th>1</th>\n",
       "      <td>RUSA-P13550</td>\n",
       "      <td>8883</td>\n",
       "      <td>GREEN, Anne</td>\n",
       "      <td>Davis Bike Club / 905014</td>\n",
       "      <td>06:12</td>\n",
       "      <td>NaN</td>\n",
       "      <td>9437</td>\n",
       "    </tr>\n",
       "    <tr>\n",
       "      <th>2</th>\n",
       "      <td>RUSA-P13551</td>\n",
       "      <td>6328</td>\n",
       "      <td>ALBRIGHT, Dean</td>\n",
       "      <td>Davis Bike Club / 905014</td>\n",
       "      <td>05:40</td>\n",
       "      <td>NaN</td>\n",
       "      <td>9437</td>\n",
       "    </tr>\n",
       "    <tr>\n",
       "      <th>3</th>\n",
       "      <td>RUSA-P13552</td>\n",
       "      <td>7497</td>\n",
       "      <td>MACY, Kelly</td>\n",
       "      <td>Davis Bike Club / 905014</td>\n",
       "      <td>05:40</td>\n",
       "      <td>NaN</td>\n",
       "      <td>9437</td>\n",
       "    </tr>\n",
       "    <tr>\n",
       "      <th>4</th>\n",
       "      <td>RUSA-P13553</td>\n",
       "      <td>6949</td>\n",
       "      <td>CARLSON, Drew</td>\n",
       "      <td>San Francisco Randonneurs / 905030</td>\n",
       "      <td>05:40</td>\n",
       "      <td>NaN</td>\n",
       "      <td>9437</td>\n",
       "    </tr>\n",
       "  </tbody>\n",
       "</table>\n",
       "</div>"
      ],
      "text/plain": [
       "          cert  rusa            name                     club / acp code  \\\n",
       "0  RUSA-P13549  7588     GREEN, Bill            Davis Bike Club / 905014   \n",
       "1  RUSA-P13550  8883     GREEN, Anne            Davis Bike Club / 905014   \n",
       "2  RUSA-P13551  6328  ALBRIGHT, Dean            Davis Bike Club / 905014   \n",
       "3  RUSA-P13552  7497     MACY, Kelly            Davis Bike Club / 905014   \n",
       "4  RUSA-P13553  6949   CARLSON, Drew  San Francisco Randonneurs / 905030   \n",
       "\n",
       "    time medal   eid  \n",
       "0  06:12     Y  9437  \n",
       "1  06:12   NaN  9437  \n",
       "2  05:40   NaN  9437  \n",
       "3  05:40   NaN  9437  \n",
       "4  05:40   NaN  9437  "
      ]
     },
     "execution_count": 147,
     "metadata": {},
     "output_type": "execute_result"
    }
   ],
   "source": [
    "event_results.head()"
   ]
  },
  {
   "cell_type": "code",
   "execution_count": 145,
   "id": "c782935d",
   "metadata": {},
   "outputs": [
    {
     "data": {
      "text/html": [
       "<div>\n",
       "<style scoped>\n",
       "    .dataframe tbody tr th:only-of-type {\n",
       "        vertical-align: middle;\n",
       "    }\n",
       "\n",
       "    .dataframe tbody tr th {\n",
       "        vertical-align: top;\n",
       "    }\n",
       "\n",
       "    .dataframe thead th {\n",
       "        text-align: right;\n",
       "    }\n",
       "</style>\n",
       "<table border=\"1\" class=\"dataframe\">\n",
       "  <thead>\n",
       "    <tr style=\"text-align: right;\">\n",
       "      <th></th>\n",
       "      <th>region</th>\n",
       "      <th>club</th>\n",
       "      <th>type</th>\n",
       "      <th>distance</th>\n",
       "      <th>date</th>\n",
       "      <th>finishers</th>\n",
       "      <th>dnf</th>\n",
       "      <th>eid</th>\n",
       "    </tr>\n",
       "  </thead>\n",
       "  <tbody>\n",
       "    <tr>\n",
       "      <th>0</th>\n",
       "      <td>VA: Tidewater</td>\n",
       "      <td>Tidewater Randonneurs / 946002</td>\n",
       "      <td>RUSAP</td>\n",
       "      <td>100.0</td>\n",
       "      <td>2018/01/01</td>\n",
       "      <td>0</td>\n",
       "      <td>NaN</td>\n",
       "      <td>8988</td>\n",
       "    </tr>\n",
       "    <tr>\n",
       "      <th>1</th>\n",
       "      <td>CA: Davis</td>\n",
       "      <td>Davis Bike Club / 905014</td>\n",
       "      <td>RUSAP</td>\n",
       "      <td>103.0</td>\n",
       "      <td>2018/01/01</td>\n",
       "      <td>6</td>\n",
       "      <td>0.0</td>\n",
       "      <td>9437</td>\n",
       "    </tr>\n",
       "    <tr>\n",
       "      <th>2</th>\n",
       "      <td>CA: Santa Cruz</td>\n",
       "      <td>Santa Cruz Randonneurs / 905106</td>\n",
       "      <td>ACPB</td>\n",
       "      <td>200.0</td>\n",
       "      <td>2018/01/01</td>\n",
       "      <td>1</td>\n",
       "      <td>1.0</td>\n",
       "      <td>9304</td>\n",
       "    </tr>\n",
       "    <tr>\n",
       "      <th>3</th>\n",
       "      <td>MO: Kansas City</td>\n",
       "      <td>Kansas City Ultra Cycling / 925001</td>\n",
       "      <td>RUSAP</td>\n",
       "      <td>104.0</td>\n",
       "      <td>2018/01/01</td>\n",
       "      <td>0</td>\n",
       "      <td>NaN</td>\n",
       "      <td>9632</td>\n",
       "    </tr>\n",
       "    <tr>\n",
       "      <th>4</th>\n",
       "      <td>TX: Dallas</td>\n",
       "      <td>Lone Star Randonneurs / 943026</td>\n",
       "      <td>RUSAP</td>\n",
       "      <td>100.0</td>\n",
       "      <td>2018/01/01</td>\n",
       "      <td>6</td>\n",
       "      <td>0.0</td>\n",
       "      <td>8914</td>\n",
       "    </tr>\n",
       "  </tbody>\n",
       "</table>\n",
       "</div>"
      ],
      "text/plain": [
       "            region                                club   type  distance  \\\n",
       "0    VA: Tidewater      Tidewater Randonneurs / 946002  RUSAP     100.0   \n",
       "1        CA: Davis            Davis Bike Club / 905014  RUSAP     103.0   \n",
       "2   CA: Santa Cruz     Santa Cruz Randonneurs / 905106   ACPB     200.0   \n",
       "3  MO: Kansas City  Kansas City Ultra Cycling / 925001  RUSAP     104.0   \n",
       "4       TX: Dallas      Lone Star Randonneurs / 943026  RUSAP     100.0   \n",
       "\n",
       "         date  finishers  dnf   eid  \n",
       "0  2018/01/01          0  NaN  8988  \n",
       "1  2018/01/01          6  0.0  9437  \n",
       "2  2018/01/01          1  1.0  9304  \n",
       "3  2018/01/01          0  NaN  9632  \n",
       "4  2018/01/01          6  0.0  8914  "
      ]
     },
     "execution_count": 145,
     "metadata": {},
     "output_type": "execute_result"
    }
   ],
   "source": [
    "event_details.head()"
   ]
  },
  {
   "cell_type": "code",
   "execution_count": 150,
   "id": "c943477b",
   "metadata": {},
   "outputs": [],
   "source": [
    "event_details.to_csv('event_details_2018.csv', index=False)"
   ]
  },
  {
   "cell_type": "code",
   "execution_count": 151,
   "id": "76fdcc77",
   "metadata": {},
   "outputs": [],
   "source": [
    "event_results.to_csv('event_results_2018.csv', index=False)"
   ]
  },
  {
   "cell_type": "code",
   "execution_count": null,
   "id": "a5ff3787",
   "metadata": {},
   "outputs": [],
   "source": []
  }
 ],
 "metadata": {
  "kernelspec": {
   "display_name": "Python 3 (ipykernel)",
   "language": "python",
   "name": "python3"
  },
  "language_info": {
   "codemirror_mode": {
    "name": "ipython",
    "version": 3
   },
   "file_extension": ".py",
   "mimetype": "text/x-python",
   "name": "python",
   "nbconvert_exporter": "python",
   "pygments_lexer": "ipython3",
   "version": "3.9.6"
  }
 },
 "nbformat": 4,
 "nbformat_minor": 5
}
