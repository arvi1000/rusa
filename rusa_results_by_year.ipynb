{
 "cells": [
  {
   "cell_type": "code",
   "execution_count": 1,
   "id": "8dcd8925",
   "metadata": {},
   "outputs": [],
   "source": [
    "import pandas as pd\n",
    "from time import sleep\n",
    "from tqdm import tqdm\n",
    "#from itertools import compress"
   ]
  },
  {
   "cell_type": "code",
   "execution_count": 2,
   "id": "1c952d42",
   "metadata": {},
   "outputs": [],
   "source": [
    "TARGET_YEAR = '2019'"
   ]
  },
  {
   "cell_type": "code",
   "execution_count": 3,
   "id": "e7b48d82",
   "metadata": {},
   "outputs": [],
   "source": [
    "def check_YYYY(YYYY):\n",
    "    is_good = isinstance(YYYY, str) and len(YYYY) == 4 and YYYY.isdigit()\n",
    "    if(not(is_good)):\n",
    "       raise Exception(\"Bad args\")\n",
    "    return(is_good)"
   ]
  },
  {
   "cell_type": "code",
   "execution_count": 4,
   "id": "5353ce77",
   "metadata": {},
   "outputs": [],
   "source": [
    "def clean_names(old_cols):\n",
    "    new_cols = [c.lower().replace('#', '') for c in old_cols]\n",
    "    return(new_cols)"
   ]
  },
  {
   "cell_type": "code",
   "execution_count": 5,
   "id": "74044b4e",
   "metadata": {},
   "outputs": [],
   "source": [
    "def get_events(YYYY):\n",
    "    check_YYYY(YYYY)\n",
    "    url = f\"https://rusa.org/cgi-bin/resultsearch_PF.pl?regid=&date={YYYY}&type=&dist=&rtid=&esortby=cert&collapse=0\"\n",
    "    print(url)\n",
    "    \n",
    "    # get versions with and without links\n",
    "    dat_links = pd.read_html(url, extract_links='all')[0]\n",
    "    dat = pd.read_html(url)[0]\n",
    "    \n",
    "    # break apart tuples to get urls. we'll have columns called 0 and 1\n",
    "        # TODO: validate it contains Route and select columns\n",
    "    route_ids = pd.DataFrame(dat_links[('Route', None)].tolist(), \n",
    "                             index=dat_links.index)\n",
    "    event_ids = pd.DataFrame(dat_links[('select', None)].tolist(), \n",
    "                             index=dat_links.index)\n",
    "\n",
    "    # extract ids from link urls in column 1\n",
    "        # TODO validate regex, in case format changes\n",
    "    dat['rt_url'] = route_ids[1]\n",
    "    dat['rtid'] = route_ids[1].str.extract('^.*rtid=(.*)')\n",
    "    dat['event_url'] = event_ids[1]\n",
    "    dat['eid'] = event_ids[1].str.extract('^.*eid=(.*)&')\n",
    "    \n",
    "    # clean col names\n",
    "    new_cols = [c.lower() for c in list(dat.columns)]\n",
    "    dat.columns = new_cols\n",
    "\n",
    "    # drop first row and the 'select' column\n",
    "    dat = dat.drop(0, axis=0)\n",
    "    dat = dat.drop('select', axis=1)\n",
    "\n",
    "    return(dat)"
   ]
  },
  {
   "cell_type": "code",
   "execution_count": 6,
   "id": "f4da9b9b",
   "metadata": {},
   "outputs": [
    {
     "name": "stdout",
     "output_type": "stream",
     "text": [
      "https://rusa.org/cgi-bin/resultsearch_PF.pl?regid=&date=2019&type=&dist=&rtid=&esortby=cert&collapse=0\n"
     ]
    },
    {
     "data": {
      "text/html": [
       "<div>\n",
       "<style scoped>\n",
       "    .dataframe tbody tr th:only-of-type {\n",
       "        vertical-align: middle;\n",
       "    }\n",
       "\n",
       "    .dataframe tbody tr th {\n",
       "        vertical-align: top;\n",
       "    }\n",
       "\n",
       "    .dataframe thead th {\n",
       "        text-align: right;\n",
       "    }\n",
       "</style>\n",
       "<table border=\"1\" class=\"dataframe\">\n",
       "  <thead>\n",
       "    <tr style=\"text-align: right;\">\n",
       "      <th></th>\n",
       "      <th>region</th>\n",
       "      <th>club</th>\n",
       "      <th>type</th>\n",
       "      <th>distance</th>\n",
       "      <th>date</th>\n",
       "      <th>route</th>\n",
       "      <th>rt_url</th>\n",
       "      <th>rtid</th>\n",
       "      <th>event_url</th>\n",
       "      <th>eid</th>\n",
       "    </tr>\n",
       "  </thead>\n",
       "  <tbody>\n",
       "    <tr>\n",
       "      <th>1</th>\n",
       "      <td>TX: Dallas</td>\n",
       "      <td>Lone Star Randonneurs / 943026</td>\n",
       "      <td>RUSAP</td>\n",
       "      <td>100</td>\n",
       "      <td>2019/01/01</td>\n",
       "      <td>The Doctor's Daughter 100</td>\n",
       "      <td>/cgi-bin/routesearch_PF.pl?rtid=1491</td>\n",
       "      <td>1491</td>\n",
       "      <td>/cgi-bin/resultsearch_PF.pl?eid=10077&amp;esortby=...</td>\n",
       "      <td>10077</td>\n",
       "    </tr>\n",
       "    <tr>\n",
       "      <th>2</th>\n",
       "      <td>CA: Los Angeles</td>\n",
       "      <td>Channel Islands Bike Club / 905082</td>\n",
       "      <td>ACPB</td>\n",
       "      <td>200</td>\n",
       "      <td>2019/01/01</td>\n",
       "      <td>Orange County Pendleton 200K</td>\n",
       "      <td>/cgi-bin/routesearch_PF.pl?rtid=995</td>\n",
       "      <td>995</td>\n",
       "      <td>/cgi-bin/resultsearch_PF.pl?eid=10423&amp;esortby=...</td>\n",
       "      <td>10423</td>\n",
       "    </tr>\n",
       "    <tr>\n",
       "      <th>3</th>\n",
       "      <td>CA: Davis</td>\n",
       "      <td>Davis Bike Club / 905014</td>\n",
       "      <td>ACPB</td>\n",
       "      <td>200</td>\n",
       "      <td>2019/01/01</td>\n",
       "      <td>Davis-Calistoga-Davis 200Km</td>\n",
       "      <td>/cgi-bin/routesearch_PF.pl?rtid=1163</td>\n",
       "      <td>1163</td>\n",
       "      <td>/cgi-bin/resultsearch_PF.pl?eid=9450&amp;esortby=cert</td>\n",
       "      <td>9450</td>\n",
       "    </tr>\n",
       "    <tr>\n",
       "      <th>4</th>\n",
       "      <td>CA: Davis</td>\n",
       "      <td>Davis Bike Club / 905014</td>\n",
       "      <td>RUSAP</td>\n",
       "      <td>103</td>\n",
       "      <td>2019/01/01</td>\n",
       "      <td>Moskowite Corner 100Km</td>\n",
       "      <td>/cgi-bin/routesearch_PF.pl?rtid=1322</td>\n",
       "      <td>1322</td>\n",
       "      <td>/cgi-bin/resultsearch_PF.pl?eid=9451&amp;esortby=cert</td>\n",
       "      <td>9451</td>\n",
       "    </tr>\n",
       "    <tr>\n",
       "      <th>5</th>\n",
       "      <td>VA: Tidewater</td>\n",
       "      <td>Tidewater Randonneurs / 946002</td>\n",
       "      <td>RUSAP</td>\n",
       "      <td>100</td>\n",
       "      <td>2019/01/01</td>\n",
       "      <td>Suffolk 100K</td>\n",
       "      <td>/cgi-bin/routesearch_PF.pl?rtid=2034</td>\n",
       "      <td>2034</td>\n",
       "      <td>/cgi-bin/resultsearch_PF.pl?eid=10050&amp;esortby=...</td>\n",
       "      <td>10050</td>\n",
       "    </tr>\n",
       "  </tbody>\n",
       "</table>\n",
       "</div>"
      ],
      "text/plain": [
       "            region                                club   type  distance  \\\n",
       "1       TX: Dallas      Lone Star Randonneurs / 943026  RUSAP       100   \n",
       "2  CA: Los Angeles  Channel Islands Bike Club / 905082   ACPB       200   \n",
       "3        CA: Davis            Davis Bike Club / 905014   ACPB       200   \n",
       "4        CA: Davis            Davis Bike Club / 905014  RUSAP       103   \n",
       "5    VA: Tidewater      Tidewater Randonneurs / 946002  RUSAP       100   \n",
       "\n",
       "         date                         route  \\\n",
       "1  2019/01/01     The Doctor's Daughter 100   \n",
       "2  2019/01/01  Orange County Pendleton 200K   \n",
       "3  2019/01/01   Davis-Calistoga-Davis 200Km   \n",
       "4  2019/01/01        Moskowite Corner 100Km   \n",
       "5  2019/01/01                  Suffolk 100K   \n",
       "\n",
       "                                 rt_url  rtid  \\\n",
       "1  /cgi-bin/routesearch_PF.pl?rtid=1491  1491   \n",
       "2   /cgi-bin/routesearch_PF.pl?rtid=995   995   \n",
       "3  /cgi-bin/routesearch_PF.pl?rtid=1163  1163   \n",
       "4  /cgi-bin/routesearch_PF.pl?rtid=1322  1322   \n",
       "5  /cgi-bin/routesearch_PF.pl?rtid=2034  2034   \n",
       "\n",
       "                                           event_url    eid  \n",
       "1  /cgi-bin/resultsearch_PF.pl?eid=10077&esortby=...  10077  \n",
       "2  /cgi-bin/resultsearch_PF.pl?eid=10423&esortby=...  10423  \n",
       "3  /cgi-bin/resultsearch_PF.pl?eid=9450&esortby=cert   9450  \n",
       "4  /cgi-bin/resultsearch_PF.pl?eid=9451&esortby=cert   9451  \n",
       "5  /cgi-bin/resultsearch_PF.pl?eid=10050&esortby=...  10050  "
      ]
     },
     "execution_count": 6,
     "metadata": {},
     "output_type": "execute_result"
    }
   ],
   "source": [
    "events = get_events(TARGET_YEAR)\n",
    "events.head()"
   ]
  },
  {
   "cell_type": "code",
   "execution_count": 7,
   "id": "89eff76f",
   "metadata": {},
   "outputs": [],
   "source": [
    "def get_event_details_results(eid):\n",
    "    \n",
    "    event_url = f\"https://rusa.org/cgi-bin/resultsearch_PF.pl?eid={eid}&esortby=cert\"\n",
    "    #print(event_url)\n",
    "    two_dats = pd.read_html(event_url)\n",
    "    \n",
    "    event_details = two_dats[0]\n",
    "    event_details.columns = clean_names(list(event_details.columns))\n",
    "    event_details['eid'] = eid\n",
    "\n",
    "    # warn if we only get one table back\n",
    "    if(len(two_dats)<2):\n",
    "        #print(f'Warning: no finisher results for event {eid}!')\n",
    "        event_results = pd.DataFrame()\n",
    "    else:\n",
    "        event_results = two_dats[1]\n",
    "        event_results.columns = clean_names(list(event_results.columns))\n",
    "        # drop the rows 'x nonmembers also finished'\n",
    "        try:\n",
    "            event_results = event_results.drop(\n",
    "                event_results[event_results.cert.str.contains('also finished')].index\n",
    "            )\n",
    "        except:\n",
    "            pass\n",
    "            #print(f\"eid {eid} - couldn't drop 'non member' result rows\")\n",
    "        event_results['eid'] = eid\n",
    "    \n",
    "    return([event_details,event_results])"
   ]
  },
  {
   "cell_type": "code",
   "execution_count": 8,
   "id": "2f60f266",
   "metadata": {},
   "outputs": [
    {
     "data": {
      "text/plain": [
       "type\n",
       "ACPB     611\n",
       "ACPF      15\n",
       "ACPR       3\n",
       "RM         3\n",
       "RUSAB    137\n",
       "RUSAF      9\n",
       "RUSAP    173\n",
       "dtype: int64"
      ]
     },
     "execution_count": 8,
     "metadata": {},
     "output_type": "execute_result"
    }
   ],
   "source": [
    "events.groupby('type').size()"
   ]
  },
  {
   "cell_type": "code",
   "execution_count": 9,
   "id": "f91bd324",
   "metadata": {},
   "outputs": [],
   "source": [
    "# https://rusa.org/pages/eventtypes\n",
    "non_team_types = ['ACPB', 'RM', 'RUSAB', 'RUSAP']"
   ]
  },
  {
   "cell_type": "code",
   "execution_count": 10,
   "id": "06440323",
   "metadata": {},
   "outputs": [
    {
     "name": "stdout",
     "output_type": "stream",
     "text": [
      "924\n"
     ]
    }
   ],
   "source": [
    "# list of event ids for the non team event types, for which we'll get results/details\n",
    "event_ids = events[events.type.isin(non_team_types)].eid.to_list()\n",
    "print(len(event_ids))"
   ]
  },
  {
   "cell_type": "code",
   "execution_count": 11,
   "id": "6b1f37d9",
   "metadata": {},
   "outputs": [],
   "source": [
    "e_detail_list = []\n",
    "e_results_list = []"
   ]
  },
  {
   "cell_type": "code",
   "execution_count": 12,
   "id": "34166835",
   "metadata": {},
   "outputs": [
    {
     "name": "stderr",
     "output_type": "stream",
     "text": [
      "100%|█████████████████████████████████████████| 924/924 [08:38<00:00,  1.78it/s]\n"
     ]
    }
   ],
   "source": [
    "for e in tqdm(event_ids):\n",
    "    #print(e)\n",
    "    this_d_e = get_event_details_results(e)\n",
    "    e_detail_list.append(this_d_e[0])\n",
    "    e_results_list.append(this_d_e[1])\n",
    "    if(int(e) % 6 == 0):\n",
    "        #print('Sleeping')\n",
    "        sleep(1)"
   ]
  },
  {
   "cell_type": "code",
   "execution_count": 13,
   "id": "a409487e",
   "metadata": {},
   "outputs": [
    {
     "name": "stdout",
     "output_type": "stream",
     "text": [
      "924 924 924\n"
     ]
    }
   ],
   "source": [
    "# should all be the same\n",
    "print(len(e_detail_list), len(e_results_list), len(event_ids))"
   ]
  },
  {
   "cell_type": "code",
   "execution_count": 14,
   "id": "6e46b5ea",
   "metadata": {},
   "outputs": [],
   "source": [
    "event_results = pd.concat(e_results_list)"
   ]
  },
  {
   "cell_type": "code",
   "execution_count": 15,
   "id": "c8ec0a48",
   "metadata": {},
   "outputs": [],
   "source": [
    "event_details = pd.concat(e_detail_list)"
   ]
  },
  {
   "cell_type": "code",
   "execution_count": 124,
   "id": "b8084458",
   "metadata": {},
   "outputs": [],
   "source": [
    "# erl2 = list(compress(e_results_list, \n",
    "#                      events.type.isin(non_team_types)))"
   ]
  },
  {
   "cell_type": "code",
   "execution_count": 16,
   "id": "ebbe02c4",
   "metadata": {},
   "outputs": [],
   "source": [
    "event_details.reset_index(inplace=True, drop=True)\n",
    "event_results.reset_index(inplace=True, drop=True)"
   ]
  },
  {
   "cell_type": "code",
   "execution_count": 17,
   "id": "768fb25c",
   "metadata": {},
   "outputs": [
    {
     "data": {
      "text/html": [
       "<div>\n",
       "<style scoped>\n",
       "    .dataframe tbody tr th:only-of-type {\n",
       "        vertical-align: middle;\n",
       "    }\n",
       "\n",
       "    .dataframe tbody tr th {\n",
       "        vertical-align: top;\n",
       "    }\n",
       "\n",
       "    .dataframe thead th {\n",
       "        text-align: right;\n",
       "    }\n",
       "</style>\n",
       "<table border=\"1\" class=\"dataframe\">\n",
       "  <thead>\n",
       "    <tr style=\"text-align: right;\">\n",
       "      <th></th>\n",
       "      <th>cert</th>\n",
       "      <th>rusa</th>\n",
       "      <th>name</th>\n",
       "      <th>club / acp code</th>\n",
       "      <th>time</th>\n",
       "      <th>medal</th>\n",
       "      <th>eid</th>\n",
       "    </tr>\n",
       "  </thead>\n",
       "  <tbody>\n",
       "    <tr>\n",
       "      <th>0</th>\n",
       "      <td>RUSA-P15298</td>\n",
       "      <td>413</td>\n",
       "      <td>MYERS, Mike</td>\n",
       "      <td>Lone Star Randonneurs / 943026</td>\n",
       "      <td>05:40</td>\n",
       "      <td>NaN</td>\n",
       "      <td>10077</td>\n",
       "    </tr>\n",
       "    <tr>\n",
       "      <th>1</th>\n",
       "      <td>RUSA-P15299</td>\n",
       "      <td>414</td>\n",
       "      <td>MYERS, Nancy</td>\n",
       "      <td>Lone Star Randonneurs / 943026</td>\n",
       "      <td>05:40</td>\n",
       "      <td>NaN</td>\n",
       "      <td>10077</td>\n",
       "    </tr>\n",
       "    <tr>\n",
       "      <th>2</th>\n",
       "      <td>RUSA-P15300</td>\n",
       "      <td>8958</td>\n",
       "      <td>HARE, Karen</td>\n",
       "      <td>Lone Star Randonneurs / 943026</td>\n",
       "      <td>05:00</td>\n",
       "      <td>NaN</td>\n",
       "      <td>10077</td>\n",
       "    </tr>\n",
       "    <tr>\n",
       "      <th>3</th>\n",
       "      <td>RUSA-P15301</td>\n",
       "      <td>11103</td>\n",
       "      <td>HALL, David D</td>\n",
       "      <td>Lone Star Randonneurs / 943026</td>\n",
       "      <td>05:15</td>\n",
       "      <td>NaN</td>\n",
       "      <td>10077</td>\n",
       "    </tr>\n",
       "    <tr>\n",
       "      <th>4</th>\n",
       "      <td>RUSA-P15302</td>\n",
       "      <td>4495</td>\n",
       "      <td>TYER, Vickie</td>\n",
       "      <td>Lone Star Randonneurs / 943026</td>\n",
       "      <td>05:15</td>\n",
       "      <td>NaN</td>\n",
       "      <td>10077</td>\n",
       "    </tr>\n",
       "  </tbody>\n",
       "</table>\n",
       "</div>"
      ],
      "text/plain": [
       "          cert   rusa           name                 club / acp code   time  \\\n",
       "0  RUSA-P15298    413    MYERS, Mike  Lone Star Randonneurs / 943026  05:40   \n",
       "1  RUSA-P15299    414   MYERS, Nancy  Lone Star Randonneurs / 943026  05:40   \n",
       "2  RUSA-P15300   8958    HARE, Karen  Lone Star Randonneurs / 943026  05:00   \n",
       "3  RUSA-P15301  11103  HALL, David D  Lone Star Randonneurs / 943026  05:15   \n",
       "4  RUSA-P15302   4495   TYER, Vickie  Lone Star Randonneurs / 943026  05:15   \n",
       "\n",
       "  medal    eid  \n",
       "0   NaN  10077  \n",
       "1   NaN  10077  \n",
       "2   NaN  10077  \n",
       "3   NaN  10077  \n",
       "4   NaN  10077  "
      ]
     },
     "execution_count": 17,
     "metadata": {},
     "output_type": "execute_result"
    }
   ],
   "source": [
    "event_results.head()"
   ]
  },
  {
   "cell_type": "code",
   "execution_count": 18,
   "id": "870f6c82",
   "metadata": {},
   "outputs": [
    {
     "data": {
      "text/html": [
       "<div>\n",
       "<style scoped>\n",
       "    .dataframe tbody tr th:only-of-type {\n",
       "        vertical-align: middle;\n",
       "    }\n",
       "\n",
       "    .dataframe tbody tr th {\n",
       "        vertical-align: top;\n",
       "    }\n",
       "\n",
       "    .dataframe thead th {\n",
       "        text-align: right;\n",
       "    }\n",
       "</style>\n",
       "<table border=\"1\" class=\"dataframe\">\n",
       "  <thead>\n",
       "    <tr style=\"text-align: right;\">\n",
       "      <th></th>\n",
       "      <th>region</th>\n",
       "      <th>club</th>\n",
       "      <th>type</th>\n",
       "      <th>distance</th>\n",
       "      <th>date</th>\n",
       "      <th>finishers</th>\n",
       "      <th>dnf</th>\n",
       "      <th>eid</th>\n",
       "    </tr>\n",
       "  </thead>\n",
       "  <tbody>\n",
       "    <tr>\n",
       "      <th>0</th>\n",
       "      <td>TX: Dallas</td>\n",
       "      <td>Lone Star Randonneurs / 943026</td>\n",
       "      <td>RUSAP</td>\n",
       "      <td>100</td>\n",
       "      <td>2019/01/01</td>\n",
       "      <td>5</td>\n",
       "      <td>0.0</td>\n",
       "      <td>10077</td>\n",
       "    </tr>\n",
       "    <tr>\n",
       "      <th>1</th>\n",
       "      <td>CA: Los Angeles</td>\n",
       "      <td>Channel Islands Bike Club / 905082</td>\n",
       "      <td>ACPB</td>\n",
       "      <td>200</td>\n",
       "      <td>2019/01/01</td>\n",
       "      <td>8</td>\n",
       "      <td>2.0</td>\n",
       "      <td>10423</td>\n",
       "    </tr>\n",
       "    <tr>\n",
       "      <th>2</th>\n",
       "      <td>CA: Davis</td>\n",
       "      <td>Davis Bike Club / 905014</td>\n",
       "      <td>ACPB</td>\n",
       "      <td>200</td>\n",
       "      <td>2019/01/01</td>\n",
       "      <td>24</td>\n",
       "      <td>1.0</td>\n",
       "      <td>9450</td>\n",
       "    </tr>\n",
       "    <tr>\n",
       "      <th>3</th>\n",
       "      <td>CA: Davis</td>\n",
       "      <td>Davis Bike Club / 905014</td>\n",
       "      <td>RUSAP</td>\n",
       "      <td>103</td>\n",
       "      <td>2019/01/01</td>\n",
       "      <td>6</td>\n",
       "      <td>0.0</td>\n",
       "      <td>9451</td>\n",
       "    </tr>\n",
       "    <tr>\n",
       "      <th>4</th>\n",
       "      <td>VA: Tidewater</td>\n",
       "      <td>Tidewater Randonneurs / 946002</td>\n",
       "      <td>RUSAP</td>\n",
       "      <td>100</td>\n",
       "      <td>2019/01/01</td>\n",
       "      <td>3</td>\n",
       "      <td>0.0</td>\n",
       "      <td>10050</td>\n",
       "    </tr>\n",
       "  </tbody>\n",
       "</table>\n",
       "</div>"
      ],
      "text/plain": [
       "            region                                club   type  distance  \\\n",
       "0       TX: Dallas      Lone Star Randonneurs / 943026  RUSAP       100   \n",
       "1  CA: Los Angeles  Channel Islands Bike Club / 905082   ACPB       200   \n",
       "2        CA: Davis            Davis Bike Club / 905014   ACPB       200   \n",
       "3        CA: Davis            Davis Bike Club / 905014  RUSAP       103   \n",
       "4    VA: Tidewater      Tidewater Randonneurs / 946002  RUSAP       100   \n",
       "\n",
       "         date  finishers  dnf    eid  \n",
       "0  2019/01/01          5  0.0  10077  \n",
       "1  2019/01/01          8  2.0  10423  \n",
       "2  2019/01/01         24  1.0   9450  \n",
       "3  2019/01/01          6  0.0   9451  \n",
       "4  2019/01/01          3  0.0  10050  "
      ]
     },
     "execution_count": 18,
     "metadata": {},
     "output_type": "execute_result"
    }
   ],
   "source": [
    "event_details.head()"
   ]
  },
  {
   "cell_type": "code",
   "execution_count": 19,
   "id": "88cb0cdd",
   "metadata": {},
   "outputs": [],
   "source": [
    "event_details.to_csv(f'event_details_{TARGET_YEAR}.csv', index=False)"
   ]
  },
  {
   "cell_type": "code",
   "execution_count": 20,
   "id": "0b6a3c7a",
   "metadata": {},
   "outputs": [],
   "source": [
    "event_results.to_csv(f'event_results_{TARGET_YEAR}.csv', index=False)"
   ]
  },
  {
   "cell_type": "code",
   "execution_count": 153,
   "id": "cc08d00e",
   "metadata": {},
   "outputs": [],
   "source": [
    "#events.reset_index(inplace=True, drop=True)"
   ]
  },
  {
   "cell_type": "code",
   "execution_count": 21,
   "id": "7a4c62c8",
   "metadata": {},
   "outputs": [],
   "source": [
    "events.to_csv(f'events_{TARGET_YEAR}.csv', index=False)"
   ]
  },
  {
   "cell_type": "code",
   "execution_count": null,
   "id": "cafc41db",
   "metadata": {},
   "outputs": [],
   "source": []
  }
 ],
 "metadata": {
  "kernelspec": {
   "display_name": "Python 3 (ipykernel)",
   "language": "python",
   "name": "python3"
  },
  "language_info": {
   "codemirror_mode": {
    "name": "ipython",
    "version": 3
   },
   "file_extension": ".py",
   "mimetype": "text/x-python",
   "name": "python",
   "nbconvert_exporter": "python",
   "pygments_lexer": "ipython3",
   "version": "3.9.6"
  }
 },
 "nbformat": 4,
 "nbformat_minor": 5
}
