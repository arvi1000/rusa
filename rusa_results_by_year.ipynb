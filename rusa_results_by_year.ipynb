{
 "cells": [
  {
   "cell_type": "code",
   "execution_count": 1,
   "id": "8dcd8925",
   "metadata": {},
   "outputs": [],
   "source": [
    "import pandas as pd\n",
    "from time import sleep\n",
    "from tqdm import tqdm\n",
    "#from itertools import compress"
   ]
  },
  {
   "cell_type": "code",
   "execution_count": 2,
   "id": "1c952d42",
   "metadata": {},
   "outputs": [],
   "source": [
    "TARGET_YEAR = '2020'"
   ]
  },
  {
   "cell_type": "code",
   "execution_count": 3,
   "id": "e7b48d82",
   "metadata": {},
   "outputs": [],
   "source": [
    "def check_YYYY(YYYY):\n",
    "    is_good = isinstance(YYYY, str) and len(YYYY) == 4 and YYYY.isdigit()\n",
    "    if(not(is_good)):\n",
    "       raise Exception(\"Bad args\")\n",
    "    return(is_good)"
   ]
  },
  {
   "cell_type": "code",
   "execution_count": 4,
   "id": "5353ce77",
   "metadata": {},
   "outputs": [],
   "source": [
    "def clean_names(old_cols):\n",
    "    new_cols = [c.lower().replace('#', '') for c in old_cols]\n",
    "    return(new_cols)"
   ]
  },
  {
   "cell_type": "code",
   "execution_count": 5,
   "id": "74044b4e",
   "metadata": {},
   "outputs": [],
   "source": [
    "def get_events(YYYY):\n",
    "    check_YYYY(YYYY)\n",
    "    url = f\"https://rusa.org/cgi-bin/resultsearch_PF.pl?regid=&date={YYYY}&type=&dist=&rtid=&esortby=cert&collapse=0\"\n",
    "    print(url)\n",
    "    \n",
    "    # get versions with and without links\n",
    "    dat_links = pd.read_html(url, extract_links='all')[0]\n",
    "    dat = pd.read_html(url)[0]\n",
    "    \n",
    "    # break apart tuples to get urls. we'll have columns called 0 and 1\n",
    "        # TODO: validate it contains Route and select columns\n",
    "    route_ids = pd.DataFrame(dat_links[('Route', None)].tolist(), \n",
    "                             index=dat_links.index)\n",
    "    event_ids = pd.DataFrame(dat_links[('select', None)].tolist(), \n",
    "                             index=dat_links.index)\n",
    "\n",
    "    # extract ids from link urls in column 1\n",
    "        # TODO validate regex, in case format changes\n",
    "    dat['rt_url'] = route_ids[1]\n",
    "    dat['rtid'] = route_ids[1].str.extract('^.*rtid=(.*)')\n",
    "    dat['event_url'] = event_ids[1]\n",
    "    dat['eid'] = event_ids[1].str.extract('^.*eid=(.*)&')\n",
    "    \n",
    "    # clean col names\n",
    "    new_cols = [c.lower() for c in list(dat.columns)]\n",
    "    dat.columns = new_cols\n",
    "\n",
    "    # drop first row and the 'select' column\n",
    "    dat = dat.drop(0, axis=0)\n",
    "    dat = dat.drop('select', axis=1)\n",
    "\n",
    "    return(dat)"
   ]
  },
  {
   "cell_type": "code",
   "execution_count": 6,
   "id": "f4da9b9b",
   "metadata": {},
   "outputs": [
    {
     "name": "stdout",
     "output_type": "stream",
     "text": [
      "https://rusa.org/cgi-bin/resultsearch_PF.pl?regid=&date=2020&type=&dist=&rtid=&esortby=cert&collapse=0\n"
     ]
    },
    {
     "data": {
      "text/html": [
       "<div>\n",
       "<style scoped>\n",
       "    .dataframe tbody tr th:only-of-type {\n",
       "        vertical-align: middle;\n",
       "    }\n",
       "\n",
       "    .dataframe tbody tr th {\n",
       "        vertical-align: top;\n",
       "    }\n",
       "\n",
       "    .dataframe thead th {\n",
       "        text-align: right;\n",
       "    }\n",
       "</style>\n",
       "<table border=\"1\" class=\"dataframe\">\n",
       "  <thead>\n",
       "    <tr style=\"text-align: right;\">\n",
       "      <th></th>\n",
       "      <th>region</th>\n",
       "      <th>club</th>\n",
       "      <th>type</th>\n",
       "      <th>distance</th>\n",
       "      <th>date</th>\n",
       "      <th>route</th>\n",
       "      <th>rt_url</th>\n",
       "      <th>rtid</th>\n",
       "      <th>event_url</th>\n",
       "      <th>eid</th>\n",
       "    </tr>\n",
       "  </thead>\n",
       "  <tbody>\n",
       "    <tr>\n",
       "      <th>1</th>\n",
       "      <td>MD: Capital Region</td>\n",
       "      <td>DC Randonneurs / 946012</td>\n",
       "      <td>RUSAB</td>\n",
       "      <td>207</td>\n",
       "      <td>2020/01/01</td>\n",
       "      <td>Woodbine-Dillsburg</td>\n",
       "      <td>/cgi-bin/routesearch_PF.pl?rtid=625</td>\n",
       "      <td>625</td>\n",
       "      <td>/cgi-bin/resultsearch_PF.pl?eid=11579&amp;esortby=...</td>\n",
       "      <td>11579</td>\n",
       "    </tr>\n",
       "    <tr>\n",
       "      <th>2</th>\n",
       "      <td>WA: Seattle</td>\n",
       "      <td>Seattle International Randonneurs / 947018</td>\n",
       "      <td>RUSAP</td>\n",
       "      <td>100</td>\n",
       "      <td>2020/01/01</td>\n",
       "      <td>Shortest Ride on the shortest day</td>\n",
       "      <td>/cgi-bin/routesearch_PF.pl?rtid=1679</td>\n",
       "      <td>1679</td>\n",
       "      <td>/cgi-bin/resultsearch_PF.pl?eid=11521&amp;esortby=...</td>\n",
       "      <td>11521</td>\n",
       "    </tr>\n",
       "    <tr>\n",
       "      <th>3</th>\n",
       "      <td>OR: Portland</td>\n",
       "      <td>Oregon Randonneurs / 937020</td>\n",
       "      <td>ACPB</td>\n",
       "      <td>200</td>\n",
       "      <td>2020/01/01</td>\n",
       "      <td>Wine Country 200</td>\n",
       "      <td>/cgi-bin/routesearch_PF.pl?rtid=54</td>\n",
       "      <td>54</td>\n",
       "      <td>/cgi-bin/resultsearch_PF.pl?eid=11347&amp;esortby=...</td>\n",
       "      <td>11347</td>\n",
       "    </tr>\n",
       "    <tr>\n",
       "      <th>4</th>\n",
       "      <td>TX: Dallas</td>\n",
       "      <td>Lone Star Randonneurs / 943026</td>\n",
       "      <td>ACPB</td>\n",
       "      <td>200</td>\n",
       "      <td>2020/01/01</td>\n",
       "      <td>Rip-Snortin' Rando Ride</td>\n",
       "      <td>/cgi-bin/routesearch_PF.pl?rtid=1495</td>\n",
       "      <td>1495</td>\n",
       "      <td>/cgi-bin/resultsearch_PF.pl?eid=10874&amp;esortby=...</td>\n",
       "      <td>10874</td>\n",
       "    </tr>\n",
       "    <tr>\n",
       "      <th>5</th>\n",
       "      <td>CA: Davis</td>\n",
       "      <td>Davis Bike Club / 905014</td>\n",
       "      <td>RUSAP</td>\n",
       "      <td>103</td>\n",
       "      <td>2020/01/01</td>\n",
       "      <td>Moskowite Corner 100Km</td>\n",
       "      <td>/cgi-bin/routesearch_PF.pl?rtid=1322</td>\n",
       "      <td>1322</td>\n",
       "      <td>/cgi-bin/resultsearch_PF.pl?eid=11275&amp;esortby=...</td>\n",
       "      <td>11275</td>\n",
       "    </tr>\n",
       "  </tbody>\n",
       "</table>\n",
       "</div>"
      ],
      "text/plain": [
       "               region                                        club   type  \\\n",
       "1  MD: Capital Region                     DC Randonneurs / 946012  RUSAB   \n",
       "2         WA: Seattle  Seattle International Randonneurs / 947018  RUSAP   \n",
       "3        OR: Portland                 Oregon Randonneurs / 937020   ACPB   \n",
       "4          TX: Dallas              Lone Star Randonneurs / 943026   ACPB   \n",
       "5           CA: Davis                    Davis Bike Club / 905014  RUSAP   \n",
       "\n",
       "   distance        date                              route  \\\n",
       "1       207  2020/01/01                 Woodbine-Dillsburg   \n",
       "2       100  2020/01/01  Shortest Ride on the shortest day   \n",
       "3       200  2020/01/01                   Wine Country 200   \n",
       "4       200  2020/01/01            Rip-Snortin' Rando Ride   \n",
       "5       103  2020/01/01             Moskowite Corner 100Km   \n",
       "\n",
       "                                 rt_url  rtid  \\\n",
       "1   /cgi-bin/routesearch_PF.pl?rtid=625   625   \n",
       "2  /cgi-bin/routesearch_PF.pl?rtid=1679  1679   \n",
       "3    /cgi-bin/routesearch_PF.pl?rtid=54    54   \n",
       "4  /cgi-bin/routesearch_PF.pl?rtid=1495  1495   \n",
       "5  /cgi-bin/routesearch_PF.pl?rtid=1322  1322   \n",
       "\n",
       "                                           event_url    eid  \n",
       "1  /cgi-bin/resultsearch_PF.pl?eid=11579&esortby=...  11579  \n",
       "2  /cgi-bin/resultsearch_PF.pl?eid=11521&esortby=...  11521  \n",
       "3  /cgi-bin/resultsearch_PF.pl?eid=11347&esortby=...  11347  \n",
       "4  /cgi-bin/resultsearch_PF.pl?eid=10874&esortby=...  10874  \n",
       "5  /cgi-bin/resultsearch_PF.pl?eid=11275&esortby=...  11275  "
      ]
     },
     "execution_count": 6,
     "metadata": {},
     "output_type": "execute_result"
    }
   ],
   "source": [
    "events = get_events(TARGET_YEAR)\n",
    "events.head()"
   ]
  },
  {
   "cell_type": "code",
   "execution_count": 7,
   "id": "89eff76f",
   "metadata": {},
   "outputs": [],
   "source": [
    "def get_event_details_results(eid):\n",
    "    \n",
    "    event_url = f\"https://rusa.org/cgi-bin/resultsearch_PF.pl?eid={eid}&esortby=cert\"\n",
    "    #print(event_url)\n",
    "    two_dats = pd.read_html(event_url)\n",
    "    \n",
    "    event_details = two_dats[0]\n",
    "    event_details.columns = clean_names(list(event_details.columns))\n",
    "    event_details['eid'] = eid\n",
    "\n",
    "    # warn if we only get one table back\n",
    "    if(len(two_dats)<2):\n",
    "        #print(f'Warning: no finisher results for event {eid}!')\n",
    "        event_results = pd.DataFrame()\n",
    "    else:\n",
    "        event_results = two_dats[1]\n",
    "        event_results.columns = clean_names(list(event_results.columns))\n",
    "        # drop the rows 'x nonmembers also finished'\n",
    "        try:\n",
    "            event_results = event_results.drop(\n",
    "                event_results[event_results.cert.str.contains('also finished')].index\n",
    "            )\n",
    "        except:\n",
    "            pass\n",
    "            #print(f\"eid {eid} - couldn't drop 'non member' result rows\")\n",
    "        event_results['eid'] = eid\n",
    "    \n",
    "    return([event_details,event_results])"
   ]
  },
  {
   "cell_type": "code",
   "execution_count": 8,
   "id": "2f60f266",
   "metadata": {},
   "outputs": [
    {
     "data": {
      "text/plain": [
       "type\n",
       "ACPB     164\n",
       "RUSAB    150\n",
       "RUSAP    192\n",
       "dtype: int64"
      ]
     },
     "execution_count": 8,
     "metadata": {},
     "output_type": "execute_result"
    }
   ],
   "source": [
    "events.groupby('type').size()"
   ]
  },
  {
   "cell_type": "code",
   "execution_count": 9,
   "id": "f91bd324",
   "metadata": {},
   "outputs": [],
   "source": [
    "# https://rusa.org/pages/eventtypes\n",
    "non_team_types = ['ACPB', 'RM', 'RUSAB', 'RUSAP']"
   ]
  },
  {
   "cell_type": "code",
   "execution_count": 10,
   "id": "06440323",
   "metadata": {},
   "outputs": [
    {
     "name": "stdout",
     "output_type": "stream",
     "text": [
      "506\n"
     ]
    }
   ],
   "source": [
    "# list of event ids for the non team event types, for which we'll get results/details\n",
    "event_ids = events[events.type.isin(non_team_types)].eid.to_list()\n",
    "print(len(event_ids))"
   ]
  },
  {
   "cell_type": "code",
   "execution_count": 11,
   "id": "6b1f37d9",
   "metadata": {},
   "outputs": [],
   "source": [
    "e_detail_list = []\n",
    "e_results_list = []"
   ]
  },
  {
   "cell_type": "code",
   "execution_count": 12,
   "id": "34166835",
   "metadata": {},
   "outputs": [
    {
     "name": "stderr",
     "output_type": "stream",
     "text": [
      "100%|█████████████████████████████████████████| 506/506 [04:41<00:00,  1.79it/s]\n"
     ]
    }
   ],
   "source": [
    "for e in tqdm(event_ids):\n",
    "    #print(e)\n",
    "    this_d_e = get_event_details_results(e)\n",
    "    e_detail_list.append(this_d_e[0])\n",
    "    e_results_list.append(this_d_e[1])\n",
    "    # sleep roughly every sixth call (assuming event ids are consecutive ints)\n",
    "    if(int(e) % 6 == 0):\n",
    "        #print('Sleeping')\n",
    "        sleep(1)"
   ]
  },
  {
   "cell_type": "code",
   "execution_count": 13,
   "id": "a409487e",
   "metadata": {},
   "outputs": [
    {
     "name": "stdout",
     "output_type": "stream",
     "text": [
      "506 506 506\n"
     ]
    }
   ],
   "source": [
    "# should all be the same\n",
    "print(len(e_detail_list), len(e_results_list), len(event_ids))"
   ]
  },
  {
   "cell_type": "code",
   "execution_count": 14,
   "id": "6e46b5ea",
   "metadata": {},
   "outputs": [],
   "source": [
    "event_results = pd.concat(e_results_list)"
   ]
  },
  {
   "cell_type": "code",
   "execution_count": 15,
   "id": "c8ec0a48",
   "metadata": {},
   "outputs": [],
   "source": [
    "event_details = pd.concat(e_detail_list)"
   ]
  },
  {
   "cell_type": "code",
   "execution_count": null,
   "id": "b8084458",
   "metadata": {},
   "outputs": [],
   "source": [
    "# for when i forget to filter team events before getting results; \n",
    "# the format is different and messes stuff up, plus i don't care about those results right now\n",
    "# erl2 = list(compress(e_results_list, \n",
    "#                      events.type.isin(non_team_types)))"
   ]
  },
  {
   "cell_type": "code",
   "execution_count": 16,
   "id": "ebbe02c4",
   "metadata": {},
   "outputs": [],
   "source": [
    "event_details.reset_index(inplace=True, drop=True)\n",
    "event_results.reset_index(inplace=True, drop=True)"
   ]
  },
  {
   "cell_type": "code",
   "execution_count": 17,
   "id": "768fb25c",
   "metadata": {},
   "outputs": [
    {
     "data": {
      "text/html": [
       "<div>\n",
       "<style scoped>\n",
       "    .dataframe tbody tr th:only-of-type {\n",
       "        vertical-align: middle;\n",
       "    }\n",
       "\n",
       "    .dataframe tbody tr th {\n",
       "        vertical-align: top;\n",
       "    }\n",
       "\n",
       "    .dataframe thead th {\n",
       "        text-align: right;\n",
       "    }\n",
       "</style>\n",
       "<table border=\"1\" class=\"dataframe\">\n",
       "  <thead>\n",
       "    <tr style=\"text-align: right;\">\n",
       "      <th></th>\n",
       "      <th>cert</th>\n",
       "      <th>rusa</th>\n",
       "      <th>name</th>\n",
       "      <th>club / acp code</th>\n",
       "      <th>time</th>\n",
       "      <th>medal</th>\n",
       "      <th>eid</th>\n",
       "    </tr>\n",
       "  </thead>\n",
       "  <tbody>\n",
       "    <tr>\n",
       "      <th>0</th>\n",
       "      <td>RUSA-B15026</td>\n",
       "      <td>3319</td>\n",
       "      <td>WINKERT, George</td>\n",
       "      <td>Northern Virginia Randonneurs / 946020</td>\n",
       "      <td>13:24</td>\n",
       "      <td>NaN</td>\n",
       "      <td>11579</td>\n",
       "    </tr>\n",
       "    <tr>\n",
       "      <th>1</th>\n",
       "      <td>RUSA-B15027</td>\n",
       "      <td>10659</td>\n",
       "      <td>SCHOENFELDER, Steven J</td>\n",
       "      <td>Pennsylvania Randonneurs / 938017</td>\n",
       "      <td>12:08</td>\n",
       "      <td>NaN</td>\n",
       "      <td>11579</td>\n",
       "    </tr>\n",
       "    <tr>\n",
       "      <th>2</th>\n",
       "      <td>RUSA-B15028</td>\n",
       "      <td>7203</td>\n",
       "      <td>NICHOLSON, Jack</td>\n",
       "      <td>Severna Park Peloton / 920025</td>\n",
       "      <td>12:08</td>\n",
       "      <td>NaN</td>\n",
       "      <td>11579</td>\n",
       "    </tr>\n",
       "    <tr>\n",
       "      <th>3</th>\n",
       "      <td>RUSA-B15029</td>\n",
       "      <td>3446</td>\n",
       "      <td>BECK, William A</td>\n",
       "      <td>DC Randonneurs / 946012</td>\n",
       "      <td>12:08</td>\n",
       "      <td>NaN</td>\n",
       "      <td>11579</td>\n",
       "    </tr>\n",
       "    <tr>\n",
       "      <th>4</th>\n",
       "      <td>RUSA-B15030</td>\n",
       "      <td>10323</td>\n",
       "      <td>BEATY, Robert M</td>\n",
       "      <td>DC Randonneurs / 946012</td>\n",
       "      <td>12:08</td>\n",
       "      <td>NaN</td>\n",
       "      <td>11579</td>\n",
       "    </tr>\n",
       "  </tbody>\n",
       "</table>\n",
       "</div>"
      ],
      "text/plain": [
       "          cert   rusa                    name  \\\n",
       "0  RUSA-B15026   3319         WINKERT, George   \n",
       "1  RUSA-B15027  10659  SCHOENFELDER, Steven J   \n",
       "2  RUSA-B15028   7203         NICHOLSON, Jack   \n",
       "3  RUSA-B15029   3446         BECK, William A   \n",
       "4  RUSA-B15030  10323         BEATY, Robert M   \n",
       "\n",
       "                          club / acp code   time medal    eid  \n",
       "0  Northern Virginia Randonneurs / 946020  13:24   NaN  11579  \n",
       "1       Pennsylvania Randonneurs / 938017  12:08   NaN  11579  \n",
       "2           Severna Park Peloton / 920025  12:08   NaN  11579  \n",
       "3                 DC Randonneurs / 946012  12:08   NaN  11579  \n",
       "4                 DC Randonneurs / 946012  12:08   NaN  11579  "
      ]
     },
     "execution_count": 17,
     "metadata": {},
     "output_type": "execute_result"
    }
   ],
   "source": [
    "event_results.head()"
   ]
  },
  {
   "cell_type": "code",
   "execution_count": 18,
   "id": "870f6c82",
   "metadata": {},
   "outputs": [
    {
     "data": {
      "text/html": [
       "<div>\n",
       "<style scoped>\n",
       "    .dataframe tbody tr th:only-of-type {\n",
       "        vertical-align: middle;\n",
       "    }\n",
       "\n",
       "    .dataframe tbody tr th {\n",
       "        vertical-align: top;\n",
       "    }\n",
       "\n",
       "    .dataframe thead th {\n",
       "        text-align: right;\n",
       "    }\n",
       "</style>\n",
       "<table border=\"1\" class=\"dataframe\">\n",
       "  <thead>\n",
       "    <tr style=\"text-align: right;\">\n",
       "      <th></th>\n",
       "      <th>region</th>\n",
       "      <th>club</th>\n",
       "      <th>type</th>\n",
       "      <th>distance</th>\n",
       "      <th>date</th>\n",
       "      <th>finishers</th>\n",
       "      <th>dnf</th>\n",
       "      <th>eid</th>\n",
       "    </tr>\n",
       "  </thead>\n",
       "  <tbody>\n",
       "    <tr>\n",
       "      <th>0</th>\n",
       "      <td>MD: Capital Region</td>\n",
       "      <td>DC Randonneurs / 946012</td>\n",
       "      <td>RUSAB</td>\n",
       "      <td>207</td>\n",
       "      <td>2020/01/01</td>\n",
       "      <td>5</td>\n",
       "      <td>1.0</td>\n",
       "      <td>11579</td>\n",
       "    </tr>\n",
       "    <tr>\n",
       "      <th>1</th>\n",
       "      <td>WA: Seattle</td>\n",
       "      <td>Seattle International Randonneurs / 947018</td>\n",
       "      <td>RUSAP</td>\n",
       "      <td>100</td>\n",
       "      <td>2020/01/01</td>\n",
       "      <td>14</td>\n",
       "      <td>2.0</td>\n",
       "      <td>11521</td>\n",
       "    </tr>\n",
       "    <tr>\n",
       "      <th>2</th>\n",
       "      <td>OR: Portland</td>\n",
       "      <td>Oregon Randonneurs / 937020</td>\n",
       "      <td>ACPB</td>\n",
       "      <td>200</td>\n",
       "      <td>2020/01/01</td>\n",
       "      <td>3</td>\n",
       "      <td>0.0</td>\n",
       "      <td>11347</td>\n",
       "    </tr>\n",
       "    <tr>\n",
       "      <th>3</th>\n",
       "      <td>TX: Dallas</td>\n",
       "      <td>Lone Star Randonneurs / 943026</td>\n",
       "      <td>ACPB</td>\n",
       "      <td>200</td>\n",
       "      <td>2020/01/01</td>\n",
       "      <td>10</td>\n",
       "      <td>0.0</td>\n",
       "      <td>10874</td>\n",
       "    </tr>\n",
       "    <tr>\n",
       "      <th>4</th>\n",
       "      <td>CA: Davis</td>\n",
       "      <td>Davis Bike Club / 905014</td>\n",
       "      <td>RUSAP</td>\n",
       "      <td>103</td>\n",
       "      <td>2020/01/01</td>\n",
       "      <td>1</td>\n",
       "      <td>0.0</td>\n",
       "      <td>11275</td>\n",
       "    </tr>\n",
       "  </tbody>\n",
       "</table>\n",
       "</div>"
      ],
      "text/plain": [
       "               region                                        club   type  \\\n",
       "0  MD: Capital Region                     DC Randonneurs / 946012  RUSAB   \n",
       "1         WA: Seattle  Seattle International Randonneurs / 947018  RUSAP   \n",
       "2        OR: Portland                 Oregon Randonneurs / 937020   ACPB   \n",
       "3          TX: Dallas              Lone Star Randonneurs / 943026   ACPB   \n",
       "4           CA: Davis                    Davis Bike Club / 905014  RUSAP   \n",
       "\n",
       "   distance        date  finishers  dnf    eid  \n",
       "0       207  2020/01/01          5  1.0  11579  \n",
       "1       100  2020/01/01         14  2.0  11521  \n",
       "2       200  2020/01/01          3  0.0  11347  \n",
       "3       200  2020/01/01         10  0.0  10874  \n",
       "4       103  2020/01/01          1  0.0  11275  "
      ]
     },
     "execution_count": 18,
     "metadata": {},
     "output_type": "execute_result"
    }
   ],
   "source": [
    "event_details.head()"
   ]
  },
  {
   "cell_type": "code",
   "execution_count": 19,
   "id": "88cb0cdd",
   "metadata": {},
   "outputs": [],
   "source": [
    "event_details.to_csv(f'data/event_details_{TARGET_YEAR}.csv', index=False)"
   ]
  },
  {
   "cell_type": "code",
   "execution_count": 20,
   "id": "0b6a3c7a",
   "metadata": {},
   "outputs": [],
   "source": [
    "event_results.to_csv(f'data/event_results_{TARGET_YEAR}.csv', index=False)"
   ]
  },
  {
   "cell_type": "code",
   "execution_count": 21,
   "id": "7a4c62c8",
   "metadata": {},
   "outputs": [],
   "source": [
    "events.to_csv(f'data/events_{TARGET_YEAR}.csv', index=False)"
   ]
  },
  {
   "cell_type": "code",
   "execution_count": null,
   "id": "cafc41db",
   "metadata": {},
   "outputs": [],
   "source": []
  }
 ],
 "metadata": {
  "kernelspec": {
   "display_name": "Python 3 (ipykernel)",
   "language": "python",
   "name": "python3"
  },
  "language_info": {
   "codemirror_mode": {
    "name": "ipython",
    "version": 3
   },
   "file_extension": ".py",
   "mimetype": "text/x-python",
   "name": "python",
   "nbconvert_exporter": "python",
   "pygments_lexer": "ipython3",
   "version": "3.9.6"
  }
 },
 "nbformat": 4,
 "nbformat_minor": 5
}
