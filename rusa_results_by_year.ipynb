{
 "cells": [
  {
   "cell_type": "code",
   "execution_count": 1,
   "id": "8dcd8925",
   "metadata": {},
   "outputs": [],
   "source": [
    "import pandas as pd\n",
    "from time import sleep\n",
    "from tqdm import tqdm\n",
    "#from itertools import compress"
   ]
  },
  {
   "cell_type": "code",
   "execution_count": 2,
   "id": "1c952d42",
   "metadata": {},
   "outputs": [],
   "source": [
    "TARGET_YEAR = '2021'"
   ]
  },
  {
   "cell_type": "code",
   "execution_count": 3,
   "id": "e7b48d82",
   "metadata": {},
   "outputs": [],
   "source": [
    "def check_YYYY(YYYY):\n",
    "    is_good = isinstance(YYYY, str) and len(YYYY) == 4 and YYYY.isdigit()\n",
    "    if(not(is_good)):\n",
    "       raise Exception(\"Bad args\")\n",
    "    return(is_good)"
   ]
  },
  {
   "cell_type": "code",
   "execution_count": 4,
   "id": "5353ce77",
   "metadata": {},
   "outputs": [],
   "source": [
    "def clean_names(old_cols):\n",
    "    new_cols = [c.lower().replace('#', '') for c in old_cols]\n",
    "    return(new_cols)"
   ]
  },
  {
   "cell_type": "code",
   "execution_count": 5,
   "id": "74044b4e",
   "metadata": {},
   "outputs": [],
   "source": [
    "def get_events(YYYY):\n",
    "    check_YYYY(YYYY)\n",
    "    url = f\"https://rusa.org/cgi-bin/resultsearch_PF.pl?regid=&date={YYYY}&type=&dist=&rtid=&esortby=cert&collapse=0\"\n",
    "    print(url)\n",
    "    \n",
    "    # get versions with and without links\n",
    "    dat_links = pd.read_html(url, extract_links='all')[0]\n",
    "    dat = pd.read_html(url)[0]\n",
    "    \n",
    "    # break apart tuples to get urls. we'll have columns called 0 and 1\n",
    "        # TODO: validate it contains Route and select columns\n",
    "    route_ids = pd.DataFrame(dat_links[('Route', None)].tolist(), \n",
    "                             index=dat_links.index)\n",
    "    event_ids = pd.DataFrame(dat_links[('select', None)].tolist(), \n",
    "                             index=dat_links.index)\n",
    "\n",
    "    # extract ids from link urls in column 1\n",
    "        # TODO validate regex, in case format changes\n",
    "    dat['rt_url'] = route_ids[1]\n",
    "    dat['rtid'] = route_ids[1].str.extract('^.*rtid=(.*)')\n",
    "    dat['event_url'] = event_ids[1]\n",
    "    dat['eid'] = event_ids[1].str.extract('^.*eid=(.*)&')\n",
    "    \n",
    "    # clean col names\n",
    "    new_cols = [c.lower() for c in list(dat.columns)]\n",
    "    dat.columns = new_cols\n",
    "\n",
    "    # drop first row and the 'select' column\n",
    "    dat = dat.drop(0, axis=0)\n",
    "    dat = dat.drop('select', axis=1)\n",
    "\n",
    "    return(dat)"
   ]
  },
  {
   "cell_type": "code",
   "execution_count": 6,
   "id": "f4da9b9b",
   "metadata": {},
   "outputs": [
    {
     "name": "stdout",
     "output_type": "stream",
     "text": [
      "https://rusa.org/cgi-bin/resultsearch_PF.pl?regid=&date=2021&type=&dist=&rtid=&esortby=cert&collapse=0\n"
     ]
    },
    {
     "data": {
      "text/html": [
       "<div>\n",
       "<style scoped>\n",
       "    .dataframe tbody tr th:only-of-type {\n",
       "        vertical-align: middle;\n",
       "    }\n",
       "\n",
       "    .dataframe tbody tr th {\n",
       "        vertical-align: top;\n",
       "    }\n",
       "\n",
       "    .dataframe thead th {\n",
       "        text-align: right;\n",
       "    }\n",
       "</style>\n",
       "<table border=\"1\" class=\"dataframe\">\n",
       "  <thead>\n",
       "    <tr style=\"text-align: right;\">\n",
       "      <th></th>\n",
       "      <th>region</th>\n",
       "      <th>club</th>\n",
       "      <th>type</th>\n",
       "      <th>distance</th>\n",
       "      <th>date</th>\n",
       "      <th>route</th>\n",
       "      <th>rt_url</th>\n",
       "      <th>rtid</th>\n",
       "      <th>event_url</th>\n",
       "      <th>eid</th>\n",
       "    </tr>\n",
       "  </thead>\n",
       "  <tbody>\n",
       "    <tr>\n",
       "      <th>1</th>\n",
       "      <td>GA: Atlanta</td>\n",
       "      <td>Audax Atlanta / 910004</td>\n",
       "      <td>ACPB</td>\n",
       "      <td>200</td>\n",
       "      <td>2021/01/01</td>\n",
       "      <td>Athens Georgia 200k</td>\n",
       "      <td>/cgi-bin/routesearch_PF.pl?rtid=1141</td>\n",
       "      <td>1141</td>\n",
       "      <td>/cgi-bin/resultsearch_PF.pl?eid=11955&amp;esortby=...</td>\n",
       "      <td>11955</td>\n",
       "    </tr>\n",
       "    <tr>\n",
       "      <th>2</th>\n",
       "      <td>VA: Tidewater</td>\n",
       "      <td>Tidewater Randonneurs / 946002</td>\n",
       "      <td>RUSAP</td>\n",
       "      <td>100</td>\n",
       "      <td>2021/01/01</td>\n",
       "      <td>Suffolk 100K</td>\n",
       "      <td>/cgi-bin/routesearch_PF.pl?rtid=2034</td>\n",
       "      <td>2034</td>\n",
       "      <td>/cgi-bin/resultsearch_PF.pl?eid=12064&amp;esortby=...</td>\n",
       "      <td>12064</td>\n",
       "    </tr>\n",
       "    <tr>\n",
       "      <th>3</th>\n",
       "      <td>TX: Dallas</td>\n",
       "      <td>Lone Star Randonneurs / 943026</td>\n",
       "      <td>RUSAP</td>\n",
       "      <td>100</td>\n",
       "      <td>2021/01/01</td>\n",
       "      <td>Three Hour Tour</td>\n",
       "      <td>/cgi-bin/routesearch_PF.pl?rtid=2581</td>\n",
       "      <td>2581</td>\n",
       "      <td>/cgi-bin/resultsearch_PF.pl?eid=11988&amp;esortby=...</td>\n",
       "      <td>11988</td>\n",
       "    </tr>\n",
       "    <tr>\n",
       "      <th>4</th>\n",
       "      <td>TX: Dallas</td>\n",
       "      <td>Lone Star Randonneurs / 943026</td>\n",
       "      <td>ACPB</td>\n",
       "      <td>200</td>\n",
       "      <td>2021/01/01</td>\n",
       "      <td>Rio Vista Rumble 200</td>\n",
       "      <td>/cgi-bin/routesearch_PF.pl?rtid=122</td>\n",
       "      <td>122</td>\n",
       "      <td>/cgi-bin/resultsearch_PF.pl?eid=11987&amp;esortby=...</td>\n",
       "      <td>11987</td>\n",
       "    </tr>\n",
       "    <tr>\n",
       "      <th>5</th>\n",
       "      <td>TX: Austin</td>\n",
       "      <td>Hill Country Randonneurs / 943025</td>\n",
       "      <td>ACPB</td>\n",
       "      <td>200</td>\n",
       "      <td>2021/01/02</td>\n",
       "      <td>No Return to Fitzhugh 200K</td>\n",
       "      <td>/cgi-bin/routesearch_PF.pl?rtid=1722</td>\n",
       "      <td>1722</td>\n",
       "      <td>/cgi-bin/resultsearch_PF.pl?eid=12034&amp;esortby=...</td>\n",
       "      <td>12034</td>\n",
       "    </tr>\n",
       "  </tbody>\n",
       "</table>\n",
       "</div>"
      ],
      "text/plain": [
       "          region                               club   type  distance  \\\n",
       "1    GA: Atlanta             Audax Atlanta / 910004   ACPB       200   \n",
       "2  VA: Tidewater     Tidewater Randonneurs / 946002  RUSAP       100   \n",
       "3     TX: Dallas     Lone Star Randonneurs / 943026  RUSAP       100   \n",
       "4     TX: Dallas     Lone Star Randonneurs / 943026   ACPB       200   \n",
       "5     TX: Austin  Hill Country Randonneurs / 943025   ACPB       200   \n",
       "\n",
       "         date                       route  \\\n",
       "1  2021/01/01         Athens Georgia 200k   \n",
       "2  2021/01/01                Suffolk 100K   \n",
       "3  2021/01/01             Three Hour Tour   \n",
       "4  2021/01/01        Rio Vista Rumble 200   \n",
       "5  2021/01/02  No Return to Fitzhugh 200K   \n",
       "\n",
       "                                 rt_url  rtid  \\\n",
       "1  /cgi-bin/routesearch_PF.pl?rtid=1141  1141   \n",
       "2  /cgi-bin/routesearch_PF.pl?rtid=2034  2034   \n",
       "3  /cgi-bin/routesearch_PF.pl?rtid=2581  2581   \n",
       "4   /cgi-bin/routesearch_PF.pl?rtid=122   122   \n",
       "5  /cgi-bin/routesearch_PF.pl?rtid=1722  1722   \n",
       "\n",
       "                                           event_url    eid  \n",
       "1  /cgi-bin/resultsearch_PF.pl?eid=11955&esortby=...  11955  \n",
       "2  /cgi-bin/resultsearch_PF.pl?eid=12064&esortby=...  12064  \n",
       "3  /cgi-bin/resultsearch_PF.pl?eid=11988&esortby=...  11988  \n",
       "4  /cgi-bin/resultsearch_PF.pl?eid=11987&esortby=...  11987  \n",
       "5  /cgi-bin/resultsearch_PF.pl?eid=12034&esortby=...  12034  "
      ]
     },
     "execution_count": 6,
     "metadata": {},
     "output_type": "execute_result"
    }
   ],
   "source": [
    "events = get_events(TARGET_YEAR)\n",
    "events.head()"
   ]
  },
  {
   "cell_type": "code",
   "execution_count": 7,
   "id": "89eff76f",
   "metadata": {},
   "outputs": [],
   "source": [
    "def get_event_details_results(eid):\n",
    "    \n",
    "    event_url = f\"https://rusa.org/cgi-bin/resultsearch_PF.pl?eid={eid}&esortby=cert\"\n",
    "    #print(event_url)\n",
    "    two_dats = pd.read_html(event_url)\n",
    "    \n",
    "    event_details = two_dats[0]\n",
    "    event_details.columns = clean_names(list(event_details.columns))\n",
    "    event_details['eid'] = eid\n",
    "\n",
    "    # warn if we only get one table back\n",
    "    if(len(two_dats)<2):\n",
    "        #print(f'Warning: no finisher results for event {eid}!')\n",
    "        event_results = pd.DataFrame()\n",
    "    else:\n",
    "        event_results = two_dats[1]\n",
    "        event_results.columns = clean_names(list(event_results.columns))\n",
    "        # drop the rows 'x nonmembers also finished'\n",
    "        try:\n",
    "            event_results = event_results.drop(\n",
    "                event_results[event_results.cert.str.contains('also finished')].index\n",
    "            )\n",
    "        except:\n",
    "            pass\n",
    "            #print(f\"eid {eid} - couldn't drop 'non member' result rows\")\n",
    "        event_results['eid'] = eid\n",
    "    \n",
    "    return([event_details,event_results])"
   ]
  },
  {
   "cell_type": "code",
   "execution_count": 8,
   "id": "2f60f266",
   "metadata": {},
   "outputs": [
    {
     "data": {
      "text/plain": [
       "type\n",
       "ACPB     427\n",
       "ACPF       9\n",
       "ACPR       1\n",
       "RM         5\n",
       "RUSAB    130\n",
       "RUSAF     10\n",
       "RUSAP    143\n",
       "dtype: int64"
      ]
     },
     "execution_count": 8,
     "metadata": {},
     "output_type": "execute_result"
    }
   ],
   "source": [
    "events.groupby('type').size()"
   ]
  },
  {
   "cell_type": "code",
   "execution_count": 9,
   "id": "f91bd324",
   "metadata": {},
   "outputs": [],
   "source": [
    "# https://rusa.org/pages/eventtypes\n",
    "non_team_types = ['ACPB', 'RM', 'RUSAB', 'RUSAP']"
   ]
  },
  {
   "cell_type": "code",
   "execution_count": 10,
   "id": "06440323",
   "metadata": {},
   "outputs": [
    {
     "name": "stdout",
     "output_type": "stream",
     "text": [
      "705\n"
     ]
    }
   ],
   "source": [
    "# list of event ids for the non team event types, for which we'll get results/details\n",
    "event_ids = events[events.type.isin(non_team_types)].eid.to_list()\n",
    "print(len(event_ids))"
   ]
  },
  {
   "cell_type": "code",
   "execution_count": 11,
   "id": "6b1f37d9",
   "metadata": {},
   "outputs": [],
   "source": [
    "e_detail_list = []\n",
    "e_results_list = []"
   ]
  },
  {
   "cell_type": "code",
   "execution_count": 12,
   "id": "34166835",
   "metadata": {},
   "outputs": [
    {
     "name": "stderr",
     "output_type": "stream",
     "text": [
      "100%|█████████████████████████████████████████| 705/705 [06:34<00:00,  1.79it/s]\n"
     ]
    }
   ],
   "source": [
    "for e in tqdm(event_ids):\n",
    "    #print(e)\n",
    "    this_d_e = get_event_details_results(e)\n",
    "    e_detail_list.append(this_d_e[0])\n",
    "    e_results_list.append(this_d_e[1])\n",
    "    # sleep roughly every sixth call (assuming event ids are consecutive ints)\n",
    "    if(int(e) % 6 == 0):\n",
    "        #print('Sleeping')\n",
    "        sleep(1)"
   ]
  },
  {
   "cell_type": "code",
   "execution_count": 13,
   "id": "a409487e",
   "metadata": {},
   "outputs": [
    {
     "name": "stdout",
     "output_type": "stream",
     "text": [
      "705 705 705\n"
     ]
    }
   ],
   "source": [
    "# should all be the same\n",
    "print(len(e_detail_list), len(e_results_list), len(event_ids))"
   ]
  },
  {
   "cell_type": "code",
   "execution_count": 14,
   "id": "6e46b5ea",
   "metadata": {},
   "outputs": [],
   "source": [
    "event_results = pd.concat(e_results_list)"
   ]
  },
  {
   "cell_type": "code",
   "execution_count": 15,
   "id": "c8ec0a48",
   "metadata": {},
   "outputs": [],
   "source": [
    "event_details = pd.concat(e_detail_list)"
   ]
  },
  {
   "cell_type": "code",
   "execution_count": 16,
   "id": "b8084458",
   "metadata": {},
   "outputs": [],
   "source": [
    "# for when i forgot to filter team events before getting results; \n",
    "# the format is different and messes stuff up, plus i don't care about those results right now\n",
    "# erl2 = list(compress(e_results_list, \n",
    "#                      events.type.isin(non_team_types)))"
   ]
  },
  {
   "cell_type": "code",
   "execution_count": 17,
   "id": "ebbe02c4",
   "metadata": {},
   "outputs": [],
   "source": [
    "event_details.reset_index(inplace=True, drop=True)\n",
    "event_results.reset_index(inplace=True, drop=True)"
   ]
  },
  {
   "cell_type": "code",
   "execution_count": 18,
   "id": "768fb25c",
   "metadata": {},
   "outputs": [
    {
     "data": {
      "text/html": [
       "<div>\n",
       "<style scoped>\n",
       "    .dataframe tbody tr th:only-of-type {\n",
       "        vertical-align: middle;\n",
       "    }\n",
       "\n",
       "    .dataframe tbody tr th {\n",
       "        vertical-align: top;\n",
       "    }\n",
       "\n",
       "    .dataframe thead th {\n",
       "        text-align: right;\n",
       "    }\n",
       "</style>\n",
       "<table border=\"1\" class=\"dataframe\">\n",
       "  <thead>\n",
       "    <tr style=\"text-align: right;\">\n",
       "      <th></th>\n",
       "      <th>cert</th>\n",
       "      <th>rusa</th>\n",
       "      <th>name</th>\n",
       "      <th>club / acp code</th>\n",
       "      <th>time</th>\n",
       "      <th>medal</th>\n",
       "      <th>eid</th>\n",
       "    </tr>\n",
       "  </thead>\n",
       "  <tbody>\n",
       "    <tr>\n",
       "      <th>0</th>\n",
       "      <td>RUSA-P17405</td>\n",
       "      <td>11640</td>\n",
       "      <td>SPROCK, John P</td>\n",
       "      <td>Tidewater Randonneurs / 946002</td>\n",
       "      <td>05:53</td>\n",
       "      <td>NaN</td>\n",
       "      <td>12064</td>\n",
       "    </tr>\n",
       "    <tr>\n",
       "      <th>1</th>\n",
       "      <td>RUSA-P17403</td>\n",
       "      <td>8958</td>\n",
       "      <td>HARE, Karen</td>\n",
       "      <td>Lone Star Randonneurs / 943026</td>\n",
       "      <td>04:51</td>\n",
       "      <td>NaN</td>\n",
       "      <td>11988</td>\n",
       "    </tr>\n",
       "    <tr>\n",
       "      <th>2</th>\n",
       "      <td>RUSA-P17404</td>\n",
       "      <td>2483</td>\n",
       "      <td>SCHAAF, Daniel A</td>\n",
       "      <td>Lone Star Randonneurs / 943026</td>\n",
       "      <td>04:51</td>\n",
       "      <td>NaN</td>\n",
       "      <td>11988</td>\n",
       "    </tr>\n",
       "    <tr>\n",
       "      <th>3</th>\n",
       "      <td>768168</td>\n",
       "      <td>390</td>\n",
       "      <td>DRISCOLL, Dan</td>\n",
       "      <td>Lone Star Randonneurs / 943026</td>\n",
       "      <td>09:22</td>\n",
       "      <td>NaN</td>\n",
       "      <td>11987</td>\n",
       "    </tr>\n",
       "    <tr>\n",
       "      <th>4</th>\n",
       "      <td>768169</td>\n",
       "      <td>1742</td>\n",
       "      <td>KAISER, Christopher</td>\n",
       "      <td>Lone Star Randonneurs / 943026</td>\n",
       "      <td>12:16</td>\n",
       "      <td>NaN</td>\n",
       "      <td>11987</td>\n",
       "    </tr>\n",
       "  </tbody>\n",
       "</table>\n",
       "</div>"
      ],
      "text/plain": [
       "          cert   rusa                 name                 club / acp code  \\\n",
       "0  RUSA-P17405  11640       SPROCK, John P  Tidewater Randonneurs / 946002   \n",
       "1  RUSA-P17403   8958          HARE, Karen  Lone Star Randonneurs / 943026   \n",
       "2  RUSA-P17404   2483     SCHAAF, Daniel A  Lone Star Randonneurs / 943026   \n",
       "3       768168    390        DRISCOLL, Dan  Lone Star Randonneurs / 943026   \n",
       "4       768169   1742  KAISER, Christopher  Lone Star Randonneurs / 943026   \n",
       "\n",
       "    time medal    eid  \n",
       "0  05:53   NaN  12064  \n",
       "1  04:51   NaN  11988  \n",
       "2  04:51   NaN  11988  \n",
       "3  09:22   NaN  11987  \n",
       "4  12:16   NaN  11987  "
      ]
     },
     "execution_count": 18,
     "metadata": {},
     "output_type": "execute_result"
    }
   ],
   "source": [
    "event_results.head()"
   ]
  },
  {
   "cell_type": "code",
   "execution_count": 19,
   "id": "870f6c82",
   "metadata": {},
   "outputs": [
    {
     "data": {
      "text/html": [
       "<div>\n",
       "<style scoped>\n",
       "    .dataframe tbody tr th:only-of-type {\n",
       "        vertical-align: middle;\n",
       "    }\n",
       "\n",
       "    .dataframe tbody tr th {\n",
       "        vertical-align: top;\n",
       "    }\n",
       "\n",
       "    .dataframe thead th {\n",
       "        text-align: right;\n",
       "    }\n",
       "</style>\n",
       "<table border=\"1\" class=\"dataframe\">\n",
       "  <thead>\n",
       "    <tr style=\"text-align: right;\">\n",
       "      <th></th>\n",
       "      <th>region</th>\n",
       "      <th>club</th>\n",
       "      <th>type</th>\n",
       "      <th>distance</th>\n",
       "      <th>date</th>\n",
       "      <th>finishers</th>\n",
       "      <th>dnf</th>\n",
       "      <th>eid</th>\n",
       "    </tr>\n",
       "  </thead>\n",
       "  <tbody>\n",
       "    <tr>\n",
       "      <th>0</th>\n",
       "      <td>GA: Atlanta</td>\n",
       "      <td>Audax Atlanta / 910004</td>\n",
       "      <td>ACPB</td>\n",
       "      <td>200</td>\n",
       "      <td>2021/01/01</td>\n",
       "      <td>0</td>\n",
       "      <td>NaN</td>\n",
       "      <td>11955</td>\n",
       "    </tr>\n",
       "    <tr>\n",
       "      <th>1</th>\n",
       "      <td>VA: Tidewater</td>\n",
       "      <td>Tidewater Randonneurs / 946002</td>\n",
       "      <td>RUSAP</td>\n",
       "      <td>100</td>\n",
       "      <td>2021/01/01</td>\n",
       "      <td>1</td>\n",
       "      <td>0.0</td>\n",
       "      <td>12064</td>\n",
       "    </tr>\n",
       "    <tr>\n",
       "      <th>2</th>\n",
       "      <td>TX: Dallas</td>\n",
       "      <td>Lone Star Randonneurs / 943026</td>\n",
       "      <td>RUSAP</td>\n",
       "      <td>100</td>\n",
       "      <td>2021/01/01</td>\n",
       "      <td>2</td>\n",
       "      <td>0.0</td>\n",
       "      <td>11988</td>\n",
       "    </tr>\n",
       "    <tr>\n",
       "      <th>3</th>\n",
       "      <td>TX: Dallas</td>\n",
       "      <td>Lone Star Randonneurs / 943026</td>\n",
       "      <td>ACPB</td>\n",
       "      <td>200</td>\n",
       "      <td>2021/01/01</td>\n",
       "      <td>3</td>\n",
       "      <td>0.0</td>\n",
       "      <td>11987</td>\n",
       "    </tr>\n",
       "    <tr>\n",
       "      <th>4</th>\n",
       "      <td>TX: Austin</td>\n",
       "      <td>Hill Country Randonneurs / 943025</td>\n",
       "      <td>ACPB</td>\n",
       "      <td>200</td>\n",
       "      <td>2021/01/02</td>\n",
       "      <td>4</td>\n",
       "      <td>0.0</td>\n",
       "      <td>12034</td>\n",
       "    </tr>\n",
       "  </tbody>\n",
       "</table>\n",
       "</div>"
      ],
      "text/plain": [
       "          region                               club   type  distance  \\\n",
       "0    GA: Atlanta             Audax Atlanta / 910004   ACPB       200   \n",
       "1  VA: Tidewater     Tidewater Randonneurs / 946002  RUSAP       100   \n",
       "2     TX: Dallas     Lone Star Randonneurs / 943026  RUSAP       100   \n",
       "3     TX: Dallas     Lone Star Randonneurs / 943026   ACPB       200   \n",
       "4     TX: Austin  Hill Country Randonneurs / 943025   ACPB       200   \n",
       "\n",
       "         date  finishers  dnf    eid  \n",
       "0  2021/01/01          0  NaN  11955  \n",
       "1  2021/01/01          1  0.0  12064  \n",
       "2  2021/01/01          2  0.0  11988  \n",
       "3  2021/01/01          3  0.0  11987  \n",
       "4  2021/01/02          4  0.0  12034  "
      ]
     },
     "execution_count": 19,
     "metadata": {},
     "output_type": "execute_result"
    }
   ],
   "source": [
    "event_details.head()"
   ]
  },
  {
   "cell_type": "code",
   "execution_count": 20,
   "id": "88cb0cdd",
   "metadata": {},
   "outputs": [],
   "source": [
    "event_details.to_csv(f'data/event_details_{TARGET_YEAR}.csv', index=False)"
   ]
  },
  {
   "cell_type": "code",
   "execution_count": 21,
   "id": "0b6a3c7a",
   "metadata": {},
   "outputs": [],
   "source": [
    "event_results.to_csv(f'data/event_results_{TARGET_YEAR}.csv', index=False)"
   ]
  },
  {
   "cell_type": "code",
   "execution_count": 22,
   "id": "7a4c62c8",
   "metadata": {},
   "outputs": [],
   "source": [
    "events.to_csv(f'data/events_{TARGET_YEAR}.csv', index=False)"
   ]
  },
  {
   "cell_type": "code",
   "execution_count": null,
   "id": "cafc41db",
   "metadata": {},
   "outputs": [],
   "source": []
  }
 ],
 "metadata": {
  "kernelspec": {
   "display_name": "Python 3 (ipykernel)",
   "language": "python",
   "name": "python3"
  },
  "language_info": {
   "codemirror_mode": {
    "name": "ipython",
    "version": 3
   },
   "file_extension": ".py",
   "mimetype": "text/x-python",
   "name": "python",
   "nbconvert_exporter": "python",
   "pygments_lexer": "ipython3",
   "version": "3.9.6"
  }
 },
 "nbformat": 4,
 "nbformat_minor": 5
}
