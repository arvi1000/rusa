{
 "cells": [
  {
   "cell_type": "code",
   "execution_count": 32,
   "id": "8dcd8925",
   "metadata": {},
   "outputs": [],
   "source": [
    "import pandas as pd\n",
    "from time import sleep\n",
    "from tqdm import tqdm\n",
    "import requests\n",
    "from io import StringIO\n",
    "import os"
   ]
  },
  {
   "cell_type": "code",
   "execution_count": 2,
   "id": "1c952d42",
   "metadata": {},
   "outputs": [],
   "source": [
    "TARGET_YEAR = '2023'"
   ]
  },
  {
   "cell_type": "code",
   "execution_count": 3,
   "id": "e7b48d82",
   "metadata": {},
   "outputs": [],
   "source": [
    "def check_YYYY(YYYY):\n",
    "    is_good = isinstance(YYYY, str) and len(YYYY) == 4 and YYYY.isdigit()\n",
    "    if(not(is_good)):\n",
    "       raise Exception(\"Bad args\")\n",
    "    return(is_good)"
   ]
  },
  {
   "cell_type": "code",
   "execution_count": 4,
   "id": "5353ce77",
   "metadata": {},
   "outputs": [],
   "source": [
    "def clean_names(old_cols):\n",
    "    new_cols = [c.lower().replace('#', '') for c in old_cols]\n",
    "    return(new_cols)"
   ]
  },
  {
   "cell_type": "code",
   "execution_count": 5,
   "id": "db059054",
   "metadata": {},
   "outputs": [],
   "source": [
    "def read_html_clean(url):\n",
    "    # replacing bad character, which will cause read_html to fail directly, even with encoding='utf8'\n",
    "    raw_html = requests.get(url).text\n",
    "    raw_html = raw_html.replace('\\x93', ' ')\n",
    "    return(raw_html)\n"
   ]
  },
  {
   "cell_type": "code",
   "execution_count": 6,
   "id": "74044b4e",
   "metadata": {},
   "outputs": [],
   "source": [
    "def get_events(YYYY):\n",
    "    check_YYYY(YYYY)\n",
    "    url = f\"https://rusa.org/cgi-bin/resultsearch_PF.pl?regid=&date={YYYY}&type=&dist=&rtid=&esortby=cert&collapse=0\"\n",
    "    print(url)\n",
    "        \n",
    "    html_input = read_html_clean(url)\n",
    "    \n",
    "    # get versions with and without links\n",
    "    dat_links = pd.read_html(StringIO(str(html_input)), extract_links='all')[0]\n",
    "    dat = pd.read_html(StringIO(str(html_input)))[0]\n",
    "    \n",
    "    # break apart tuples to get urls. we'll have columns called 0 and 1\n",
    "        # TODO: validate it contains Route and select columns\n",
    "    route_ids = pd.DataFrame(dat_links[('Route', None)].tolist(), \n",
    "                             index=dat_links.index)\n",
    "    event_ids = pd.DataFrame(dat_links[('select', None)].tolist(), \n",
    "                             index=dat_links.index)\n",
    "\n",
    "    # extract ids from link urls in column 1\n",
    "        # TODO validate regex, in case format changes\n",
    "    dat['rt_url'] = route_ids[1]\n",
    "    dat['rtid'] = route_ids[1].str.extract('^.*rtid=(.*)')\n",
    "    dat['event_url'] = event_ids[1]\n",
    "    dat['eid'] = event_ids[1].str.extract('^.*eid=(.*)&')\n",
    "    \n",
    "    # clean col names\n",
    "    new_cols = [c.lower() for c in list(dat.columns)]\n",
    "    dat.columns = new_cols\n",
    "\n",
    "    # drop first row and the 'select' column\n",
    "    dat = dat.drop(0, axis=0)\n",
    "    dat = dat.drop('select', axis=1)\n",
    "\n",
    "    return(dat)"
   ]
  },
  {
   "cell_type": "code",
   "execution_count": 7,
   "id": "f4da9b9b",
   "metadata": {},
   "outputs": [
    {
     "name": "stdout",
     "output_type": "stream",
     "text": [
      "https://rusa.org/cgi-bin/resultsearch_PF.pl?regid=&date=2023&type=&dist=&rtid=&esortby=cert&collapse=0\n"
     ]
    },
    {
     "data": {
      "text/html": [
       "<div>\n",
       "<style scoped>\n",
       "    .dataframe tbody tr th:only-of-type {\n",
       "        vertical-align: middle;\n",
       "    }\n",
       "\n",
       "    .dataframe tbody tr th {\n",
       "        vertical-align: top;\n",
       "    }\n",
       "\n",
       "    .dataframe thead th {\n",
       "        text-align: right;\n",
       "    }\n",
       "</style>\n",
       "<table border=\"1\" class=\"dataframe\">\n",
       "  <thead>\n",
       "    <tr style=\"text-align: right;\">\n",
       "      <th></th>\n",
       "      <th>region</th>\n",
       "      <th>club</th>\n",
       "      <th>type</th>\n",
       "      <th>distance</th>\n",
       "      <th>date</th>\n",
       "      <th>route</th>\n",
       "      <th>rt_url</th>\n",
       "      <th>rtid</th>\n",
       "      <th>event_url</th>\n",
       "      <th>eid</th>\n",
       "    </tr>\n",
       "  </thead>\n",
       "  <tbody>\n",
       "    <tr>\n",
       "      <th>1</th>\n",
       "      <td>CA: Los Angeles</td>\n",
       "      <td>Pacific Coast Highway Randonneurs / 905051</td>\n",
       "      <td>ACPB</td>\n",
       "      <td>200</td>\n",
       "      <td>2023/01/01</td>\n",
       "      <td>Santa Barbara Easy 200k</td>\n",
       "      <td>/cgi-bin/routesearch_PF.pl?rtid=1977</td>\n",
       "      <td>1977</td>\n",
       "      <td>/cgi-bin/resultsearch_PF.pl?eid=14213&amp;esortby=...</td>\n",
       "      <td>14213</td>\n",
       "    </tr>\n",
       "    <tr>\n",
       "      <th>2</th>\n",
       "      <td>CA: Davis</td>\n",
       "      <td>Davis Bike Club / 905014</td>\n",
       "      <td>ACPB</td>\n",
       "      <td>200</td>\n",
       "      <td>2023/01/01</td>\n",
       "      <td>Colusa - Davis</td>\n",
       "      <td>/cgi-bin/routesearch_PF.pl?rtid=2159</td>\n",
       "      <td>2159</td>\n",
       "      <td>/cgi-bin/resultsearch_PF.pl?eid=14474&amp;esortby=...</td>\n",
       "      <td>14474</td>\n",
       "    </tr>\n",
       "    <tr>\n",
       "      <th>3</th>\n",
       "      <td>CA: Davis</td>\n",
       "      <td>Davis Bike Club / 905014</td>\n",
       "      <td>RUSAP</td>\n",
       "      <td>108</td>\n",
       "      <td>2023/01/01</td>\n",
       "      <td>Elmira Ramble</td>\n",
       "      <td>/cgi-bin/routesearch_PF.pl?rtid=2501</td>\n",
       "      <td>2501</td>\n",
       "      <td>/cgi-bin/resultsearch_PF.pl?eid=14473&amp;esortby=...</td>\n",
       "      <td>14473</td>\n",
       "    </tr>\n",
       "    <tr>\n",
       "      <th>4</th>\n",
       "      <td>OR: Portland</td>\n",
       "      <td>Oregon Randonneurs / 937020</td>\n",
       "      <td>ACPB</td>\n",
       "      <td>200</td>\n",
       "      <td>2023/01/01</td>\n",
       "      <td>Wine Country 200</td>\n",
       "      <td>/cgi-bin/routesearch_PF.pl?rtid=54</td>\n",
       "      <td>54</td>\n",
       "      <td>/cgi-bin/resultsearch_PF.pl?eid=14436&amp;esortby=...</td>\n",
       "      <td>14436</td>\n",
       "    </tr>\n",
       "    <tr>\n",
       "      <th>5</th>\n",
       "      <td>OR: Portland</td>\n",
       "      <td>Oregon Randonneurs / 937020</td>\n",
       "      <td>RUSAP</td>\n",
       "      <td>109</td>\n",
       "      <td>2023/01/01</td>\n",
       "      <td>Wine Country</td>\n",
       "      <td>/cgi-bin/routesearch_PF.pl?rtid=53</td>\n",
       "      <td>53</td>\n",
       "      <td>/cgi-bin/resultsearch_PF.pl?eid=14692&amp;esortby=...</td>\n",
       "      <td>14692</td>\n",
       "    </tr>\n",
       "  </tbody>\n",
       "</table>\n",
       "</div>"
      ],
      "text/plain": [
       "            region                                        club   type  \\\n",
       "1  CA: Los Angeles  Pacific Coast Highway Randonneurs / 905051   ACPB   \n",
       "2        CA: Davis                    Davis Bike Club / 905014   ACPB   \n",
       "3        CA: Davis                    Davis Bike Club / 905014  RUSAP   \n",
       "4     OR: Portland                 Oregon Randonneurs / 937020   ACPB   \n",
       "5     OR: Portland                 Oregon Randonneurs / 937020  RUSAP   \n",
       "\n",
       "   distance        date                    route  \\\n",
       "1       200  2023/01/01  Santa Barbara Easy 200k   \n",
       "2       200  2023/01/01           Colusa - Davis   \n",
       "3       108  2023/01/01            Elmira Ramble   \n",
       "4       200  2023/01/01         Wine Country 200   \n",
       "5       109  2023/01/01             Wine Country   \n",
       "\n",
       "                                 rt_url  rtid  \\\n",
       "1  /cgi-bin/routesearch_PF.pl?rtid=1977  1977   \n",
       "2  /cgi-bin/routesearch_PF.pl?rtid=2159  2159   \n",
       "3  /cgi-bin/routesearch_PF.pl?rtid=2501  2501   \n",
       "4    /cgi-bin/routesearch_PF.pl?rtid=54    54   \n",
       "5    /cgi-bin/routesearch_PF.pl?rtid=53    53   \n",
       "\n",
       "                                           event_url    eid  \n",
       "1  /cgi-bin/resultsearch_PF.pl?eid=14213&esortby=...  14213  \n",
       "2  /cgi-bin/resultsearch_PF.pl?eid=14474&esortby=...  14474  \n",
       "3  /cgi-bin/resultsearch_PF.pl?eid=14473&esortby=...  14473  \n",
       "4  /cgi-bin/resultsearch_PF.pl?eid=14436&esortby=...  14436  \n",
       "5  /cgi-bin/resultsearch_PF.pl?eid=14692&esortby=...  14692  "
      ]
     },
     "execution_count": 7,
     "metadata": {},
     "output_type": "execute_result"
    }
   ],
   "source": [
    "events = get_events(TARGET_YEAR)\n",
    "events.head()"
   ]
  },
  {
   "cell_type": "code",
   "execution_count": 8,
   "id": "0dc84163",
   "metadata": {},
   "outputs": [
    {
     "data": {
      "text/html": [
       "<div>\n",
       "<style scoped>\n",
       "    .dataframe tbody tr th:only-of-type {\n",
       "        vertical-align: middle;\n",
       "    }\n",
       "\n",
       "    .dataframe tbody tr th {\n",
       "        vertical-align: top;\n",
       "    }\n",
       "\n",
       "    .dataframe thead th {\n",
       "        text-align: right;\n",
       "    }\n",
       "</style>\n",
       "<table border=\"1\" class=\"dataframe\">\n",
       "  <thead>\n",
       "    <tr style=\"text-align: right;\">\n",
       "      <th></th>\n",
       "      <th>region</th>\n",
       "      <th>club</th>\n",
       "      <th>type</th>\n",
       "      <th>distance</th>\n",
       "      <th>date</th>\n",
       "      <th>route</th>\n",
       "      <th>rt_url</th>\n",
       "      <th>rtid</th>\n",
       "      <th>event_url</th>\n",
       "      <th>eid</th>\n",
       "    </tr>\n",
       "  </thead>\n",
       "  <tbody>\n",
       "    <tr>\n",
       "      <th>1078</th>\n",
       "      <td>CA: San Francisco</td>\n",
       "      <td>San Francisco Randonneurs / 905030</td>\n",
       "      <td>RUSAP</td>\n",
       "      <td>173</td>\n",
       "      <td>2023/12/24</td>\n",
       "      <td>Del Puerto Canyon Junior</td>\n",
       "      <td>/cgi-bin/routesearch_PF.pl?rtid=3233</td>\n",
       "      <td>3233</td>\n",
       "      <td>/cgi-bin/resultsearch_PF.pl?eid=15816&amp;esortby=...</td>\n",
       "      <td>15816</td>\n",
       "    </tr>\n",
       "    <tr>\n",
       "      <th>1079</th>\n",
       "      <td>AZ: Phoenix</td>\n",
       "      <td>Arizona Randonneurs / 903020</td>\n",
       "      <td>ACPB</td>\n",
       "      <td>300</td>\n",
       "      <td>2023/12/30</td>\n",
       "      <td>Vulture Mine 300k</td>\n",
       "      <td>/cgi-bin/routesearch_PF.pl?rtid=1697</td>\n",
       "      <td>1697</td>\n",
       "      <td>/cgi-bin/resultsearch_PF.pl?eid=15817&amp;esortby=...</td>\n",
       "      <td>15817</td>\n",
       "    </tr>\n",
       "    <tr>\n",
       "      <th>1080</th>\n",
       "      <td>FL: Northeast</td>\n",
       "      <td>Northeast Florida Randonneurs / 909034</td>\n",
       "      <td>RUSAP</td>\n",
       "      <td>100</td>\n",
       "      <td>2023/12/30</td>\n",
       "      <td>Touch the St George POP</td>\n",
       "      <td>/cgi-bin/routesearch_PF.pl?rtid=3020</td>\n",
       "      <td>3020</td>\n",
       "      <td>/cgi-bin/resultsearch_PF.pl?eid=15831&amp;esortby=...</td>\n",
       "      <td>15831</td>\n",
       "    </tr>\n",
       "    <tr>\n",
       "      <th>1081</th>\n",
       "      <td>CA: Davis</td>\n",
       "      <td>Davis Bike Club / 905014</td>\n",
       "      <td>ACPB</td>\n",
       "      <td>200</td>\n",
       "      <td>2023/12/31</td>\n",
       "      <td>Davis - Pope Valley - Davis</td>\n",
       "      <td>/cgi-bin/routesearch_PF.pl?rtid=1200</td>\n",
       "      <td>1200</td>\n",
       "      <td>/cgi-bin/resultsearch_PF.pl?eid=14493&amp;esortby=...</td>\n",
       "      <td>14493</td>\n",
       "    </tr>\n",
       "    <tr>\n",
       "      <th>1082</th>\n",
       "      <td>CA: Davis</td>\n",
       "      <td>Davis Bike Club / 905014</td>\n",
       "      <td>RUSAP</td>\n",
       "      <td>102</td>\n",
       "      <td>2023/12/31</td>\n",
       "      <td>Bella Bru 102k</td>\n",
       "      <td>/cgi-bin/routesearch_PF.pl?rtid=2011</td>\n",
       "      <td>2011</td>\n",
       "      <td>/cgi-bin/resultsearch_PF.pl?eid=14492&amp;esortby=...</td>\n",
       "      <td>14492</td>\n",
       "    </tr>\n",
       "  </tbody>\n",
       "</table>\n",
       "</div>"
      ],
      "text/plain": [
       "                 region                                    club   type  \\\n",
       "1078  CA: San Francisco      San Francisco Randonneurs / 905030  RUSAP   \n",
       "1079        AZ: Phoenix            Arizona Randonneurs / 903020   ACPB   \n",
       "1080      FL: Northeast  Northeast Florida Randonneurs / 909034  RUSAP   \n",
       "1081          CA: Davis                Davis Bike Club / 905014   ACPB   \n",
       "1082          CA: Davis                Davis Bike Club / 905014  RUSAP   \n",
       "\n",
       "      distance        date                        route  \\\n",
       "1078       173  2023/12/24     Del Puerto Canyon Junior   \n",
       "1079       300  2023/12/30            Vulture Mine 300k   \n",
       "1080       100  2023/12/30      Touch the St George POP   \n",
       "1081       200  2023/12/31  Davis - Pope Valley - Davis   \n",
       "1082       102  2023/12/31               Bella Bru 102k   \n",
       "\n",
       "                                    rt_url  rtid  \\\n",
       "1078  /cgi-bin/routesearch_PF.pl?rtid=3233  3233   \n",
       "1079  /cgi-bin/routesearch_PF.pl?rtid=1697  1697   \n",
       "1080  /cgi-bin/routesearch_PF.pl?rtid=3020  3020   \n",
       "1081  /cgi-bin/routesearch_PF.pl?rtid=1200  1200   \n",
       "1082  /cgi-bin/routesearch_PF.pl?rtid=2011  2011   \n",
       "\n",
       "                                              event_url    eid  \n",
       "1078  /cgi-bin/resultsearch_PF.pl?eid=15816&esortby=...  15816  \n",
       "1079  /cgi-bin/resultsearch_PF.pl?eid=15817&esortby=...  15817  \n",
       "1080  /cgi-bin/resultsearch_PF.pl?eid=15831&esortby=...  15831  \n",
       "1081  /cgi-bin/resultsearch_PF.pl?eid=14493&esortby=...  14493  \n",
       "1082  /cgi-bin/resultsearch_PF.pl?eid=14492&esortby=...  14492  "
      ]
     },
     "execution_count": 8,
     "metadata": {},
     "output_type": "execute_result"
    }
   ],
   "source": [
    "events.tail()"
   ]
  },
  {
   "cell_type": "code",
   "execution_count": 9,
   "id": "89eff76f",
   "metadata": {},
   "outputs": [],
   "source": [
    "def get_event_details_results(eid):\n",
    "    \n",
    "    event_url = f\"https://rusa.org/cgi-bin/resultsearch_PF.pl?eid={eid}&esortby=cert\"\n",
    "    #print(event_url)\n",
    "    two_dats = pd.read_html(event_url)\n",
    "    \n",
    "    event_details = two_dats[0]\n",
    "    event_details.columns = clean_names(list(event_details.columns))\n",
    "    event_details['eid'] = eid\n",
    "\n",
    "    # warn if we only get one table back\n",
    "    if(len(two_dats)<2):\n",
    "        #print(f'Warning: no finisher results for event {eid}!')\n",
    "        event_results = pd.DataFrame()\n",
    "    else:\n",
    "        event_results = two_dats[1]\n",
    "        event_results.columns = clean_names(list(event_results.columns))\n",
    "        # drop the rows 'x nonmembers also finished'\n",
    "        try:\n",
    "            event_results = event_results.drop(\n",
    "                event_results[event_results.cert.str.contains('also finished')].index\n",
    "            )\n",
    "        except:\n",
    "            pass\n",
    "            #print(f\"eid {eid} - couldn't drop 'non member' result rows\")\n",
    "        event_results['eid'] = eid\n",
    "    \n",
    "    return([event_details,event_results])"
   ]
  },
  {
   "cell_type": "code",
   "execution_count": 10,
   "id": "2f60f266",
   "metadata": {},
   "outputs": [
    {
     "data": {
      "text/plain": [
       "type\n",
       "ACPB     653\n",
       "ACPF      14\n",
       "ACPR       2\n",
       "RM         6\n",
       "RUSAB    113\n",
       "RUSAF     22\n",
       "RUSAP    262\n",
       "UAFB      10\n",
       "dtype: int64"
      ]
     },
     "execution_count": 10,
     "metadata": {},
     "output_type": "execute_result"
    }
   ],
   "source": [
    "events.groupby('type').size()"
   ]
  },
  {
   "cell_type": "code",
   "execution_count": 11,
   "id": "f91bd324",
   "metadata": {},
   "outputs": [],
   "source": [
    "# https://rusa.org/pages/eventtypes\n",
    "non_team_types = ['ACPB', 'RM', 'RUSAB', 'RUSAP']"
   ]
  },
  {
   "cell_type": "code",
   "execution_count": 12,
   "id": "06440323",
   "metadata": {},
   "outputs": [
    {
     "name": "stdout",
     "output_type": "stream",
     "text": [
      "1034\n"
     ]
    }
   ],
   "source": [
    "# list of event ids for the non team event types, for which we'll get results/details\n",
    "event_ids = events[events.type.isin(non_team_types)].eid.to_list()\n",
    "print(len(event_ids))"
   ]
  },
  {
   "cell_type": "code",
   "execution_count": 13,
   "id": "6b1f37d9",
   "metadata": {},
   "outputs": [],
   "source": [
    "e_detail_list = []\n",
    "e_results_list = []"
   ]
  },
  {
   "cell_type": "code",
   "execution_count": 22,
   "id": "fae08956",
   "metadata": {},
   "outputs": [],
   "source": [
    "remaining_event_ids = event_ids"
   ]
  },
  {
   "cell_type": "code",
   "execution_count": 25,
   "id": "34166835",
   "metadata": {},
   "outputs": [
    {
     "name": "stderr",
     "output_type": "stream",
     "text": [
      "100%|████████████████████████████████████████████████████████████████████████████| 328/328 [01:47<00:00,  3.05it/s]\n"
     ]
    }
   ],
   "source": [
    "# this can fail with too many event_ids (eg 1034 for 2023)\n",
    "for e in tqdm(remaining_event_ids):\n",
    "    this_d_e = get_event_details_results(e)\n",
    "    e_detail_list.append(this_d_e[0])\n",
    "    e_results_list.append(this_d_e[1])\n",
    "    # sleep roughly every nth call (assuming event ids are consecutive ints)\n",
    "    if(int(e) % 10 == 0):\n",
    "        sleep(.5)"
   ]
  },
  {
   "cell_type": "code",
   "execution_count": 26,
   "id": "a409487e",
   "metadata": {},
   "outputs": [
    {
     "name": "stdout",
     "output_type": "stream",
     "text": [
      "1034 1034 1034\n"
     ]
    }
   ],
   "source": [
    "# should all be the same\n",
    "print(len(e_detail_list), len(e_results_list), len(event_ids))"
   ]
  },
  {
   "cell_type": "code",
   "execution_count": 24,
   "id": "4ab37f7a",
   "metadata": {},
   "outputs": [
    {
     "data": {
      "text/plain": [
       "'14385'"
      ]
     },
     "execution_count": 24,
     "metadata": {},
     "output_type": "execute_result"
    }
   ],
   "source": [
    "# use this if loop fails before completion, then you can rerun the loop cell\n",
    "#remaining_event_ids = event_ids[len(e_detail_list):]"
   ]
  },
  {
   "cell_type": "code",
   "execution_count": 27,
   "id": "6e46b5ea",
   "metadata": {},
   "outputs": [],
   "source": [
    "event_results = pd.concat(e_results_list)\n",
    "event_details = pd.concat(e_detail_list)"
   ]
  },
  {
   "cell_type": "code",
   "execution_count": null,
   "id": "b8084458",
   "metadata": {},
   "outputs": [],
   "source": [
    "# for when i forgot to filter team events before getting results; \n",
    "# the format is different and messes stuff up, plus i don't care about those results right now\n",
    "# erl2 = list(compress(e_results_list, \n",
    "#                      events.type.isin(non_team_types)))"
   ]
  },
  {
   "cell_type": "code",
   "execution_count": 28,
   "id": "ebbe02c4",
   "metadata": {},
   "outputs": [],
   "source": [
    "event_details.reset_index(inplace=True, drop=True)\n",
    "event_results.reset_index(inplace=True, drop=True)"
   ]
  },
  {
   "cell_type": "code",
   "execution_count": 29,
   "id": "768fb25c",
   "metadata": {},
   "outputs": [
    {
     "data": {
      "text/html": [
       "<div>\n",
       "<style scoped>\n",
       "    .dataframe tbody tr th:only-of-type {\n",
       "        vertical-align: middle;\n",
       "    }\n",
       "\n",
       "    .dataframe tbody tr th {\n",
       "        vertical-align: top;\n",
       "    }\n",
       "\n",
       "    .dataframe thead th {\n",
       "        text-align: right;\n",
       "    }\n",
       "</style>\n",
       "<table border=\"1\" class=\"dataframe\">\n",
       "  <thead>\n",
       "    <tr style=\"text-align: right;\">\n",
       "      <th></th>\n",
       "      <th>cert</th>\n",
       "      <th>rusa</th>\n",
       "      <th>name</th>\n",
       "      <th>club / acp code</th>\n",
       "      <th>time</th>\n",
       "      <th>medal</th>\n",
       "      <th>eid</th>\n",
       "    </tr>\n",
       "  </thead>\n",
       "  <tbody>\n",
       "    <tr>\n",
       "      <th>0</th>\n",
       "      <td>865373</td>\n",
       "      <td>13488</td>\n",
       "      <td>AKIYAMA, Bill</td>\n",
       "      <td>Pacific Coast Highway Randonneurs / 905051</td>\n",
       "      <td>12:30</td>\n",
       "      <td>NaN</td>\n",
       "      <td>14213</td>\n",
       "    </tr>\n",
       "    <tr>\n",
       "      <th>1</th>\n",
       "      <td>865374</td>\n",
       "      <td>13560</td>\n",
       "      <td>ALAVA, Victor</td>\n",
       "      <td>Randonneurs USA / 905095</td>\n",
       "      <td>09:28</td>\n",
       "      <td>NaN</td>\n",
       "      <td>14213</td>\n",
       "    </tr>\n",
       "    <tr>\n",
       "      <th>2</th>\n",
       "      <td>865375</td>\n",
       "      <td>15640</td>\n",
       "      <td>ANDREWS, Bradford Todd</td>\n",
       "      <td>Davis Bike Club / 905014</td>\n",
       "      <td>10:54</td>\n",
       "      <td>NaN</td>\n",
       "      <td>14213</td>\n",
       "    </tr>\n",
       "    <tr>\n",
       "      <th>3</th>\n",
       "      <td>865376</td>\n",
       "      <td>14547</td>\n",
       "      <td>ANDREWS, Justin Hale</td>\n",
       "      <td>Pacific Coast Highway Randonneurs / 905051</td>\n",
       "      <td>10:54</td>\n",
       "      <td>NaN</td>\n",
       "      <td>14213</td>\n",
       "    </tr>\n",
       "    <tr>\n",
       "      <th>4</th>\n",
       "      <td>865377</td>\n",
       "      <td>7895</td>\n",
       "      <td>ARITA, Jeffrey Glenn</td>\n",
       "      <td>Pacific Coast Highway Randonneurs / 905051</td>\n",
       "      <td>11:12</td>\n",
       "      <td>NaN</td>\n",
       "      <td>14213</td>\n",
       "    </tr>\n",
       "  </tbody>\n",
       "</table>\n",
       "</div>"
      ],
      "text/plain": [
       "     cert   rusa                    name  \\\n",
       "0  865373  13488           AKIYAMA, Bill   \n",
       "1  865374  13560           ALAVA, Victor   \n",
       "2  865375  15640  ANDREWS, Bradford Todd   \n",
       "3  865376  14547    ANDREWS, Justin Hale   \n",
       "4  865377   7895    ARITA, Jeffrey Glenn   \n",
       "\n",
       "                              club / acp code   time medal    eid  \n",
       "0  Pacific Coast Highway Randonneurs / 905051  12:30   NaN  14213  \n",
       "1                    Randonneurs USA / 905095  09:28   NaN  14213  \n",
       "2                    Davis Bike Club / 905014  10:54   NaN  14213  \n",
       "3  Pacific Coast Highway Randonneurs / 905051  10:54   NaN  14213  \n",
       "4  Pacific Coast Highway Randonneurs / 905051  11:12   NaN  14213  "
      ]
     },
     "execution_count": 29,
     "metadata": {},
     "output_type": "execute_result"
    }
   ],
   "source": [
    "event_results.head()"
   ]
  },
  {
   "cell_type": "code",
   "execution_count": 30,
   "id": "870f6c82",
   "metadata": {},
   "outputs": [
    {
     "data": {
      "text/html": [
       "<div>\n",
       "<style scoped>\n",
       "    .dataframe tbody tr th:only-of-type {\n",
       "        vertical-align: middle;\n",
       "    }\n",
       "\n",
       "    .dataframe tbody tr th {\n",
       "        vertical-align: top;\n",
       "    }\n",
       "\n",
       "    .dataframe thead th {\n",
       "        text-align: right;\n",
       "    }\n",
       "</style>\n",
       "<table border=\"1\" class=\"dataframe\">\n",
       "  <thead>\n",
       "    <tr style=\"text-align: right;\">\n",
       "      <th></th>\n",
       "      <th>region</th>\n",
       "      <th>club</th>\n",
       "      <th>type</th>\n",
       "      <th>distance</th>\n",
       "      <th>date</th>\n",
       "      <th>finishers</th>\n",
       "      <th>dnf</th>\n",
       "      <th>eid</th>\n",
       "    </tr>\n",
       "  </thead>\n",
       "  <tbody>\n",
       "    <tr>\n",
       "      <th>0</th>\n",
       "      <td>CA: Los Angeles</td>\n",
       "      <td>Pacific Coast Highway Randonneurs / 905051</td>\n",
       "      <td>ACPB</td>\n",
       "      <td>200</td>\n",
       "      <td>2023/01/01</td>\n",
       "      <td>26</td>\n",
       "      <td>2.0</td>\n",
       "      <td>14213</td>\n",
       "    </tr>\n",
       "    <tr>\n",
       "      <th>1</th>\n",
       "      <td>CA: Davis</td>\n",
       "      <td>Davis Bike Club / 905014</td>\n",
       "      <td>ACPB</td>\n",
       "      <td>200</td>\n",
       "      <td>2023/01/01</td>\n",
       "      <td>17</td>\n",
       "      <td>0.0</td>\n",
       "      <td>14474</td>\n",
       "    </tr>\n",
       "    <tr>\n",
       "      <th>2</th>\n",
       "      <td>CA: Davis</td>\n",
       "      <td>Davis Bike Club / 905014</td>\n",
       "      <td>RUSAP</td>\n",
       "      <td>108</td>\n",
       "      <td>2023/01/01</td>\n",
       "      <td>0</td>\n",
       "      <td>NaN</td>\n",
       "      <td>14473</td>\n",
       "    </tr>\n",
       "    <tr>\n",
       "      <th>3</th>\n",
       "      <td>OR: Portland</td>\n",
       "      <td>Oregon Randonneurs / 937020</td>\n",
       "      <td>ACPB</td>\n",
       "      <td>200</td>\n",
       "      <td>2023/01/01</td>\n",
       "      <td>5</td>\n",
       "      <td>0.0</td>\n",
       "      <td>14436</td>\n",
       "    </tr>\n",
       "    <tr>\n",
       "      <th>4</th>\n",
       "      <td>OR: Portland</td>\n",
       "      <td>Oregon Randonneurs / 937020</td>\n",
       "      <td>RUSAP</td>\n",
       "      <td>109</td>\n",
       "      <td>2023/01/01</td>\n",
       "      <td>3</td>\n",
       "      <td>0.0</td>\n",
       "      <td>14692</td>\n",
       "    </tr>\n",
       "  </tbody>\n",
       "</table>\n",
       "</div>"
      ],
      "text/plain": [
       "            region                                        club   type  \\\n",
       "0  CA: Los Angeles  Pacific Coast Highway Randonneurs / 905051   ACPB   \n",
       "1        CA: Davis                    Davis Bike Club / 905014   ACPB   \n",
       "2        CA: Davis                    Davis Bike Club / 905014  RUSAP   \n",
       "3     OR: Portland                 Oregon Randonneurs / 937020   ACPB   \n",
       "4     OR: Portland                 Oregon Randonneurs / 937020  RUSAP   \n",
       "\n",
       "   distance        date  finishers  dnf    eid  \n",
       "0       200  2023/01/01         26  2.0  14213  \n",
       "1       200  2023/01/01         17  0.0  14474  \n",
       "2       108  2023/01/01          0  NaN  14473  \n",
       "3       200  2023/01/01          5  0.0  14436  \n",
       "4       109  2023/01/01          3  0.0  14692  "
      ]
     },
     "execution_count": 30,
     "metadata": {},
     "output_type": "execute_result"
    }
   ],
   "source": [
    "event_details.head()"
   ]
  },
  {
   "cell_type": "code",
   "execution_count": 36,
   "id": "f71ed314",
   "metadata": {},
   "outputs": [
    {
     "name": "stdout",
     "output_type": "stream",
     "text": [
      "created output dir\n"
     ]
    }
   ],
   "source": [
    "if not os.path.exists('raw_data'):\n",
    "    os.makedirs('raw_data')\n",
    "    print('created output dir')\n",
    "    "
   ]
  },
  {
   "cell_type": "code",
   "execution_count": 37,
   "id": "88cb0cdd",
   "metadata": {},
   "outputs": [],
   "source": [
    "event_details.to_csv(f'raw_data/event_details_{TARGET_YEAR}.csv', index=False)"
   ]
  },
  {
   "cell_type": "code",
   "execution_count": 38,
   "id": "0b6a3c7a",
   "metadata": {},
   "outputs": [],
   "source": [
    "event_results.to_csv(f'raw_data/event_results_{TARGET_YEAR}.csv', index=False)"
   ]
  },
  {
   "cell_type": "code",
   "execution_count": 39,
   "id": "7a4c62c8",
   "metadata": {},
   "outputs": [],
   "source": [
    "events.to_csv(f'raw_data/events_{TARGET_YEAR}.csv', index=False)"
   ]
  }
 ],
 "metadata": {
  "kernelspec": {
   "display_name": "Python 3 (ipykernel)",
   "language": "python",
   "name": "python3"
  },
  "language_info": {
   "codemirror_mode": {
    "name": "ipython",
    "version": 3
   },
   "file_extension": ".py",
   "mimetype": "text/x-python",
   "name": "python",
   "nbconvert_exporter": "python",
   "pygments_lexer": "ipython3",
   "version": "3.11.7"
  }
 },
 "nbformat": 4,
 "nbformat_minor": 5
}
