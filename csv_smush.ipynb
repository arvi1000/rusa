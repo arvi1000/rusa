{
 "cells": [
  {
   "cell_type": "code",
   "execution_count": 90,
   "id": "b94cb382",
   "metadata": {},
   "outputs": [],
   "source": [
    "import pandas as pd\n",
    "import glob\n",
    "from datetime import datetime"
   ]
  },
  {
   "cell_type": "code",
   "execution_count": 93,
   "id": "2da9b6f1",
   "metadata": {},
   "outputs": [],
   "source": [
    "def csv_smush(fl_list):\n",
    "    dat = pd.concat([pd.read_csv(f) for f in fl_list], ignore_index=True)\n",
    "    return dat"
   ]
  },
  {
   "cell_type": "code",
   "execution_count": 94,
   "id": "d751bf3d",
   "metadata": {},
   "outputs": [],
   "source": [
    "event_details = csv_smush(glob.glob('raw_data/event_details*'))\n",
    "event_details['date'] = pd.to_datetime(event_details.date)"
   ]
  },
  {
   "cell_type": "code",
   "execution_count": 95,
   "id": "c6803bd0",
   "metadata": {},
   "outputs": [],
   "source": [
    "event_results = csv_smush(glob.glob('raw_data/event_results*'))\n",
    "event_results['hours'] = pd.to_numeric(event_results.time.str.replace(':.*$', '', regex=True))\n",
    "event_results['minutes'] = pd.to_numeric(event_results.time.str.replace('^.*:', '', regex=True))"
   ]
  },
  {
   "cell_type": "code",
   "execution_count": 96,
   "id": "bbbb8e05",
   "metadata": {},
   "outputs": [],
   "source": [
    "events = csv_smush(glob.glob('raw_data/events*'))"
   ]
  },
  {
   "cell_type": "code",
   "execution_count": 98,
   "id": "646b6e5e",
   "metadata": {},
   "outputs": [],
   "source": [
    "events.to_csv('data/events.csv', index=False)\n",
    "event_details.to_csv('data/event_details.csv', index=False)\n",
    "event_results.to_csv('data/event_results.csv', index=False)"
   ]
  },
  {
   "cell_type": "code",
   "execution_count": null,
   "id": "dba24db9",
   "metadata": {},
   "outputs": [],
   "source": []
  }
 ],
 "metadata": {
  "kernelspec": {
   "display_name": "Python 3 (ipykernel)",
   "language": "python",
   "name": "python3"
  },
  "language_info": {
   "codemirror_mode": {
    "name": "ipython",
    "version": 3
   },
   "file_extension": ".py",
   "mimetype": "text/x-python",
   "name": "python",
   "nbconvert_exporter": "python",
   "pygments_lexer": "ipython3",
   "version": "3.9.6"
  }
 },
 "nbformat": 4,
 "nbformat_minor": 5
}
