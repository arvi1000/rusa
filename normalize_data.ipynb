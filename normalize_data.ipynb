{
 "cells": [
  {
   "cell_type": "code",
   "execution_count": 1,
   "id": "17f18eab",
   "metadata": {},
   "outputs": [],
   "source": [
    "import pandas as pd"
   ]
  },
  {
   "cell_type": "code",
   "execution_count": 2,
   "id": "ce87a2b3",
   "metadata": {},
   "outputs": [],
   "source": [
    "events = pd.read_csv('data/events.csv')\n",
    "event_results = pd.read_csv('data/event_results.csv')\n",
    "event_details = pd.read_csv('data/event_details.csv')"
   ]
  },
  {
   "cell_type": "code",
   "execution_count": 3,
   "id": "50ef9d68",
   "metadata": {},
   "outputs": [],
   "source": [
    "events['host_acp_code'] = events['club'].str.replace('^.* / ', '', regex=True)\n",
    "events_norm = events[['eid', 'host_acp_code', 'date', 'rtid', 'type']]"
   ]
  },
  {
   "cell_type": "code",
   "execution_count": 21,
   "id": "a372f663",
   "metadata": {},
   "outputs": [],
   "source": [
    "event_details_norm = event_details[['eid', 'finishers', 'dnf']]\n",
    "# drop 0 participation events -- with no finishers and no dnf\n",
    "event_details_norm = event_details_norm[\n",
    "    (event_details_norm.finishers > 0 ) |\n",
    "    (event_details_norm.dnf > 0  )\n",
    "]\n",
    "\n",
    "# some events have dnf = -1, we'll take these as 0\n",
    "event_details_norm.loc[event_details_norm.dnf < 0, 'dnf'] = 0\n",
    "event_details_norm['starters'] = event_details_norm.finishers + event_details_norm.dnf"
   ]
  },
  {
   "cell_type": "code",
   "execution_count": 33,
   "id": "ac73c36c",
   "metadata": {},
   "outputs": [
    {
     "data": {
      "text/html": [
       "<div>\n",
       "<style scoped>\n",
       "    .dataframe tbody tr th:only-of-type {\n",
       "        vertical-align: middle;\n",
       "    }\n",
       "\n",
       "    .dataframe tbody tr th {\n",
       "        vertical-align: top;\n",
       "    }\n",
       "\n",
       "    .dataframe thead th {\n",
       "        text-align: right;\n",
       "    }\n",
       "</style>\n",
       "<table border=\"1\" class=\"dataframe\">\n",
       "  <thead>\n",
       "    <tr style=\"text-align: right;\">\n",
       "      <th></th>\n",
       "      <th>cert</th>\n",
       "      <th>rusa</th>\n",
       "      <th>name</th>\n",
       "      <th>club / acp code</th>\n",
       "      <th>time</th>\n",
       "      <th>medal</th>\n",
       "      <th>eid</th>\n",
       "      <th>hours</th>\n",
       "      <th>minutes</th>\n",
       "    </tr>\n",
       "  </thead>\n",
       "  <tbody>\n",
       "    <tr>\n",
       "      <th>0</th>\n",
       "      <td>373131</td>\n",
       "      <td>8037</td>\n",
       "      <td>AGATEP, Scott</td>\n",
       "      <td>Davis Bike Club / 905014</td>\n",
       "      <td>09:44</td>\n",
       "      <td>NaN</td>\n",
       "      <td>5426</td>\n",
       "      <td>9</td>\n",
       "      <td>44</td>\n",
       "    </tr>\n",
       "    <tr>\n",
       "      <th>1</th>\n",
       "      <td>373132</td>\n",
       "      <td>6328</td>\n",
       "      <td>ALBRIGHT, Dean</td>\n",
       "      <td>Davis Bike Club / 905014</td>\n",
       "      <td>09:20</td>\n",
       "      <td>Y</td>\n",
       "      <td>5426</td>\n",
       "      <td>9</td>\n",
       "      <td>20</td>\n",
       "    </tr>\n",
       "    <tr>\n",
       "      <th>2</th>\n",
       "      <td>373133</td>\n",
       "      <td>5776</td>\n",
       "      <td>AMEEN, Sol</td>\n",
       "      <td>Davis Bike Club / 905014</td>\n",
       "      <td>11:20</td>\n",
       "      <td>Y</td>\n",
       "      <td>5426</td>\n",
       "      <td>11</td>\n",
       "      <td>20</td>\n",
       "    </tr>\n",
       "    <tr>\n",
       "      <th>3</th>\n",
       "      <td>373134</td>\n",
       "      <td>6151</td>\n",
       "      <td>ANDERSEN, Carl</td>\n",
       "      <td>San Francisco Randonneurs / 905030</td>\n",
       "      <td>08:47</td>\n",
       "      <td>NaN</td>\n",
       "      <td>5426</td>\n",
       "      <td>8</td>\n",
       "      <td>47</td>\n",
       "    </tr>\n",
       "    <tr>\n",
       "      <th>4</th>\n",
       "      <td>373135</td>\n",
       "      <td>8313</td>\n",
       "      <td>BACKMAN, Steve C</td>\n",
       "      <td>Santa Rosa Cycling Club / 905048</td>\n",
       "      <td>08:27</td>\n",
       "      <td>NaN</td>\n",
       "      <td>5426</td>\n",
       "      <td>8</td>\n",
       "      <td>27</td>\n",
       "    </tr>\n",
       "  </tbody>\n",
       "</table>\n",
       "</div>"
      ],
      "text/plain": [
       "     cert  rusa              name                     club / acp code   time  \\\n",
       "0  373131  8037     AGATEP, Scott            Davis Bike Club / 905014  09:44   \n",
       "1  373132  6328    ALBRIGHT, Dean            Davis Bike Club / 905014  09:20   \n",
       "2  373133  5776        AMEEN, Sol            Davis Bike Club / 905014  11:20   \n",
       "3  373134  6151    ANDERSEN, Carl  San Francisco Randonneurs / 905030  08:47   \n",
       "4  373135  8313  BACKMAN, Steve C    Santa Rosa Cycling Club / 905048  08:27   \n",
       "\n",
       "  medal   eid  hours  minutes  \n",
       "0   NaN  5426      9       44  \n",
       "1     Y  5426      9       20  \n",
       "2     Y  5426     11       20  \n",
       "3   NaN  5426      8       47  \n",
       "4   NaN  5426      8       27  "
      ]
     },
     "execution_count": 33,
     "metadata": {},
     "output_type": "execute_result"
    }
   ],
   "source": [
    "event_results.head()"
   ]
  },
  {
   "cell_type": "code",
   "execution_count": 28,
   "id": "e00b4d79",
   "metadata": {},
   "outputs": [],
   "source": []
  },
  {
   "cell_type": "code",
   "execution_count": null,
   "id": "7359c8b3",
   "metadata": {},
   "outputs": [],
   "source": []
  }
 ],
 "metadata": {
  "kernelspec": {
   "display_name": "Python 3 (ipykernel)",
   "language": "python",
   "name": "python3"
  },
  "language_info": {
   "codemirror_mode": {
    "name": "ipython",
    "version": 3
   },
   "file_extension": ".py",
   "mimetype": "text/x-python",
   "name": "python",
   "nbconvert_exporter": "python",
   "pygments_lexer": "ipython3",
   "version": "3.9.6"
  }
 },
 "nbformat": 4,
 "nbformat_minor": 5
}
