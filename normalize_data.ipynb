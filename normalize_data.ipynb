{
 "cells": [
  {
   "cell_type": "code",
   "execution_count": 1,
   "id": "17f18eab",
   "metadata": {},
   "outputs": [],
   "source": [
    "import pandas as pd"
   ]
  },
  {
   "cell_type": "code",
   "execution_count": 2,
   "id": "ce87a2b3",
   "metadata": {},
   "outputs": [],
   "source": [
    "events = pd.read_csv('data/events.csv')\n",
    "event_results = pd.read_csv('data/event_results.csv')\n",
    "event_details = pd.read_csv('data/event_details.csv')"
   ]
  },
  {
   "cell_type": "code",
   "execution_count": 3,
   "id": "50ef9d68",
   "metadata": {},
   "outputs": [],
   "source": [
    "# 1. events table\n",
    "events['host_acp_code'] = events['club'].str.replace('^.* / ', '', regex=True)\n",
    "events_norm = events[['eid', 'host_acp_code', 'date', 'rtid', 'type']]"
   ]
  },
  {
   "cell_type": "code",
   "execution_count": 4,
   "id": "a372f663",
   "metadata": {},
   "outputs": [],
   "source": [
    "# 2. event_details table\n",
    "event_details_norm = event_details[['eid', 'finishers', 'dnf']]\n",
    "# drop 0 participation events -- with no finishers and no dnf\n",
    "event_details_norm = event_details_norm[\n",
    "    (event_details_norm.finishers > 0 ) |\n",
    "    (event_details_norm.dnf > 0  )\n",
    "]\n",
    "\n",
    "# some events have dnf = -1, we'll take these as 0\n",
    "event_details_norm.loc[event_details_norm.dnf < 0, 'dnf'] = 0\n",
    "event_details_norm['starters'] = event_details_norm.finishers + event_details_norm.dnf"
   ]
  },
  {
   "cell_type": "code",
   "execution_count": 28,
   "id": "7359c8b3",
   "metadata": {},
   "outputs": [],
   "source": [
    "# 3. riders, with most recent club affiliation from results\n",
    "riders = \\\n",
    "    event_results.merge(events_norm, on='eid') \\\n",
    "    .sort_values('date') \\\n",
    "    .groupby('rusa') \\\n",
    "    .tail(1)\n",
    "\n",
    "riders['acp_code'] = riders['club / acp code'].str.replace('^.* / ', '', regex=True)\n",
    "riders['last_name'] = riders['name'].str.replace(',.*$', '', regex=True)\n",
    "riders['first_name'] = riders['name'].str.replace('^.*, ', '', regex=True)\n",
    "\n",
    "riders_norm = riders[['rusa', 'acp_code', 'name', 'first_name', 'last_name']]"
   ]
  },
  {
   "cell_type": "code",
   "execution_count": 60,
   "id": "1558600e",
   "metadata": {},
   "outputs": [],
   "source": [
    "# 4. event results\n",
    "event_results_norm = event_results[['cert','rusa','eid','hours','minutes','medal']] \\\n",
    "    .assign(finish_hours = lambda x: x.hours + x.minutes/60)\n"
   ]
  },
  {
   "cell_type": "code",
   "execution_count": null,
   "id": "f39a1a97",
   "metadata": {},
   "outputs": [],
   "source": []
  }
 ],
 "metadata": {
  "kernelspec": {
   "display_name": "venv",
   "language": "python",
   "name": "python3"
  },
  "language_info": {
   "codemirror_mode": {
    "name": "ipython",
    "version": 3
   },
   "file_extension": ".py",
   "mimetype": "text/x-python",
   "name": "python",
   "nbconvert_exporter": "python",
   "pygments_lexer": "ipython3",
   "version": "3.9.6"
  },
  "vscode": {
   "interpreter": {
    "hash": "3289f213dc650681c8d3b2dfc822cb516e4e6118a123f77dfa0e1a6496618a9b"
   }
  }
 },
 "nbformat": 4,
 "nbformat_minor": 5
}
